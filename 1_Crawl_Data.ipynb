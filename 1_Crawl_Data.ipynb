{
 "cells": [
  {
   "cell_type": "markdown",
   "metadata": {},
   "source": [
    "# Facebook Data Crawling\n",
    "In this notebook, we will be crawling data from Facebook using the Facebook Graph API. We will be using the facebook-scraper"
   ]
  },
  {
   "cell_type": "markdown",
   "metadata": {},
   "source": [
    "## Install the required library\n",
    "We will be using the facebook-scraper library to crawl data from Facebook. We will install this library using pip."
   ]
  },
  {
   "cell_type": "code",
   "execution_count": 7,
   "metadata": {},
   "outputs": [
    {
     "name": "stdout",
     "output_type": "stream",
     "text": [
      "Requirement already satisfied: facebook_scraper in c:\\users\\sinhd\\appdata\\local\\programs\\python\\python311\\lib\\site-packages (0.2.59)\n",
      "Requirement already satisfied: pandas in c:\\users\\sinhd\\appdata\\local\\programs\\python\\python311\\lib\\site-packages (2.1.1)\n",
      "Requirement already satisfied: numpy in c:\\users\\sinhd\\appdata\\local\\programs\\python\\python311\\lib\\site-packages (1.26.0)\n",
      "Requirement already satisfied: dateparser<2.0.0,>=1.0.0 in c:\\users\\sinhd\\appdata\\local\\programs\\python\\python311\\lib\\site-packages (from facebook_scraper) (1.1.8)\n",
      "Requirement already satisfied: demjson3<4.0.0,>=3.0.5 in c:\\users\\sinhd\\appdata\\local\\programs\\python\\python311\\lib\\site-packages (from facebook_scraper) (3.0.6)\n",
      "Requirement already satisfied: requests-html<0.11.0,>=0.10.0 in c:\\users\\sinhd\\appdata\\local\\programs\\python\\python311\\lib\\site-packages (from facebook_scraper) (0.10.0)\n",
      "Requirement already satisfied: python-dateutil>=2.8.2 in c:\\users\\sinhd\\appdata\\roaming\\python\\python311\\site-packages (from pandas) (2.8.2)\n",
      "Requirement already satisfied: pytz>=2020.1 in c:\\users\\sinhd\\appdata\\local\\programs\\python\\python311\\lib\\site-packages (from pandas) (2023.3.post1)\n",
      "Requirement already satisfied: tzdata>=2022.1 in c:\\users\\sinhd\\appdata\\local\\programs\\python\\python311\\lib\\site-packages (from pandas) (2023.3)\n",
      "Requirement already satisfied: regex!=2019.02.19,!=2021.8.27 in c:\\users\\sinhd\\appdata\\local\\programs\\python\\python311\\lib\\site-packages (from dateparser<2.0.0,>=1.0.0->facebook_scraper) (2023.10.3)\n",
      "Requirement already satisfied: tzlocal in c:\\users\\sinhd\\appdata\\local\\programs\\python\\python311\\lib\\site-packages (from dateparser<2.0.0,>=1.0.0->facebook_scraper) (5.2)\n",
      "Requirement already satisfied: six>=1.5 in c:\\users\\sinhd\\appdata\\roaming\\python\\python311\\site-packages (from python-dateutil>=2.8.2->pandas) (1.16.0)\n",
      "Requirement already satisfied: requests in c:\\users\\sinhd\\appdata\\local\\programs\\python\\python311\\lib\\site-packages (from requests-html<0.11.0,>=0.10.0->facebook_scraper) (2.31.0)\n",
      "Requirement already satisfied: pyquery in c:\\users\\sinhd\\appdata\\local\\programs\\python\\python311\\lib\\site-packages (from requests-html<0.11.0,>=0.10.0->facebook_scraper) (2.0.0)\n",
      "Requirement already satisfied: fake-useragent in c:\\users\\sinhd\\appdata\\local\\programs\\python\\python311\\lib\\site-packages (from requests-html<0.11.0,>=0.10.0->facebook_scraper) (1.3.0)\n",
      "Requirement already satisfied: parse in c:\\users\\sinhd\\appdata\\local\\programs\\python\\python311\\lib\\site-packages (from requests-html<0.11.0,>=0.10.0->facebook_scraper) (1.19.1)\n",
      "Requirement already satisfied: bs4 in c:\\users\\sinhd\\appdata\\local\\programs\\python\\python311\\lib\\site-packages (from requests-html<0.11.0,>=0.10.0->facebook_scraper) (0.0.1)\n",
      "Requirement already satisfied: w3lib in c:\\users\\sinhd\\appdata\\local\\programs\\python\\python311\\lib\\site-packages (from requests-html<0.11.0,>=0.10.0->facebook_scraper) (2.1.2)\n",
      "Requirement already satisfied: pyppeteer>=0.0.14 in c:\\users\\sinhd\\appdata\\local\\programs\\python\\python311\\lib\\site-packages (from requests-html<0.11.0,>=0.10.0->facebook_scraper) (1.0.2)\n",
      "Requirement already satisfied: appdirs<2.0.0,>=1.4.3 in c:\\users\\sinhd\\appdata\\local\\programs\\python\\python311\\lib\\site-packages (from pyppeteer>=0.0.14->requests-html<0.11.0,>=0.10.0->facebook_scraper) (1.4.4)\n",
      "Requirement already satisfied: certifi>=2021 in c:\\users\\sinhd\\appdata\\local\\programs\\python\\python311\\lib\\site-packages (from pyppeteer>=0.0.14->requests-html<0.11.0,>=0.10.0->facebook_scraper) (2023.7.22)\n",
      "Requirement already satisfied: importlib-metadata>=1.4 in c:\\users\\sinhd\\appdata\\local\\programs\\python\\python311\\lib\\site-packages (from pyppeteer>=0.0.14->requests-html<0.11.0,>=0.10.0->facebook_scraper) (6.8.0)\n",
      "Requirement already satisfied: pyee<9.0.0,>=8.1.0 in c:\\users\\sinhd\\appdata\\local\\programs\\python\\python311\\lib\\site-packages (from pyppeteer>=0.0.14->requests-html<0.11.0,>=0.10.0->facebook_scraper) (8.2.2)\n",
      "Requirement already satisfied: tqdm<5.0.0,>=4.42.1 in c:\\users\\sinhd\\appdata\\local\\programs\\python\\python311\\lib\\site-packages (from pyppeteer>=0.0.14->requests-html<0.11.0,>=0.10.0->facebook_scraper) (4.66.1)\n",
      "Requirement already satisfied: urllib3<2.0.0,>=1.25.8 in c:\\users\\sinhd\\appdata\\local\\programs\\python\\python311\\lib\\site-packages (from pyppeteer>=0.0.14->requests-html<0.11.0,>=0.10.0->facebook_scraper) (1.26.18)\n",
      "Requirement already satisfied: websockets<11.0,>=10.0 in c:\\users\\sinhd\\appdata\\local\\programs\\python\\python311\\lib\\site-packages (from pyppeteer>=0.0.14->requests-html<0.11.0,>=0.10.0->facebook_scraper) (10.4)\n",
      "Requirement already satisfied: beautifulsoup4 in c:\\users\\sinhd\\appdata\\local\\programs\\python\\python311\\lib\\site-packages (from bs4->requests-html<0.11.0,>=0.10.0->facebook_scraper) (4.12.2)\n",
      "Requirement already satisfied: lxml>=2.1 in c:\\users\\sinhd\\appdata\\local\\programs\\python\\python311\\lib\\site-packages (from pyquery->requests-html<0.11.0,>=0.10.0->facebook_scraper) (4.9.3)\n",
      "Requirement already satisfied: cssselect>=1.2.0 in c:\\users\\sinhd\\appdata\\local\\programs\\python\\python311\\lib\\site-packages (from pyquery->requests-html<0.11.0,>=0.10.0->facebook_scraper) (1.2.0)\n",
      "Requirement already satisfied: charset-normalizer<4,>=2 in c:\\users\\sinhd\\appdata\\local\\programs\\python\\python311\\lib\\site-packages (from requests->requests-html<0.11.0,>=0.10.0->facebook_scraper) (3.3.0)\n",
      "Requirement already satisfied: idna<4,>=2.5 in c:\\users\\sinhd\\appdata\\local\\programs\\python\\python311\\lib\\site-packages (from requests->requests-html<0.11.0,>=0.10.0->facebook_scraper) (3.4)\n",
      "Requirement already satisfied: zipp>=0.5 in c:\\users\\sinhd\\appdata\\local\\programs\\python\\python311\\lib\\site-packages (from importlib-metadata>=1.4->pyppeteer>=0.0.14->requests-html<0.11.0,>=0.10.0->facebook_scraper) (3.17.0)\n",
      "Requirement already satisfied: colorama in c:\\users\\sinhd\\appdata\\roaming\\python\\python311\\site-packages (from tqdm<5.0.0,>=4.42.1->pyppeteer>=0.0.14->requests-html<0.11.0,>=0.10.0->facebook_scraper) (0.4.6)\n",
      "Requirement already satisfied: soupsieve>1.2 in c:\\users\\sinhd\\appdata\\local\\programs\\python\\python311\\lib\\site-packages (from beautifulsoup4->bs4->requests-html<0.11.0,>=0.10.0->facebook_scraper) (2.5)\n",
      "Note: you may need to restart the kernel to use updated packages.\n"
     ]
    },
    {
     "name": "stderr",
     "output_type": "stream",
     "text": [
      "\n",
      "[notice] A new release of pip is available: 23.2.1 -> 23.3.1\n",
      "[notice] To update, run: python.exe -m pip install --upgrade pip\n"
     ]
    }
   ],
   "source": [
    "%pip install facebook_scraper pandas numpy"
   ]
  },
  {
   "cell_type": "code",
   "execution_count": 1,
   "metadata": {},
   "outputs": [
    {
     "name": "stderr",
     "output_type": "stream",
     "text": [
      "c:\\Users\\sinhd\\AppData\\Local\\Programs\\Python\\Python311\\Lib\\site-packages\\tqdm\\auto.py:21: TqdmWarning: IProgress not found. Please update jupyter and ipywidgets. See https://ipywidgets.readthedocs.io/en/stable/user_install.html\n",
      "  from .autonotebook import tqdm as notebook_tqdm\n"
     ]
    }
   ],
   "source": [
    "from facebook_scraper import *\n",
    "import pandas as pd\n",
    "import numpy as np"
   ]
  },
  {
   "cell_type": "markdown",
   "metadata": {},
   "source": [
    "## Crawl the data using facebook_scraper\n",
    "Now we can get the data from Facebook using the facebook_scraper library. We will be using the get_posts function to get the posts from the fanpage. This function will return a list of dictionaries, where each dictionary represents a post. We will be saving this list of dictionaries to a json file. More information about what you can do with the facebook_scraper library can be found here: https://github.com/kevinzg/facebook-scraper"
   ]
  },
  {
   "cell_type": "markdown",
   "metadata": {},
   "source": [
    "## Define variables\n",
    "First we have to define some variables that we will be using throughout the notebook. \n",
    "- FANPAGE_LINK: The link to the fanpage that we want to crawl data from. This can be found by going to the fanpage and copying the link from the address bar. For example, the link to the fanpage of the [Nintendo Switch](https://www.facebook.com/NintendoSwitch/) is https://www.facebook.com/NintendoSwitch/. We will be using this link as the value for FANPAGE_LINK.\n",
    "\n",
    "- COOKIE_PATH: The path to the cookie file that we will be using to authenticate with Facebook. This cookie file can be obtained by logging into Facebook and copying the cookie from the browser. For example, in Chromium, use extension [Get cookies.txt LOCALLY](https://chrome.google.com/webstore/detail/get-cookiestxt/bgaddhkoddajcdgocldbbfleckgcbcid) to get the cookie file. Then save the cookie to a file and use the path to this file as the value for COOKIE_PATH. <span style=\"color:red; font-weight:bold\">USE COOKIE FROM A FAKE ACCOUNT, OTHERWISE YOUR REAL ACCOUNT MIGHT GET BANNED.</span>.\n",
    "\n",
    "\n",
    "- FOLDER_NAME: The name of the folder that we will be saving the data to. This folder will be created in the same directory as this notebook."
   ]
  },
  {
   "cell_type": "code",
   "execution_count": 2,
   "metadata": {},
   "outputs": [],
   "source": [
    "FANPAGE_LINK =\"duonglendinholympia\"\n",
    "FOLDER_PATH = \"Data/\"\n",
    "COOKIE_PATH = \"./www.facebook.com_cookies.txt\"\n",
    "\n",
    "PAGES_NUMBER = 10 # Number of pages to crawl"
   ]
  },
  {
   "cell_type": "code",
   "execution_count": 3,
   "metadata": {},
   "outputs": [
    {
     "name": "stderr",
     "output_type": "stream",
     "text": [
      "c:\\Users\\sinhd\\AppData\\Local\\Programs\\Python\\Python311\\Lib\\site-packages\\facebook_scraper\\facebook_scraper.py:855: UserWarning: Facebook language detected as vi_VN - for best results, set to en_US\n",
      "  warnings.warn(\n"
     ]
    },
    {
     "name": "stdout",
     "output_type": "stream",
     "text": [
      "https://facebook.com/duonglendinholympia/posts/743510297800674\n"
     ]
    },
    {
     "name": "stderr",
     "output_type": "stream",
     "text": [
      "Traceback (most recent call last):\n",
      "  File \"c:\\Users\\sinhd\\AppData\\Local\\Programs\\Python\\Python311\\Lib\\site-packages\\facebook_scraper\\utils.py\", line 279, in safe_consume\n",
      "    for item in generator:\n",
      "  File \"c:\\Users\\sinhd\\AppData\\Local\\Programs\\Python\\Python311\\Lib\\site-packages\\facebook_scraper\\extractors.py\", line 1140, in extract_comment_replies\n",
      "    for action in data['payload']['actions']:\n",
      "                  ~~~~~~~~~~~~~~~^^^^^^^^^^^\n",
      "TypeError: 'NoneType' object is not subscriptable\n"
     ]
    },
    {
     "name": "stdout",
     "output_type": "stream",
     "text": [
      "https://facebook.com/duonglendinholympia/posts/743522191132818\n"
     ]
    },
    {
     "name": "stderr",
     "output_type": "stream",
     "text": [
      "Traceback (most recent call last):\n",
      "  File \"c:\\Users\\sinhd\\AppData\\Local\\Programs\\Python\\Python311\\Lib\\site-packages\\facebook_scraper\\utils.py\", line 279, in safe_consume\n",
      "    for item in generator:\n",
      "  File \"c:\\Users\\sinhd\\AppData\\Local\\Programs\\Python\\Python311\\Lib\\site-packages\\facebook_scraper\\extractors.py\", line 708, in extract_reactors\n",
      "    data = json.loads(response.text[prefix_length:])  # Strip 'for (;;);'\n",
      "           ^^^^^^^^^^^^^^^^^^^^^^^^^^^^^^^^^^^^^^^^^\n",
      "  File \"c:\\Users\\sinhd\\AppData\\Local\\Programs\\Python\\Python311\\Lib\\json\\__init__.py\", line 346, in loads\n",
      "    return _default_decoder.decode(s)\n",
      "           ^^^^^^^^^^^^^^^^^^^^^^^^^^\n",
      "  File \"c:\\Users\\sinhd\\AppData\\Local\\Programs\\Python\\Python311\\Lib\\json\\decoder.py\", line 337, in decode\n",
      "    obj, end = self.raw_decode(s, idx=_w(s, 0).end())\n",
      "               ^^^^^^^^^^^^^^^^^^^^^^^^^^^^^^^^^^^^^^\n",
      "  File \"c:\\Users\\sinhd\\AppData\\Local\\Programs\\Python\\Python311\\Lib\\json\\decoder.py\", line 355, in raw_decode\n",
      "    raise JSONDecodeError(\"Expecting value\", s, err.value) from None\n",
      "json.decoder.JSONDecodeError: Expecting value: line 1 column 2 (char 1)\n"
     ]
    },
    {
     "name": "stdout",
     "output_type": "stream",
     "text": [
      "https://facebook.com/duonglendinholympia/posts/743520434466327\n"
     ]
    },
    {
     "name": "stderr",
     "output_type": "stream",
     "text": [
      "Traceback (most recent call last):\n",
      "  File \"c:\\Users\\sinhd\\AppData\\Local\\Programs\\Python\\Python311\\Lib\\site-packages\\facebook_scraper\\utils.py\", line 279, in safe_consume\n",
      "    for item in generator:\n",
      "  File \"c:\\Users\\sinhd\\AppData\\Local\\Programs\\Python\\Python311\\Lib\\site-packages\\facebook_scraper\\extractors.py\", line 708, in extract_reactors\n",
      "    data = json.loads(response.text[prefix_length:])  # Strip 'for (;;);'\n",
      "           ^^^^^^^^^^^^^^^^^^^^^^^^^^^^^^^^^^^^^^^^^\n",
      "  File \"c:\\Users\\sinhd\\AppData\\Local\\Programs\\Python\\Python311\\Lib\\json\\__init__.py\", line 346, in loads\n",
      "    return _default_decoder.decode(s)\n",
      "           ^^^^^^^^^^^^^^^^^^^^^^^^^^\n",
      "  File \"c:\\Users\\sinhd\\AppData\\Local\\Programs\\Python\\Python311\\Lib\\json\\decoder.py\", line 337, in decode\n",
      "    obj, end = self.raw_decode(s, idx=_w(s, 0).end())\n",
      "               ^^^^^^^^^^^^^^^^^^^^^^^^^^^^^^^^^^^^^^\n",
      "  File \"c:\\Users\\sinhd\\AppData\\Local\\Programs\\Python\\Python311\\Lib\\json\\decoder.py\", line 355, in raw_decode\n",
      "    raise JSONDecodeError(\"Expecting value\", s, err.value) from None\n",
      "json.decoder.JSONDecodeError: Expecting value: line 1 column 2 (char 1)\n"
     ]
    },
    {
     "name": "stdout",
     "output_type": "stream",
     "text": [
      "https://facebook.com/duonglendinholympia/posts/743506804467690\n"
     ]
    },
    {
     "name": "stderr",
     "output_type": "stream",
     "text": [
      "Traceback (most recent call last):\n",
      "  File \"c:\\Users\\sinhd\\AppData\\Local\\Programs\\Python\\Python311\\Lib\\site-packages\\facebook_scraper\\utils.py\", line 279, in safe_consume\n",
      "    for item in generator:\n",
      "  File \"c:\\Users\\sinhd\\AppData\\Local\\Programs\\Python\\Python311\\Lib\\site-packages\\facebook_scraper\\extractors.py\", line 708, in extract_reactors\n",
      "    data = json.loads(response.text[prefix_length:])  # Strip 'for (;;);'\n",
      "           ^^^^^^^^^^^^^^^^^^^^^^^^^^^^^^^^^^^^^^^^^\n",
      "  File \"c:\\Users\\sinhd\\AppData\\Local\\Programs\\Python\\Python311\\Lib\\json\\__init__.py\", line 346, in loads\n",
      "    return _default_decoder.decode(s)\n",
      "           ^^^^^^^^^^^^^^^^^^^^^^^^^^\n",
      "  File \"c:\\Users\\sinhd\\AppData\\Local\\Programs\\Python\\Python311\\Lib\\json\\decoder.py\", line 337, in decode\n",
      "    obj, end = self.raw_decode(s, idx=_w(s, 0).end())\n",
      "               ^^^^^^^^^^^^^^^^^^^^^^^^^^^^^^^^^^^^^^\n",
      "  File \"c:\\Users\\sinhd\\AppData\\Local\\Programs\\Python\\Python311\\Lib\\json\\decoder.py\", line 355, in raw_decode\n",
      "    raise JSONDecodeError(\"Expecting value\", s, err.value) from None\n",
      "json.decoder.JSONDecodeError: Expecting value: line 1 column 2 (char 1)\n"
     ]
    },
    {
     "name": "stdout",
     "output_type": "stream",
     "text": [
      "https://facebook.com/duonglendinholympia/posts/743517394466631\n",
      "https://facebook.com/duonglendinholympia/posts/743512101133827\n"
     ]
    },
    {
     "name": "stderr",
     "output_type": "stream",
     "text": [
      "Traceback (most recent call last):\n",
      "  File \"c:\\Users\\sinhd\\AppData\\Local\\Programs\\Python\\Python311\\Lib\\site-packages\\facebook_scraper\\utils.py\", line 279, in safe_consume\n",
      "    for item in generator:\n",
      "  File \"c:\\Users\\sinhd\\AppData\\Local\\Programs\\Python\\Python311\\Lib\\site-packages\\facebook_scraper\\extractors.py\", line 708, in extract_reactors\n",
      "    data = json.loads(response.text[prefix_length:])  # Strip 'for (;;);'\n",
      "           ^^^^^^^^^^^^^^^^^^^^^^^^^^^^^^^^^^^^^^^^^\n",
      "  File \"c:\\Users\\sinhd\\AppData\\Local\\Programs\\Python\\Python311\\Lib\\json\\__init__.py\", line 346, in loads\n",
      "    return _default_decoder.decode(s)\n",
      "           ^^^^^^^^^^^^^^^^^^^^^^^^^^\n",
      "  File \"c:\\Users\\sinhd\\AppData\\Local\\Programs\\Python\\Python311\\Lib\\json\\decoder.py\", line 337, in decode\n",
      "    obj, end = self.raw_decode(s, idx=_w(s, 0).end())\n",
      "               ^^^^^^^^^^^^^^^^^^^^^^^^^^^^^^^^^^^^^^\n",
      "  File \"c:\\Users\\sinhd\\AppData\\Local\\Programs\\Python\\Python311\\Lib\\json\\decoder.py\", line 355, in raw_decode\n",
      "    raise JSONDecodeError(\"Expecting value\", s, err.value) from None\n",
      "json.decoder.JSONDecodeError: Expecting value: line 1 column 2 (char 1)\n"
     ]
    },
    {
     "name": "stdout",
     "output_type": "stream",
     "text": [
      "https://facebook.com/duonglendinholympia/posts/742539641231073\n"
     ]
    },
    {
     "name": "stderr",
     "output_type": "stream",
     "text": [
      "Traceback (most recent call last):\n",
      "  File \"c:\\Users\\sinhd\\AppData\\Local\\Programs\\Python\\Python311\\Lib\\site-packages\\facebook_scraper\\utils.py\", line 279, in safe_consume\n",
      "    for item in generator:\n",
      "  File \"c:\\Users\\sinhd\\AppData\\Local\\Programs\\Python\\Python311\\Lib\\site-packages\\facebook_scraper\\extractors.py\", line 708, in extract_reactors\n",
      "    data = json.loads(response.text[prefix_length:])  # Strip 'for (;;);'\n",
      "           ^^^^^^^^^^^^^^^^^^^^^^^^^^^^^^^^^^^^^^^^^\n",
      "  File \"c:\\Users\\sinhd\\AppData\\Local\\Programs\\Python\\Python311\\Lib\\json\\__init__.py\", line 346, in loads\n",
      "    return _default_decoder.decode(s)\n",
      "           ^^^^^^^^^^^^^^^^^^^^^^^^^^\n",
      "  File \"c:\\Users\\sinhd\\AppData\\Local\\Programs\\Python\\Python311\\Lib\\json\\decoder.py\", line 337, in decode\n",
      "    obj, end = self.raw_decode(s, idx=_w(s, 0).end())\n",
      "               ^^^^^^^^^^^^^^^^^^^^^^^^^^^^^^^^^^^^^^\n",
      "  File \"c:\\Users\\sinhd\\AppData\\Local\\Programs\\Python\\Python311\\Lib\\json\\decoder.py\", line 355, in raw_decode\n",
      "    raise JSONDecodeError(\"Expecting value\", s, err.value) from None\n",
      "json.decoder.JSONDecodeError: Expecting value: line 1 column 2 (char 1)\n"
     ]
    },
    {
     "name": "stdout",
     "output_type": "stream",
     "text": [
      "https://facebook.com/duonglendinholympia/posts/740366634781707\n"
     ]
    },
    {
     "name": "stderr",
     "output_type": "stream",
     "text": [
      "Traceback (most recent call last):\n",
      "  File \"c:\\Users\\sinhd\\AppData\\Local\\Programs\\Python\\Python311\\Lib\\site-packages\\facebook_scraper\\utils.py\", line 279, in safe_consume\n",
      "    for item in generator:\n",
      "  File \"c:\\Users\\sinhd\\AppData\\Local\\Programs\\Python\\Python311\\Lib\\site-packages\\facebook_scraper\\extractors.py\", line 708, in extract_reactors\n",
      "    data = json.loads(response.text[prefix_length:])  # Strip 'for (;;);'\n",
      "           ^^^^^^^^^^^^^^^^^^^^^^^^^^^^^^^^^^^^^^^^^\n",
      "  File \"c:\\Users\\sinhd\\AppData\\Local\\Programs\\Python\\Python311\\Lib\\json\\__init__.py\", line 346, in loads\n",
      "    return _default_decoder.decode(s)\n",
      "           ^^^^^^^^^^^^^^^^^^^^^^^^^^\n",
      "  File \"c:\\Users\\sinhd\\AppData\\Local\\Programs\\Python\\Python311\\Lib\\json\\decoder.py\", line 337, in decode\n",
      "    obj, end = self.raw_decode(s, idx=_w(s, 0).end())\n",
      "               ^^^^^^^^^^^^^^^^^^^^^^^^^^^^^^^^^^^^^^\n",
      "  File \"c:\\Users\\sinhd\\AppData\\Local\\Programs\\Python\\Python311\\Lib\\json\\decoder.py\", line 355, in raw_decode\n",
      "    raise JSONDecodeError(\"Expecting value\", s, err.value) from None\n",
      "json.decoder.JSONDecodeError: Expecting value: line 1 column 2 (char 1)\n"
     ]
    },
    {
     "name": "stdout",
     "output_type": "stream",
     "text": [
      "https://facebook.com/duonglendinholympia/posts/740267858124918\n"
     ]
    },
    {
     "name": "stderr",
     "output_type": "stream",
     "text": [
      "Traceback (most recent call last):\n",
      "  File \"c:\\Users\\sinhd\\AppData\\Local\\Programs\\Python\\Python311\\Lib\\site-packages\\facebook_scraper\\utils.py\", line 279, in safe_consume\n",
      "    for item in generator:\n",
      "  File \"c:\\Users\\sinhd\\AppData\\Local\\Programs\\Python\\Python311\\Lib\\site-packages\\facebook_scraper\\extractors.py\", line 708, in extract_reactors\n",
      "    data = json.loads(response.text[prefix_length:])  # Strip 'for (;;);'\n",
      "           ^^^^^^^^^^^^^^^^^^^^^^^^^^^^^^^^^^^^^^^^^\n",
      "  File \"c:\\Users\\sinhd\\AppData\\Local\\Programs\\Python\\Python311\\Lib\\json\\__init__.py\", line 346, in loads\n",
      "    return _default_decoder.decode(s)\n",
      "           ^^^^^^^^^^^^^^^^^^^^^^^^^^\n",
      "  File \"c:\\Users\\sinhd\\AppData\\Local\\Programs\\Python\\Python311\\Lib\\json\\decoder.py\", line 337, in decode\n",
      "    obj, end = self.raw_decode(s, idx=_w(s, 0).end())\n",
      "               ^^^^^^^^^^^^^^^^^^^^^^^^^^^^^^^^^^^^^^\n",
      "  File \"c:\\Users\\sinhd\\AppData\\Local\\Programs\\Python\\Python311\\Lib\\json\\decoder.py\", line 355, in raw_decode\n",
      "    raise JSONDecodeError(\"Expecting value\", s, err.value) from None\n",
      "json.decoder.JSONDecodeError: Expecting value: line 1 column 2 (char 1)\n"
     ]
    },
    {
     "name": "stdout",
     "output_type": "stream",
     "text": [
      "https://facebook.com/duonglendinholympia/posts/739768378174866\n",
      "https://facebook.com/duonglendinholympia/posts/739722894846081\n"
     ]
    },
    {
     "name": "stderr",
     "output_type": "stream",
     "text": [
      "Traceback (most recent call last):\n",
      "  File \"c:\\Users\\sinhd\\AppData\\Local\\Programs\\Python\\Python311\\Lib\\site-packages\\facebook_scraper\\utils.py\", line 279, in safe_consume\n",
      "    for item in generator:\n",
      "  File \"c:\\Users\\sinhd\\AppData\\Local\\Programs\\Python\\Python311\\Lib\\site-packages\\facebook_scraper\\extractors.py\", line 708, in extract_reactors\n",
      "    data = json.loads(response.text[prefix_length:])  # Strip 'for (;;);'\n",
      "           ^^^^^^^^^^^^^^^^^^^^^^^^^^^^^^^^^^^^^^^^^\n",
      "  File \"c:\\Users\\sinhd\\AppData\\Local\\Programs\\Python\\Python311\\Lib\\json\\__init__.py\", line 346, in loads\n",
      "    return _default_decoder.decode(s)\n",
      "           ^^^^^^^^^^^^^^^^^^^^^^^^^^\n",
      "  File \"c:\\Users\\sinhd\\AppData\\Local\\Programs\\Python\\Python311\\Lib\\json\\decoder.py\", line 337, in decode\n",
      "    obj, end = self.raw_decode(s, idx=_w(s, 0).end())\n",
      "               ^^^^^^^^^^^^^^^^^^^^^^^^^^^^^^^^^^^^^^\n",
      "  File \"c:\\Users\\sinhd\\AppData\\Local\\Programs\\Python\\Python311\\Lib\\json\\decoder.py\", line 355, in raw_decode\n",
      "    raise JSONDecodeError(\"Expecting value\", s, err.value) from None\n",
      "json.decoder.JSONDecodeError: Expecting value: line 1 column 2 (char 1)\n"
     ]
    },
    {
     "name": "stdout",
     "output_type": "stream",
     "text": [
      "https://facebook.com/duonglendinholympia/posts/739711378180566\n"
     ]
    },
    {
     "name": "stderr",
     "output_type": "stream",
     "text": [
      "Traceback (most recent call last):\n",
      "  File \"c:\\Users\\sinhd\\AppData\\Local\\Programs\\Python\\Python311\\Lib\\site-packages\\facebook_scraper\\utils.py\", line 279, in safe_consume\n",
      "    for item in generator:\n",
      "  File \"c:\\Users\\sinhd\\AppData\\Local\\Programs\\Python\\Python311\\Lib\\site-packages\\facebook_scraper\\extractors.py\", line 708, in extract_reactors\n",
      "    data = json.loads(response.text[prefix_length:])  # Strip 'for (;;);'\n",
      "           ^^^^^^^^^^^^^^^^^^^^^^^^^^^^^^^^^^^^^^^^^\n",
      "  File \"c:\\Users\\sinhd\\AppData\\Local\\Programs\\Python\\Python311\\Lib\\json\\__init__.py\", line 346, in loads\n",
      "    return _default_decoder.decode(s)\n",
      "           ^^^^^^^^^^^^^^^^^^^^^^^^^^\n",
      "  File \"c:\\Users\\sinhd\\AppData\\Local\\Programs\\Python\\Python311\\Lib\\json\\decoder.py\", line 337, in decode\n",
      "    obj, end = self.raw_decode(s, idx=_w(s, 0).end())\n",
      "               ^^^^^^^^^^^^^^^^^^^^^^^^^^^^^^^^^^^^^^\n",
      "  File \"c:\\Users\\sinhd\\AppData\\Local\\Programs\\Python\\Python311\\Lib\\json\\decoder.py\", line 355, in raw_decode\n",
      "    raise JSONDecodeError(\"Expecting value\", s, err.value) from None\n",
      "json.decoder.JSONDecodeError: Expecting value: line 1 column 2 (char 1)\n"
     ]
    },
    {
     "name": "stdout",
     "output_type": "stream",
     "text": [
      "https://facebook.com/duonglendinholympia/posts/739311531553884\n"
     ]
    },
    {
     "name": "stderr",
     "output_type": "stream",
     "text": [
      "Traceback (most recent call last):\n",
      "  File \"c:\\Users\\sinhd\\AppData\\Local\\Programs\\Python\\Python311\\Lib\\site-packages\\facebook_scraper\\utils.py\", line 279, in safe_consume\n",
      "    for item in generator:\n",
      "  File \"c:\\Users\\sinhd\\AppData\\Local\\Programs\\Python\\Python311\\Lib\\site-packages\\facebook_scraper\\extractors.py\", line 708, in extract_reactors\n",
      "    data = json.loads(response.text[prefix_length:])  # Strip 'for (;;);'\n",
      "           ^^^^^^^^^^^^^^^^^^^^^^^^^^^^^^^^^^^^^^^^^\n",
      "  File \"c:\\Users\\sinhd\\AppData\\Local\\Programs\\Python\\Python311\\Lib\\json\\__init__.py\", line 346, in loads\n",
      "    return _default_decoder.decode(s)\n",
      "           ^^^^^^^^^^^^^^^^^^^^^^^^^^\n",
      "  File \"c:\\Users\\sinhd\\AppData\\Local\\Programs\\Python\\Python311\\Lib\\json\\decoder.py\", line 337, in decode\n",
      "    obj, end = self.raw_decode(s, idx=_w(s, 0).end())\n",
      "               ^^^^^^^^^^^^^^^^^^^^^^^^^^^^^^^^^^^^^^\n",
      "  File \"c:\\Users\\sinhd\\AppData\\Local\\Programs\\Python\\Python311\\Lib\\json\\decoder.py\", line 355, in raw_decode\n",
      "    raise JSONDecodeError(\"Expecting value\", s, err.value) from None\n",
      "json.decoder.JSONDecodeError: Expecting value: line 1 column 2 (char 1)\n"
     ]
    },
    {
     "name": "stdout",
     "output_type": "stream",
     "text": [
      "https://facebook.com/duonglendinholympia/posts/738034585014912\n"
     ]
    },
    {
     "name": "stderr",
     "output_type": "stream",
     "text": [
      "Traceback (most recent call last):\n",
      "  File \"c:\\Users\\sinhd\\AppData\\Local\\Programs\\Python\\Python311\\Lib\\site-packages\\facebook_scraper\\utils.py\", line 279, in safe_consume\n",
      "    for item in generator:\n",
      "  File \"c:\\Users\\sinhd\\AppData\\Local\\Programs\\Python\\Python311\\Lib\\site-packages\\facebook_scraper\\extractors.py\", line 708, in extract_reactors\n",
      "    data = json.loads(response.text[prefix_length:])  # Strip 'for (;;);'\n",
      "           ^^^^^^^^^^^^^^^^^^^^^^^^^^^^^^^^^^^^^^^^^\n",
      "  File \"c:\\Users\\sinhd\\AppData\\Local\\Programs\\Python\\Python311\\Lib\\json\\__init__.py\", line 346, in loads\n",
      "    return _default_decoder.decode(s)\n",
      "           ^^^^^^^^^^^^^^^^^^^^^^^^^^\n",
      "  File \"c:\\Users\\sinhd\\AppData\\Local\\Programs\\Python\\Python311\\Lib\\json\\decoder.py\", line 337, in decode\n",
      "    obj, end = self.raw_decode(s, idx=_w(s, 0).end())\n",
      "               ^^^^^^^^^^^^^^^^^^^^^^^^^^^^^^^^^^^^^^\n",
      "  File \"c:\\Users\\sinhd\\AppData\\Local\\Programs\\Python\\Python311\\Lib\\json\\decoder.py\", line 355, in raw_decode\n",
      "    raise JSONDecodeError(\"Expecting value\", s, err.value) from None\n",
      "json.decoder.JSONDecodeError: Expecting value: line 1 column 2 (char 1)\n"
     ]
    },
    {
     "name": "stdout",
     "output_type": "stream",
     "text": [
      "https://facebook.com/duonglendinholympia/posts/737868055031565\n"
     ]
    },
    {
     "name": "stderr",
     "output_type": "stream",
     "text": [
      "Traceback (most recent call last):\n",
      "  File \"c:\\Users\\sinhd\\AppData\\Local\\Programs\\Python\\Python311\\Lib\\site-packages\\facebook_scraper\\utils.py\", line 279, in safe_consume\n",
      "    for item in generator:\n",
      "  File \"c:\\Users\\sinhd\\AppData\\Local\\Programs\\Python\\Python311\\Lib\\site-packages\\facebook_scraper\\extractors.py\", line 708, in extract_reactors\n",
      "    data = json.loads(response.text[prefix_length:])  # Strip 'for (;;);'\n",
      "           ^^^^^^^^^^^^^^^^^^^^^^^^^^^^^^^^^^^^^^^^^\n",
      "  File \"c:\\Users\\sinhd\\AppData\\Local\\Programs\\Python\\Python311\\Lib\\json\\__init__.py\", line 346, in loads\n",
      "    return _default_decoder.decode(s)\n",
      "           ^^^^^^^^^^^^^^^^^^^^^^^^^^\n",
      "  File \"c:\\Users\\sinhd\\AppData\\Local\\Programs\\Python\\Python311\\Lib\\json\\decoder.py\", line 337, in decode\n",
      "    obj, end = self.raw_decode(s, idx=_w(s, 0).end())\n",
      "               ^^^^^^^^^^^^^^^^^^^^^^^^^^^^^^^^^^^^^^\n",
      "  File \"c:\\Users\\sinhd\\AppData\\Local\\Programs\\Python\\Python311\\Lib\\json\\decoder.py\", line 355, in raw_decode\n",
      "    raise JSONDecodeError(\"Expecting value\", s, err.value) from None\n",
      "json.decoder.JSONDecodeError: Expecting value: line 1 column 2 (char 1)\n"
     ]
    },
    {
     "name": "stdout",
     "output_type": "stream",
     "text": [
      "https://facebook.com/duonglendinholympia/posts/737226371762400\n"
     ]
    },
    {
     "name": "stderr",
     "output_type": "stream",
     "text": [
      "Traceback (most recent call last):\n",
      "  File \"c:\\Users\\sinhd\\AppData\\Local\\Programs\\Python\\Python311\\Lib\\site-packages\\facebook_scraper\\utils.py\", line 279, in safe_consume\n",
      "    for item in generator:\n",
      "  File \"c:\\Users\\sinhd\\AppData\\Local\\Programs\\Python\\Python311\\Lib\\site-packages\\facebook_scraper\\extractors.py\", line 708, in extract_reactors\n",
      "    data = json.loads(response.text[prefix_length:])  # Strip 'for (;;);'\n",
      "           ^^^^^^^^^^^^^^^^^^^^^^^^^^^^^^^^^^^^^^^^^\n",
      "  File \"c:\\Users\\sinhd\\AppData\\Local\\Programs\\Python\\Python311\\Lib\\json\\__init__.py\", line 346, in loads\n",
      "    return _default_decoder.decode(s)\n",
      "           ^^^^^^^^^^^^^^^^^^^^^^^^^^\n",
      "  File \"c:\\Users\\sinhd\\AppData\\Local\\Programs\\Python\\Python311\\Lib\\json\\decoder.py\", line 337, in decode\n",
      "    obj, end = self.raw_decode(s, idx=_w(s, 0).end())\n",
      "               ^^^^^^^^^^^^^^^^^^^^^^^^^^^^^^^^^^^^^^\n",
      "  File \"c:\\Users\\sinhd\\AppData\\Local\\Programs\\Python\\Python311\\Lib\\json\\decoder.py\", line 355, in raw_decode\n",
      "    raise JSONDecodeError(\"Expecting value\", s, err.value) from None\n",
      "json.decoder.JSONDecodeError: Expecting value: line 1 column 2 (char 1)\n"
     ]
    },
    {
     "name": "stdout",
     "output_type": "stream",
     "text": [
      "https://facebook.com/duonglendinholympia/posts/736195085198862\n"
     ]
    },
    {
     "name": "stderr",
     "output_type": "stream",
     "text": [
      "Traceback (most recent call last):\n",
      "  File \"c:\\Users\\sinhd\\AppData\\Local\\Programs\\Python\\Python311\\Lib\\site-packages\\facebook_scraper\\utils.py\", line 279, in safe_consume\n",
      "    for item in generator:\n",
      "  File \"c:\\Users\\sinhd\\AppData\\Local\\Programs\\Python\\Python311\\Lib\\site-packages\\facebook_scraper\\extractors.py\", line 708, in extract_reactors\n",
      "    data = json.loads(response.text[prefix_length:])  # Strip 'for (;;);'\n",
      "           ^^^^^^^^^^^^^^^^^^^^^^^^^^^^^^^^^^^^^^^^^\n",
      "  File \"c:\\Users\\sinhd\\AppData\\Local\\Programs\\Python\\Python311\\Lib\\json\\__init__.py\", line 346, in loads\n",
      "    return _default_decoder.decode(s)\n",
      "           ^^^^^^^^^^^^^^^^^^^^^^^^^^\n",
      "  File \"c:\\Users\\sinhd\\AppData\\Local\\Programs\\Python\\Python311\\Lib\\json\\decoder.py\", line 337, in decode\n",
      "    obj, end = self.raw_decode(s, idx=_w(s, 0).end())\n",
      "               ^^^^^^^^^^^^^^^^^^^^^^^^^^^^^^^^^^^^^^\n",
      "  File \"c:\\Users\\sinhd\\AppData\\Local\\Programs\\Python\\Python311\\Lib\\json\\decoder.py\", line 355, in raw_decode\n",
      "    raise JSONDecodeError(\"Expecting value\", s, err.value) from None\n",
      "json.decoder.JSONDecodeError: Expecting value: line 1 column 2 (char 1)\n"
     ]
    },
    {
     "name": "stdout",
     "output_type": "stream",
     "text": [
      "https://facebook.com/duonglendinholympia/posts/736215095196861\n"
     ]
    },
    {
     "name": "stderr",
     "output_type": "stream",
     "text": [
      "Traceback (most recent call last):\n",
      "  File \"c:\\Users\\sinhd\\AppData\\Local\\Programs\\Python\\Python311\\Lib\\site-packages\\facebook_scraper\\utils.py\", line 279, in safe_consume\n",
      "    for item in generator:\n",
      "  File \"c:\\Users\\sinhd\\AppData\\Local\\Programs\\Python\\Python311\\Lib\\site-packages\\facebook_scraper\\extractors.py\", line 708, in extract_reactors\n",
      "    data = json.loads(response.text[prefix_length:])  # Strip 'for (;;);'\n",
      "           ^^^^^^^^^^^^^^^^^^^^^^^^^^^^^^^^^^^^^^^^^\n",
      "  File \"c:\\Users\\sinhd\\AppData\\Local\\Programs\\Python\\Python311\\Lib\\json\\__init__.py\", line 346, in loads\n",
      "    return _default_decoder.decode(s)\n",
      "           ^^^^^^^^^^^^^^^^^^^^^^^^^^\n",
      "  File \"c:\\Users\\sinhd\\AppData\\Local\\Programs\\Python\\Python311\\Lib\\json\\decoder.py\", line 337, in decode\n",
      "    obj, end = self.raw_decode(s, idx=_w(s, 0).end())\n",
      "               ^^^^^^^^^^^^^^^^^^^^^^^^^^^^^^^^^^^^^^\n",
      "  File \"c:\\Users\\sinhd\\AppData\\Local\\Programs\\Python\\Python311\\Lib\\json\\decoder.py\", line 355, in raw_decode\n",
      "    raise JSONDecodeError(\"Expecting value\", s, err.value) from None\n",
      "json.decoder.JSONDecodeError: Expecting value: line 1 column 2 (char 1)\n"
     ]
    },
    {
     "name": "stdout",
     "output_type": "stream",
     "text": [
      "https://facebook.com/duonglendinholympia/posts/735127435305627\n"
     ]
    },
    {
     "name": "stderr",
     "output_type": "stream",
     "text": [
      "Traceback (most recent call last):\n",
      "  File \"c:\\Users\\sinhd\\AppData\\Local\\Programs\\Python\\Python311\\Lib\\site-packages\\facebook_scraper\\utils.py\", line 279, in safe_consume\n",
      "    for item in generator:\n",
      "  File \"c:\\Users\\sinhd\\AppData\\Local\\Programs\\Python\\Python311\\Lib\\site-packages\\facebook_scraper\\extractors.py\", line 708, in extract_reactors\n",
      "    data = json.loads(response.text[prefix_length:])  # Strip 'for (;;);'\n",
      "           ^^^^^^^^^^^^^^^^^^^^^^^^^^^^^^^^^^^^^^^^^\n",
      "  File \"c:\\Users\\sinhd\\AppData\\Local\\Programs\\Python\\Python311\\Lib\\json\\__init__.py\", line 346, in loads\n",
      "    return _default_decoder.decode(s)\n",
      "           ^^^^^^^^^^^^^^^^^^^^^^^^^^\n",
      "  File \"c:\\Users\\sinhd\\AppData\\Local\\Programs\\Python\\Python311\\Lib\\json\\decoder.py\", line 337, in decode\n",
      "    obj, end = self.raw_decode(s, idx=_w(s, 0).end())\n",
      "               ^^^^^^^^^^^^^^^^^^^^^^^^^^^^^^^^^^^^^^\n",
      "  File \"c:\\Users\\sinhd\\AppData\\Local\\Programs\\Python\\Python311\\Lib\\json\\decoder.py\", line 355, in raw_decode\n",
      "    raise JSONDecodeError(\"Expecting value\", s, err.value) from None\n",
      "json.decoder.JSONDecodeError: Expecting value: line 1 column 2 (char 1)\n"
     ]
    },
    {
     "name": "stdout",
     "output_type": "stream",
     "text": [
      "https://facebook.com/duonglendinholympia/posts/735140551970982\n"
     ]
    },
    {
     "name": "stderr",
     "output_type": "stream",
     "text": [
      "Traceback (most recent call last):\n",
      "  File \"c:\\Users\\sinhd\\AppData\\Local\\Programs\\Python\\Python311\\Lib\\site-packages\\facebook_scraper\\utils.py\", line 279, in safe_consume\n",
      "    for item in generator:\n",
      "  File \"c:\\Users\\sinhd\\AppData\\Local\\Programs\\Python\\Python311\\Lib\\site-packages\\facebook_scraper\\extractors.py\", line 708, in extract_reactors\n",
      "    data = json.loads(response.text[prefix_length:])  # Strip 'for (;;);'\n",
      "           ^^^^^^^^^^^^^^^^^^^^^^^^^^^^^^^^^^^^^^^^^\n",
      "  File \"c:\\Users\\sinhd\\AppData\\Local\\Programs\\Python\\Python311\\Lib\\json\\__init__.py\", line 346, in loads\n",
      "    return _default_decoder.decode(s)\n",
      "           ^^^^^^^^^^^^^^^^^^^^^^^^^^\n",
      "  File \"c:\\Users\\sinhd\\AppData\\Local\\Programs\\Python\\Python311\\Lib\\json\\decoder.py\", line 337, in decode\n",
      "    obj, end = self.raw_decode(s, idx=_w(s, 0).end())\n",
      "               ^^^^^^^^^^^^^^^^^^^^^^^^^^^^^^^^^^^^^^\n",
      "  File \"c:\\Users\\sinhd\\AppData\\Local\\Programs\\Python\\Python311\\Lib\\json\\decoder.py\", line 355, in raw_decode\n",
      "    raise JSONDecodeError(\"Expecting value\", s, err.value) from None\n",
      "json.decoder.JSONDecodeError: Expecting value: line 1 column 2 (char 1)\n"
     ]
    },
    {
     "name": "stdout",
     "output_type": "stream",
     "text": [
      "https://facebook.com/duonglendinholympia/posts/735126758639028\n"
     ]
    },
    {
     "name": "stderr",
     "output_type": "stream",
     "text": [
      "Traceback (most recent call last):\n",
      "  File \"c:\\Users\\sinhd\\AppData\\Local\\Programs\\Python\\Python311\\Lib\\site-packages\\facebook_scraper\\utils.py\", line 279, in safe_consume\n",
      "    for item in generator:\n",
      "  File \"c:\\Users\\sinhd\\AppData\\Local\\Programs\\Python\\Python311\\Lib\\site-packages\\facebook_scraper\\extractors.py\", line 708, in extract_reactors\n",
      "    data = json.loads(response.text[prefix_length:])  # Strip 'for (;;);'\n",
      "           ^^^^^^^^^^^^^^^^^^^^^^^^^^^^^^^^^^^^^^^^^\n",
      "  File \"c:\\Users\\sinhd\\AppData\\Local\\Programs\\Python\\Python311\\Lib\\json\\__init__.py\", line 346, in loads\n",
      "    return _default_decoder.decode(s)\n",
      "           ^^^^^^^^^^^^^^^^^^^^^^^^^^\n",
      "  File \"c:\\Users\\sinhd\\AppData\\Local\\Programs\\Python\\Python311\\Lib\\json\\decoder.py\", line 337, in decode\n",
      "    obj, end = self.raw_decode(s, idx=_w(s, 0).end())\n",
      "               ^^^^^^^^^^^^^^^^^^^^^^^^^^^^^^^^^^^^^^\n",
      "  File \"c:\\Users\\sinhd\\AppData\\Local\\Programs\\Python\\Python311\\Lib\\json\\decoder.py\", line 355, in raw_decode\n",
      "    raise JSONDecodeError(\"Expecting value\", s, err.value) from None\n",
      "json.decoder.JSONDecodeError: Expecting value: line 1 column 2 (char 1)\n"
     ]
    },
    {
     "name": "stdout",
     "output_type": "stream",
     "text": [
      "https://facebook.com/duonglendinholympia/posts/735117528639951\n"
     ]
    },
    {
     "name": "stderr",
     "output_type": "stream",
     "text": [
      "Traceback (most recent call last):\n",
      "  File \"c:\\Users\\sinhd\\AppData\\Local\\Programs\\Python\\Python311\\Lib\\site-packages\\facebook_scraper\\utils.py\", line 279, in safe_consume\n",
      "    for item in generator:\n",
      "  File \"c:\\Users\\sinhd\\AppData\\Local\\Programs\\Python\\Python311\\Lib\\site-packages\\facebook_scraper\\extractors.py\", line 708, in extract_reactors\n",
      "    data = json.loads(response.text[prefix_length:])  # Strip 'for (;;);'\n",
      "           ^^^^^^^^^^^^^^^^^^^^^^^^^^^^^^^^^^^^^^^^^\n",
      "  File \"c:\\Users\\sinhd\\AppData\\Local\\Programs\\Python\\Python311\\Lib\\json\\__init__.py\", line 346, in loads\n",
      "    return _default_decoder.decode(s)\n",
      "           ^^^^^^^^^^^^^^^^^^^^^^^^^^\n",
      "  File \"c:\\Users\\sinhd\\AppData\\Local\\Programs\\Python\\Python311\\Lib\\json\\decoder.py\", line 337, in decode\n",
      "    obj, end = self.raw_decode(s, idx=_w(s, 0).end())\n",
      "               ^^^^^^^^^^^^^^^^^^^^^^^^^^^^^^^^^^^^^^\n",
      "  File \"c:\\Users\\sinhd\\AppData\\Local\\Programs\\Python\\Python311\\Lib\\json\\decoder.py\", line 355, in raw_decode\n",
      "    raise JSONDecodeError(\"Expecting value\", s, err.value) from None\n",
      "json.decoder.JSONDecodeError: Expecting value: line 1 column 2 (char 1)\n"
     ]
    },
    {
     "name": "stdout",
     "output_type": "stream",
     "text": [
      "https://facebook.com/duonglendinholympia/posts/734903398661364\n"
     ]
    },
    {
     "name": "stderr",
     "output_type": "stream",
     "text": [
      "Traceback (most recent call last):\n",
      "  File \"c:\\Users\\sinhd\\AppData\\Local\\Programs\\Python\\Python311\\Lib\\site-packages\\facebook_scraper\\utils.py\", line 279, in safe_consume\n",
      "    for item in generator:\n",
      "  File \"c:\\Users\\sinhd\\AppData\\Local\\Programs\\Python\\Python311\\Lib\\site-packages\\facebook_scraper\\extractors.py\", line 708, in extract_reactors\n",
      "    data = json.loads(response.text[prefix_length:])  # Strip 'for (;;);'\n",
      "           ^^^^^^^^^^^^^^^^^^^^^^^^^^^^^^^^^^^^^^^^^\n",
      "  File \"c:\\Users\\sinhd\\AppData\\Local\\Programs\\Python\\Python311\\Lib\\json\\__init__.py\", line 346, in loads\n",
      "    return _default_decoder.decode(s)\n",
      "           ^^^^^^^^^^^^^^^^^^^^^^^^^^\n",
      "  File \"c:\\Users\\sinhd\\AppData\\Local\\Programs\\Python\\Python311\\Lib\\json\\decoder.py\", line 337, in decode\n",
      "    obj, end = self.raw_decode(s, idx=_w(s, 0).end())\n",
      "               ^^^^^^^^^^^^^^^^^^^^^^^^^^^^^^^^^^^^^^\n",
      "  File \"c:\\Users\\sinhd\\AppData\\Local\\Programs\\Python\\Python311\\Lib\\json\\decoder.py\", line 355, in raw_decode\n",
      "    raise JSONDecodeError(\"Expecting value\", s, err.value) from None\n",
      "json.decoder.JSONDecodeError: Expecting value: line 1 column 2 (char 1)\n"
     ]
    },
    {
     "name": "stdout",
     "output_type": "stream",
     "text": [
      "https://facebook.com/duonglendinholympia/posts/732214615596909\n"
     ]
    },
    {
     "name": "stderr",
     "output_type": "stream",
     "text": [
      "Traceback (most recent call last):\n",
      "  File \"c:\\Users\\sinhd\\AppData\\Local\\Programs\\Python\\Python311\\Lib\\site-packages\\facebook_scraper\\utils.py\", line 279, in safe_consume\n",
      "    for item in generator:\n",
      "  File \"c:\\Users\\sinhd\\AppData\\Local\\Programs\\Python\\Python311\\Lib\\site-packages\\facebook_scraper\\extractors.py\", line 708, in extract_reactors\n",
      "    data = json.loads(response.text[prefix_length:])  # Strip 'for (;;);'\n",
      "           ^^^^^^^^^^^^^^^^^^^^^^^^^^^^^^^^^^^^^^^^^\n",
      "  File \"c:\\Users\\sinhd\\AppData\\Local\\Programs\\Python\\Python311\\Lib\\json\\__init__.py\", line 346, in loads\n",
      "    return _default_decoder.decode(s)\n",
      "           ^^^^^^^^^^^^^^^^^^^^^^^^^^\n",
      "  File \"c:\\Users\\sinhd\\AppData\\Local\\Programs\\Python\\Python311\\Lib\\json\\decoder.py\", line 337, in decode\n",
      "    obj, end = self.raw_decode(s, idx=_w(s, 0).end())\n",
      "               ^^^^^^^^^^^^^^^^^^^^^^^^^^^^^^^^^^^^^^\n",
      "  File \"c:\\Users\\sinhd\\AppData\\Local\\Programs\\Python\\Python311\\Lib\\json\\decoder.py\", line 355, in raw_decode\n",
      "    raise JSONDecodeError(\"Expecting value\", s, err.value) from None\n",
      "json.decoder.JSONDecodeError: Expecting value: line 1 column 2 (char 1)\n"
     ]
    },
    {
     "name": "stdout",
     "output_type": "stream",
     "text": [
      "https://facebook.com/duonglendinholympia/posts/731557812329256\n"
     ]
    },
    {
     "name": "stderr",
     "output_type": "stream",
     "text": [
      "Traceback (most recent call last):\n",
      "  File \"c:\\Users\\sinhd\\AppData\\Local\\Programs\\Python\\Python311\\Lib\\site-packages\\facebook_scraper\\utils.py\", line 279, in safe_consume\n",
      "    for item in generator:\n",
      "  File \"c:\\Users\\sinhd\\AppData\\Local\\Programs\\Python\\Python311\\Lib\\site-packages\\facebook_scraper\\extractors.py\", line 708, in extract_reactors\n",
      "    data = json.loads(response.text[prefix_length:])  # Strip 'for (;;);'\n",
      "           ^^^^^^^^^^^^^^^^^^^^^^^^^^^^^^^^^^^^^^^^^\n",
      "  File \"c:\\Users\\sinhd\\AppData\\Local\\Programs\\Python\\Python311\\Lib\\json\\__init__.py\", line 346, in loads\n",
      "    return _default_decoder.decode(s)\n",
      "           ^^^^^^^^^^^^^^^^^^^^^^^^^^\n",
      "  File \"c:\\Users\\sinhd\\AppData\\Local\\Programs\\Python\\Python311\\Lib\\json\\decoder.py\", line 337, in decode\n",
      "    obj, end = self.raw_decode(s, idx=_w(s, 0).end())\n",
      "               ^^^^^^^^^^^^^^^^^^^^^^^^^^^^^^^^^^^^^^\n",
      "  File \"c:\\Users\\sinhd\\AppData\\Local\\Programs\\Python\\Python311\\Lib\\json\\decoder.py\", line 355, in raw_decode\n",
      "    raise JSONDecodeError(\"Expecting value\", s, err.value) from None\n",
      "json.decoder.JSONDecodeError: Expecting value: line 1 column 2 (char 1)\n"
     ]
    },
    {
     "name": "stdout",
     "output_type": "stream",
     "text": [
      "https://facebook.com/duonglendinholympia/posts/731554695662901\n"
     ]
    },
    {
     "name": "stderr",
     "output_type": "stream",
     "text": [
      "Traceback (most recent call last):\n",
      "  File \"c:\\Users\\sinhd\\AppData\\Local\\Programs\\Python\\Python311\\Lib\\site-packages\\facebook_scraper\\utils.py\", line 279, in safe_consume\n",
      "    for item in generator:\n",
      "  File \"c:\\Users\\sinhd\\AppData\\Local\\Programs\\Python\\Python311\\Lib\\site-packages\\facebook_scraper\\extractors.py\", line 708, in extract_reactors\n",
      "    data = json.loads(response.text[prefix_length:])  # Strip 'for (;;);'\n",
      "           ^^^^^^^^^^^^^^^^^^^^^^^^^^^^^^^^^^^^^^^^^\n",
      "  File \"c:\\Users\\sinhd\\AppData\\Local\\Programs\\Python\\Python311\\Lib\\json\\__init__.py\", line 346, in loads\n",
      "    return _default_decoder.decode(s)\n",
      "           ^^^^^^^^^^^^^^^^^^^^^^^^^^\n",
      "  File \"c:\\Users\\sinhd\\AppData\\Local\\Programs\\Python\\Python311\\Lib\\json\\decoder.py\", line 337, in decode\n",
      "    obj, end = self.raw_decode(s, idx=_w(s, 0).end())\n",
      "               ^^^^^^^^^^^^^^^^^^^^^^^^^^^^^^^^^^^^^^\n",
      "  File \"c:\\Users\\sinhd\\AppData\\Local\\Programs\\Python\\Python311\\Lib\\json\\decoder.py\", line 355, in raw_decode\n",
      "    raise JSONDecodeError(\"Expecting value\", s, err.value) from None\n",
      "json.decoder.JSONDecodeError: Expecting value: line 1 column 2 (char 1)\n"
     ]
    },
    {
     "name": "stdout",
     "output_type": "stream",
     "text": [
      "https://facebook.com/duonglendinholympia/posts/729870792497958\n"
     ]
    },
    {
     "name": "stderr",
     "output_type": "stream",
     "text": [
      "Traceback (most recent call last):\n",
      "  File \"c:\\Users\\sinhd\\AppData\\Local\\Programs\\Python\\Python311\\Lib\\site-packages\\facebook_scraper\\utils.py\", line 279, in safe_consume\n",
      "    for item in generator:\n",
      "  File \"c:\\Users\\sinhd\\AppData\\Local\\Programs\\Python\\Python311\\Lib\\site-packages\\facebook_scraper\\extractors.py\", line 708, in extract_reactors\n",
      "    data = json.loads(response.text[prefix_length:])  # Strip 'for (;;);'\n",
      "           ^^^^^^^^^^^^^^^^^^^^^^^^^^^^^^^^^^^^^^^^^\n",
      "  File \"c:\\Users\\sinhd\\AppData\\Local\\Programs\\Python\\Python311\\Lib\\json\\__init__.py\", line 346, in loads\n",
      "    return _default_decoder.decode(s)\n",
      "           ^^^^^^^^^^^^^^^^^^^^^^^^^^\n",
      "  File \"c:\\Users\\sinhd\\AppData\\Local\\Programs\\Python\\Python311\\Lib\\json\\decoder.py\", line 337, in decode\n",
      "    obj, end = self.raw_decode(s, idx=_w(s, 0).end())\n",
      "               ^^^^^^^^^^^^^^^^^^^^^^^^^^^^^^^^^^^^^^\n",
      "  File \"c:\\Users\\sinhd\\AppData\\Local\\Programs\\Python\\Python311\\Lib\\json\\decoder.py\", line 355, in raw_decode\n",
      "    raise JSONDecodeError(\"Expecting value\", s, err.value) from None\n",
      "json.decoder.JSONDecodeError: Expecting value: line 1 column 2 (char 1)\n"
     ]
    },
    {
     "name": "stdout",
     "output_type": "stream",
     "text": [
      "https://facebook.com/duonglendinholympia/posts/728203015998069\n"
     ]
    },
    {
     "name": "stderr",
     "output_type": "stream",
     "text": [
      "Traceback (most recent call last):\n",
      "  File \"c:\\Users\\sinhd\\AppData\\Local\\Programs\\Python\\Python311\\Lib\\site-packages\\facebook_scraper\\utils.py\", line 279, in safe_consume\n",
      "    for item in generator:\n",
      "  File \"c:\\Users\\sinhd\\AppData\\Local\\Programs\\Python\\Python311\\Lib\\site-packages\\facebook_scraper\\extractors.py\", line 708, in extract_reactors\n",
      "    data = json.loads(response.text[prefix_length:])  # Strip 'for (;;);'\n",
      "           ^^^^^^^^^^^^^^^^^^^^^^^^^^^^^^^^^^^^^^^^^\n",
      "  File \"c:\\Users\\sinhd\\AppData\\Local\\Programs\\Python\\Python311\\Lib\\json\\__init__.py\", line 346, in loads\n",
      "    return _default_decoder.decode(s)\n",
      "           ^^^^^^^^^^^^^^^^^^^^^^^^^^\n",
      "  File \"c:\\Users\\sinhd\\AppData\\Local\\Programs\\Python\\Python311\\Lib\\json\\decoder.py\", line 337, in decode\n",
      "    obj, end = self.raw_decode(s, idx=_w(s, 0).end())\n",
      "               ^^^^^^^^^^^^^^^^^^^^^^^^^^^^^^^^^^^^^^\n",
      "  File \"c:\\Users\\sinhd\\AppData\\Local\\Programs\\Python\\Python311\\Lib\\json\\decoder.py\", line 355, in raw_decode\n",
      "    raise JSONDecodeError(\"Expecting value\", s, err.value) from None\n",
      "json.decoder.JSONDecodeError: Expecting value: line 1 column 2 (char 1)\n"
     ]
    },
    {
     "name": "stdout",
     "output_type": "stream",
     "text": [
      "https://facebook.com/duonglendinholympia/posts/728192615999109\n"
     ]
    },
    {
     "name": "stderr",
     "output_type": "stream",
     "text": [
      "Traceback (most recent call last):\n",
      "  File \"c:\\Users\\sinhd\\AppData\\Local\\Programs\\Python\\Python311\\Lib\\site-packages\\facebook_scraper\\utils.py\", line 279, in safe_consume\n",
      "    for item in generator:\n",
      "  File \"c:\\Users\\sinhd\\AppData\\Local\\Programs\\Python\\Python311\\Lib\\site-packages\\facebook_scraper\\extractors.py\", line 708, in extract_reactors\n",
      "    data = json.loads(response.text[prefix_length:])  # Strip 'for (;;);'\n",
      "           ^^^^^^^^^^^^^^^^^^^^^^^^^^^^^^^^^^^^^^^^^\n",
      "  File \"c:\\Users\\sinhd\\AppData\\Local\\Programs\\Python\\Python311\\Lib\\json\\__init__.py\", line 346, in loads\n",
      "    return _default_decoder.decode(s)\n",
      "           ^^^^^^^^^^^^^^^^^^^^^^^^^^\n",
      "  File \"c:\\Users\\sinhd\\AppData\\Local\\Programs\\Python\\Python311\\Lib\\json\\decoder.py\", line 337, in decode\n",
      "    obj, end = self.raw_decode(s, idx=_w(s, 0).end())\n",
      "               ^^^^^^^^^^^^^^^^^^^^^^^^^^^^^^^^^^^^^^\n",
      "  File \"c:\\Users\\sinhd\\AppData\\Local\\Programs\\Python\\Python311\\Lib\\json\\decoder.py\", line 355, in raw_decode\n",
      "    raise JSONDecodeError(\"Expecting value\", s, err.value) from None\n",
      "json.decoder.JSONDecodeError: Expecting value: line 1 column 2 (char 1)\n"
     ]
    },
    {
     "name": "stdout",
     "output_type": "stream",
     "text": [
      "https://facebook.com/duonglendinholympia/posts/727318549419849\n"
     ]
    },
    {
     "name": "stderr",
     "output_type": "stream",
     "text": [
      "Traceback (most recent call last):\n",
      "  File \"c:\\Users\\sinhd\\AppData\\Local\\Programs\\Python\\Python311\\Lib\\site-packages\\facebook_scraper\\utils.py\", line 279, in safe_consume\n",
      "    for item in generator:\n",
      "  File \"c:\\Users\\sinhd\\AppData\\Local\\Programs\\Python\\Python311\\Lib\\site-packages\\facebook_scraper\\extractors.py\", line 708, in extract_reactors\n",
      "    data = json.loads(response.text[prefix_length:])  # Strip 'for (;;);'\n",
      "           ^^^^^^^^^^^^^^^^^^^^^^^^^^^^^^^^^^^^^^^^^\n",
      "  File \"c:\\Users\\sinhd\\AppData\\Local\\Programs\\Python\\Python311\\Lib\\json\\__init__.py\", line 346, in loads\n",
      "    return _default_decoder.decode(s)\n",
      "           ^^^^^^^^^^^^^^^^^^^^^^^^^^\n",
      "  File \"c:\\Users\\sinhd\\AppData\\Local\\Programs\\Python\\Python311\\Lib\\json\\decoder.py\", line 337, in decode\n",
      "    obj, end = self.raw_decode(s, idx=_w(s, 0).end())\n",
      "               ^^^^^^^^^^^^^^^^^^^^^^^^^^^^^^^^^^^^^^\n",
      "  File \"c:\\Users\\sinhd\\AppData\\Local\\Programs\\Python\\Python311\\Lib\\json\\decoder.py\", line 355, in raw_decode\n",
      "    raise JSONDecodeError(\"Expecting value\", s, err.value) from None\n",
      "json.decoder.JSONDecodeError: Expecting value: line 1 column 2 (char 1)\n"
     ]
    },
    {
     "name": "stdout",
     "output_type": "stream",
     "text": [
      "https://facebook.com/duonglendinholympia/posts/727315972753440\n"
     ]
    },
    {
     "name": "stderr",
     "output_type": "stream",
     "text": [
      "Traceback (most recent call last):\n",
      "  File \"c:\\Users\\sinhd\\AppData\\Local\\Programs\\Python\\Python311\\Lib\\site-packages\\facebook_scraper\\utils.py\", line 279, in safe_consume\n",
      "    for item in generator:\n",
      "  File \"c:\\Users\\sinhd\\AppData\\Local\\Programs\\Python\\Python311\\Lib\\site-packages\\facebook_scraper\\extractors.py\", line 708, in extract_reactors\n",
      "    data = json.loads(response.text[prefix_length:])  # Strip 'for (;;);'\n",
      "           ^^^^^^^^^^^^^^^^^^^^^^^^^^^^^^^^^^^^^^^^^\n",
      "  File \"c:\\Users\\sinhd\\AppData\\Local\\Programs\\Python\\Python311\\Lib\\json\\__init__.py\", line 346, in loads\n",
      "    return _default_decoder.decode(s)\n",
      "           ^^^^^^^^^^^^^^^^^^^^^^^^^^\n",
      "  File \"c:\\Users\\sinhd\\AppData\\Local\\Programs\\Python\\Python311\\Lib\\json\\decoder.py\", line 337, in decode\n",
      "    obj, end = self.raw_decode(s, idx=_w(s, 0).end())\n",
      "               ^^^^^^^^^^^^^^^^^^^^^^^^^^^^^^^^^^^^^^\n",
      "  File \"c:\\Users\\sinhd\\AppData\\Local\\Programs\\Python\\Python311\\Lib\\json\\decoder.py\", line 355, in raw_decode\n",
      "    raise JSONDecodeError(\"Expecting value\", s, err.value) from None\n",
      "json.decoder.JSONDecodeError: Expecting value: line 1 column 2 (char 1)\n"
     ]
    },
    {
     "name": "stdout",
     "output_type": "stream",
     "text": [
      "https://facebook.com/duonglendinholympia/posts/727326589419045\n"
     ]
    },
    {
     "name": "stderr",
     "output_type": "stream",
     "text": [
      "Traceback (most recent call last):\n",
      "  File \"c:\\Users\\sinhd\\AppData\\Local\\Programs\\Python\\Python311\\Lib\\site-packages\\facebook_scraper\\utils.py\", line 279, in safe_consume\n",
      "    for item in generator:\n",
      "  File \"c:\\Users\\sinhd\\AppData\\Local\\Programs\\Python\\Python311\\Lib\\site-packages\\facebook_scraper\\extractors.py\", line 708, in extract_reactors\n",
      "    data = json.loads(response.text[prefix_length:])  # Strip 'for (;;);'\n",
      "           ^^^^^^^^^^^^^^^^^^^^^^^^^^^^^^^^^^^^^^^^^\n",
      "  File \"c:\\Users\\sinhd\\AppData\\Local\\Programs\\Python\\Python311\\Lib\\json\\__init__.py\", line 346, in loads\n",
      "    return _default_decoder.decode(s)\n",
      "           ^^^^^^^^^^^^^^^^^^^^^^^^^^\n",
      "  File \"c:\\Users\\sinhd\\AppData\\Local\\Programs\\Python\\Python311\\Lib\\json\\decoder.py\", line 337, in decode\n",
      "    obj, end = self.raw_decode(s, idx=_w(s, 0).end())\n",
      "               ^^^^^^^^^^^^^^^^^^^^^^^^^^^^^^^^^^^^^^\n",
      "  File \"c:\\Users\\sinhd\\AppData\\Local\\Programs\\Python\\Python311\\Lib\\json\\decoder.py\", line 355, in raw_decode\n",
      "    raise JSONDecodeError(\"Expecting value\", s, err.value) from None\n",
      "json.decoder.JSONDecodeError: Expecting value: line 1 column 2 (char 1)\n"
     ]
    },
    {
     "name": "stdout",
     "output_type": "stream",
     "text": [
      "https://facebook.com/duonglendinholympia/posts/725133699638334\n"
     ]
    },
    {
     "name": "stderr",
     "output_type": "stream",
     "text": [
      "Traceback (most recent call last):\n",
      "  File \"c:\\Users\\sinhd\\AppData\\Local\\Programs\\Python\\Python311\\Lib\\site-packages\\facebook_scraper\\utils.py\", line 279, in safe_consume\n",
      "    for item in generator:\n",
      "  File \"c:\\Users\\sinhd\\AppData\\Local\\Programs\\Python\\Python311\\Lib\\site-packages\\facebook_scraper\\extractors.py\", line 708, in extract_reactors\n",
      "    data = json.loads(response.text[prefix_length:])  # Strip 'for (;;);'\n",
      "           ^^^^^^^^^^^^^^^^^^^^^^^^^^^^^^^^^^^^^^^^^\n",
      "  File \"c:\\Users\\sinhd\\AppData\\Local\\Programs\\Python\\Python311\\Lib\\json\\__init__.py\", line 346, in loads\n",
      "    return _default_decoder.decode(s)\n",
      "           ^^^^^^^^^^^^^^^^^^^^^^^^^^\n",
      "  File \"c:\\Users\\sinhd\\AppData\\Local\\Programs\\Python\\Python311\\Lib\\json\\decoder.py\", line 337, in decode\n",
      "    obj, end = self.raw_decode(s, idx=_w(s, 0).end())\n",
      "               ^^^^^^^^^^^^^^^^^^^^^^^^^^^^^^^^^^^^^^\n",
      "  File \"c:\\Users\\sinhd\\AppData\\Local\\Programs\\Python\\Python311\\Lib\\json\\decoder.py\", line 355, in raw_decode\n",
      "    raise JSONDecodeError(\"Expecting value\", s, err.value) from None\n",
      "json.decoder.JSONDecodeError: Expecting value: line 1 column 2 (char 1)\n"
     ]
    },
    {
     "name": "stdout",
     "output_type": "stream",
     "text": [
      "https://facebook.com/duonglendinholympia/posts/722822969869407\n"
     ]
    },
    {
     "name": "stderr",
     "output_type": "stream",
     "text": [
      "Traceback (most recent call last):\n",
      "  File \"c:\\Users\\sinhd\\AppData\\Local\\Programs\\Python\\Python311\\Lib\\site-packages\\facebook_scraper\\utils.py\", line 279, in safe_consume\n",
      "    for item in generator:\n",
      "  File \"c:\\Users\\sinhd\\AppData\\Local\\Programs\\Python\\Python311\\Lib\\site-packages\\facebook_scraper\\extractors.py\", line 708, in extract_reactors\n",
      "    data = json.loads(response.text[prefix_length:])  # Strip 'for (;;);'\n",
      "           ^^^^^^^^^^^^^^^^^^^^^^^^^^^^^^^^^^^^^^^^^\n",
      "  File \"c:\\Users\\sinhd\\AppData\\Local\\Programs\\Python\\Python311\\Lib\\json\\__init__.py\", line 346, in loads\n",
      "    return _default_decoder.decode(s)\n",
      "           ^^^^^^^^^^^^^^^^^^^^^^^^^^\n",
      "  File \"c:\\Users\\sinhd\\AppData\\Local\\Programs\\Python\\Python311\\Lib\\json\\decoder.py\", line 337, in decode\n",
      "    obj, end = self.raw_decode(s, idx=_w(s, 0).end())\n",
      "               ^^^^^^^^^^^^^^^^^^^^^^^^^^^^^^^^^^^^^^\n",
      "  File \"c:\\Users\\sinhd\\AppData\\Local\\Programs\\Python\\Python311\\Lib\\json\\decoder.py\", line 355, in raw_decode\n",
      "    raise JSONDecodeError(\"Expecting value\", s, err.value) from None\n",
      "json.decoder.JSONDecodeError: Expecting value: line 1 column 2 (char 1)\n"
     ]
    },
    {
     "name": "stdout",
     "output_type": "stream",
     "text": [
      "https://facebook.com/duonglendinholympia/posts/722819999869704\n"
     ]
    },
    {
     "name": "stderr",
     "output_type": "stream",
     "text": [
      "Traceback (most recent call last):\n",
      "  File \"c:\\Users\\sinhd\\AppData\\Local\\Programs\\Python\\Python311\\Lib\\site-packages\\facebook_scraper\\utils.py\", line 279, in safe_consume\n",
      "    for item in generator:\n",
      "  File \"c:\\Users\\sinhd\\AppData\\Local\\Programs\\Python\\Python311\\Lib\\site-packages\\facebook_scraper\\extractors.py\", line 708, in extract_reactors\n",
      "    data = json.loads(response.text[prefix_length:])  # Strip 'for (;;);'\n",
      "           ^^^^^^^^^^^^^^^^^^^^^^^^^^^^^^^^^^^^^^^^^\n",
      "  File \"c:\\Users\\sinhd\\AppData\\Local\\Programs\\Python\\Python311\\Lib\\json\\__init__.py\", line 346, in loads\n",
      "    return _default_decoder.decode(s)\n",
      "           ^^^^^^^^^^^^^^^^^^^^^^^^^^\n",
      "  File \"c:\\Users\\sinhd\\AppData\\Local\\Programs\\Python\\Python311\\Lib\\json\\decoder.py\", line 337, in decode\n",
      "    obj, end = self.raw_decode(s, idx=_w(s, 0).end())\n",
      "               ^^^^^^^^^^^^^^^^^^^^^^^^^^^^^^^^^^^^^^\n",
      "  File \"c:\\Users\\sinhd\\AppData\\Local\\Programs\\Python\\Python311\\Lib\\json\\decoder.py\", line 355, in raw_decode\n",
      "    raise JSONDecodeError(\"Expecting value\", s, err.value) from None\n",
      "json.decoder.JSONDecodeError: Expecting value: line 1 column 2 (char 1)\n"
     ]
    },
    {
     "name": "stdout",
     "output_type": "stream",
     "text": [
      "https://facebook.com/duonglendinholympia/posts/722873579864346\n"
     ]
    },
    {
     "name": "stderr",
     "output_type": "stream",
     "text": [
      "Traceback (most recent call last):\n",
      "  File \"c:\\Users\\sinhd\\AppData\\Local\\Programs\\Python\\Python311\\Lib\\site-packages\\facebook_scraper\\utils.py\", line 279, in safe_consume\n",
      "    for item in generator:\n",
      "  File \"c:\\Users\\sinhd\\AppData\\Local\\Programs\\Python\\Python311\\Lib\\site-packages\\facebook_scraper\\extractors.py\", line 708, in extract_reactors\n",
      "    data = json.loads(response.text[prefix_length:])  # Strip 'for (;;);'\n",
      "           ^^^^^^^^^^^^^^^^^^^^^^^^^^^^^^^^^^^^^^^^^\n",
      "  File \"c:\\Users\\sinhd\\AppData\\Local\\Programs\\Python\\Python311\\Lib\\json\\__init__.py\", line 346, in loads\n",
      "    return _default_decoder.decode(s)\n",
      "           ^^^^^^^^^^^^^^^^^^^^^^^^^^\n",
      "  File \"c:\\Users\\sinhd\\AppData\\Local\\Programs\\Python\\Python311\\Lib\\json\\decoder.py\", line 337, in decode\n",
      "    obj, end = self.raw_decode(s, idx=_w(s, 0).end())\n",
      "               ^^^^^^^^^^^^^^^^^^^^^^^^^^^^^^^^^^^^^^\n",
      "  File \"c:\\Users\\sinhd\\AppData\\Local\\Programs\\Python\\Python311\\Lib\\json\\decoder.py\", line 355, in raw_decode\n",
      "    raise JSONDecodeError(\"Expecting value\", s, err.value) from None\n",
      "json.decoder.JSONDecodeError: Expecting value: line 1 column 2 (char 1)\n"
     ]
    },
    {
     "name": "stdout",
     "output_type": "stream",
     "text": [
      "https://facebook.com/duonglendinholympia/posts/722881809863523\n"
     ]
    },
    {
     "name": "stderr",
     "output_type": "stream",
     "text": [
      "Traceback (most recent call last):\n",
      "  File \"c:\\Users\\sinhd\\AppData\\Local\\Programs\\Python\\Python311\\Lib\\site-packages\\facebook_scraper\\utils.py\", line 279, in safe_consume\n",
      "    for item in generator:\n",
      "  File \"c:\\Users\\sinhd\\AppData\\Local\\Programs\\Python\\Python311\\Lib\\site-packages\\facebook_scraper\\extractors.py\", line 708, in extract_reactors\n",
      "    data = json.loads(response.text[prefix_length:])  # Strip 'for (;;);'\n",
      "           ^^^^^^^^^^^^^^^^^^^^^^^^^^^^^^^^^^^^^^^^^\n",
      "  File \"c:\\Users\\sinhd\\AppData\\Local\\Programs\\Python\\Python311\\Lib\\json\\__init__.py\", line 346, in loads\n",
      "    return _default_decoder.decode(s)\n",
      "           ^^^^^^^^^^^^^^^^^^^^^^^^^^\n",
      "  File \"c:\\Users\\sinhd\\AppData\\Local\\Programs\\Python\\Python311\\Lib\\json\\decoder.py\", line 337, in decode\n",
      "    obj, end = self.raw_decode(s, idx=_w(s, 0).end())\n",
      "               ^^^^^^^^^^^^^^^^^^^^^^^^^^^^^^^^^^^^^^\n",
      "  File \"c:\\Users\\sinhd\\AppData\\Local\\Programs\\Python\\Python311\\Lib\\json\\decoder.py\", line 355, in raw_decode\n",
      "    raise JSONDecodeError(\"Expecting value\", s, err.value) from None\n",
      "json.decoder.JSONDecodeError: Expecting value: line 1 column 2 (char 1)\n"
     ]
    },
    {
     "name": "stdout",
     "output_type": "stream",
     "text": [
      "https://facebook.com/duonglendinholympia/posts/722864193198618\n"
     ]
    },
    {
     "name": "stderr",
     "output_type": "stream",
     "text": [
      "Traceback (most recent call last):\n",
      "  File \"c:\\Users\\sinhd\\AppData\\Local\\Programs\\Python\\Python311\\Lib\\site-packages\\facebook_scraper\\utils.py\", line 279, in safe_consume\n",
      "    for item in generator:\n",
      "  File \"c:\\Users\\sinhd\\AppData\\Local\\Programs\\Python\\Python311\\Lib\\site-packages\\facebook_scraper\\extractors.py\", line 708, in extract_reactors\n",
      "    data = json.loads(response.text[prefix_length:])  # Strip 'for (;;);'\n",
      "           ^^^^^^^^^^^^^^^^^^^^^^^^^^^^^^^^^^^^^^^^^\n",
      "  File \"c:\\Users\\sinhd\\AppData\\Local\\Programs\\Python\\Python311\\Lib\\json\\__init__.py\", line 346, in loads\n",
      "    return _default_decoder.decode(s)\n",
      "           ^^^^^^^^^^^^^^^^^^^^^^^^^^\n",
      "  File \"c:\\Users\\sinhd\\AppData\\Local\\Programs\\Python\\Python311\\Lib\\json\\decoder.py\", line 337, in decode\n",
      "    obj, end = self.raw_decode(s, idx=_w(s, 0).end())\n",
      "               ^^^^^^^^^^^^^^^^^^^^^^^^^^^^^^^^^^^^^^\n",
      "  File \"c:\\Users\\sinhd\\AppData\\Local\\Programs\\Python\\Python311\\Lib\\json\\decoder.py\", line 355, in raw_decode\n",
      "    raise JSONDecodeError(\"Expecting value\", s, err.value) from None\n",
      "json.decoder.JSONDecodeError: Expecting value: line 1 column 2 (char 1)\n"
     ]
    },
    {
     "name": "stdout",
     "output_type": "stream",
     "text": [
      "https://facebook.com/duonglendinholympia/posts/722818656536505\n"
     ]
    },
    {
     "name": "stderr",
     "output_type": "stream",
     "text": [
      "Traceback (most recent call last):\n",
      "  File \"c:\\Users\\sinhd\\AppData\\Local\\Programs\\Python\\Python311\\Lib\\site-packages\\facebook_scraper\\utils.py\", line 279, in safe_consume\n",
      "    for item in generator:\n",
      "  File \"c:\\Users\\sinhd\\AppData\\Local\\Programs\\Python\\Python311\\Lib\\site-packages\\facebook_scraper\\extractors.py\", line 708, in extract_reactors\n",
      "    data = json.loads(response.text[prefix_length:])  # Strip 'for (;;);'\n",
      "           ^^^^^^^^^^^^^^^^^^^^^^^^^^^^^^^^^^^^^^^^^\n",
      "  File \"c:\\Users\\sinhd\\AppData\\Local\\Programs\\Python\\Python311\\Lib\\json\\__init__.py\", line 346, in loads\n",
      "    return _default_decoder.decode(s)\n",
      "           ^^^^^^^^^^^^^^^^^^^^^^^^^^\n",
      "  File \"c:\\Users\\sinhd\\AppData\\Local\\Programs\\Python\\Python311\\Lib\\json\\decoder.py\", line 337, in decode\n",
      "    obj, end = self.raw_decode(s, idx=_w(s, 0).end())\n",
      "               ^^^^^^^^^^^^^^^^^^^^^^^^^^^^^^^^^^^^^^\n",
      "  File \"c:\\Users\\sinhd\\AppData\\Local\\Programs\\Python\\Python311\\Lib\\json\\decoder.py\", line 355, in raw_decode\n",
      "    raise JSONDecodeError(\"Expecting value\", s, err.value) from None\n",
      "json.decoder.JSONDecodeError: Expecting value: line 1 column 2 (char 1)\n"
     ]
    },
    {
     "name": "stdout",
     "output_type": "stream",
     "text": [
      "https://facebook.com/duonglendinholympia/posts/721030233382014\n"
     ]
    },
    {
     "name": "stderr",
     "output_type": "stream",
     "text": [
      "Traceback (most recent call last):\n",
      "  File \"c:\\Users\\sinhd\\AppData\\Local\\Programs\\Python\\Python311\\Lib\\site-packages\\facebook_scraper\\utils.py\", line 279, in safe_consume\n",
      "    for item in generator:\n",
      "  File \"c:\\Users\\sinhd\\AppData\\Local\\Programs\\Python\\Python311\\Lib\\site-packages\\facebook_scraper\\extractors.py\", line 708, in extract_reactors\n",
      "    data = json.loads(response.text[prefix_length:])  # Strip 'for (;;);'\n",
      "           ^^^^^^^^^^^^^^^^^^^^^^^^^^^^^^^^^^^^^^^^^\n",
      "  File \"c:\\Users\\sinhd\\AppData\\Local\\Programs\\Python\\Python311\\Lib\\json\\__init__.py\", line 346, in loads\n",
      "    return _default_decoder.decode(s)\n",
      "           ^^^^^^^^^^^^^^^^^^^^^^^^^^\n",
      "  File \"c:\\Users\\sinhd\\AppData\\Local\\Programs\\Python\\Python311\\Lib\\json\\decoder.py\", line 337, in decode\n",
      "    obj, end = self.raw_decode(s, idx=_w(s, 0).end())\n",
      "               ^^^^^^^^^^^^^^^^^^^^^^^^^^^^^^^^^^^^^^\n",
      "  File \"c:\\Users\\sinhd\\AppData\\Local\\Programs\\Python\\Python311\\Lib\\json\\decoder.py\", line 355, in raw_decode\n",
      "    raise JSONDecodeError(\"Expecting value\", s, err.value) from None\n",
      "json.decoder.JSONDecodeError: Expecting value: line 1 column 2 (char 1)\n"
     ]
    },
    {
     "name": "stdout",
     "output_type": "stream",
     "text": [
      "https://facebook.com/duonglendinholympia/posts/720116740140030\n"
     ]
    },
    {
     "name": "stderr",
     "output_type": "stream",
     "text": [
      "Traceback (most recent call last):\n",
      "  File \"c:\\Users\\sinhd\\AppData\\Local\\Programs\\Python\\Python311\\Lib\\site-packages\\facebook_scraper\\utils.py\", line 279, in safe_consume\n",
      "    for item in generator:\n",
      "  File \"c:\\Users\\sinhd\\AppData\\Local\\Programs\\Python\\Python311\\Lib\\site-packages\\facebook_scraper\\extractors.py\", line 708, in extract_reactors\n",
      "    data = json.loads(response.text[prefix_length:])  # Strip 'for (;;);'\n",
      "           ^^^^^^^^^^^^^^^^^^^^^^^^^^^^^^^^^^^^^^^^^\n",
      "  File \"c:\\Users\\sinhd\\AppData\\Local\\Programs\\Python\\Python311\\Lib\\json\\__init__.py\", line 346, in loads\n",
      "    return _default_decoder.decode(s)\n",
      "           ^^^^^^^^^^^^^^^^^^^^^^^^^^\n",
      "  File \"c:\\Users\\sinhd\\AppData\\Local\\Programs\\Python\\Python311\\Lib\\json\\decoder.py\", line 337, in decode\n",
      "    obj, end = self.raw_decode(s, idx=_w(s, 0).end())\n",
      "               ^^^^^^^^^^^^^^^^^^^^^^^^^^^^^^^^^^^^^^\n",
      "  File \"c:\\Users\\sinhd\\AppData\\Local\\Programs\\Python\\Python311\\Lib\\json\\decoder.py\", line 355, in raw_decode\n",
      "    raise JSONDecodeError(\"Expecting value\", s, err.value) from None\n",
      "json.decoder.JSONDecodeError: Expecting value: line 1 column 2 (char 1)\n"
     ]
    },
    {
     "name": "stdout",
     "output_type": "stream",
     "text": [
      "https://facebook.com/duonglendinholympia/posts/720115163473521\n"
     ]
    },
    {
     "name": "stderr",
     "output_type": "stream",
     "text": [
      "Traceback (most recent call last):\n",
      "  File \"c:\\Users\\sinhd\\AppData\\Local\\Programs\\Python\\Python311\\Lib\\site-packages\\facebook_scraper\\utils.py\", line 279, in safe_consume\n",
      "    for item in generator:\n",
      "  File \"c:\\Users\\sinhd\\AppData\\Local\\Programs\\Python\\Python311\\Lib\\site-packages\\facebook_scraper\\extractors.py\", line 708, in extract_reactors\n",
      "    data = json.loads(response.text[prefix_length:])  # Strip 'for (;;);'\n",
      "           ^^^^^^^^^^^^^^^^^^^^^^^^^^^^^^^^^^^^^^^^^\n",
      "  File \"c:\\Users\\sinhd\\AppData\\Local\\Programs\\Python\\Python311\\Lib\\json\\__init__.py\", line 346, in loads\n",
      "    return _default_decoder.decode(s)\n",
      "           ^^^^^^^^^^^^^^^^^^^^^^^^^^\n",
      "  File \"c:\\Users\\sinhd\\AppData\\Local\\Programs\\Python\\Python311\\Lib\\json\\decoder.py\", line 337, in decode\n",
      "    obj, end = self.raw_decode(s, idx=_w(s, 0).end())\n",
      "               ^^^^^^^^^^^^^^^^^^^^^^^^^^^^^^^^^^^^^^\n",
      "  File \"c:\\Users\\sinhd\\AppData\\Local\\Programs\\Python\\Python311\\Lib\\json\\decoder.py\", line 355, in raw_decode\n",
      "    raise JSONDecodeError(\"Expecting value\", s, err.value) from None\n",
      "json.decoder.JSONDecodeError: Expecting value: line 1 column 2 (char 1)\n"
     ]
    },
    {
     "name": "stdout",
     "output_type": "stream",
     "text": [
      "https://facebook.com/duonglendinholympia/posts/718781810273523\n"
     ]
    },
    {
     "name": "stderr",
     "output_type": "stream",
     "text": [
      "Traceback (most recent call last):\n",
      "  File \"c:\\Users\\sinhd\\AppData\\Local\\Programs\\Python\\Python311\\Lib\\site-packages\\facebook_scraper\\utils.py\", line 279, in safe_consume\n",
      "    for item in generator:\n",
      "  File \"c:\\Users\\sinhd\\AppData\\Local\\Programs\\Python\\Python311\\Lib\\site-packages\\facebook_scraper\\extractors.py\", line 708, in extract_reactors\n",
      "    data = json.loads(response.text[prefix_length:])  # Strip 'for (;;);'\n",
      "           ^^^^^^^^^^^^^^^^^^^^^^^^^^^^^^^^^^^^^^^^^\n",
      "  File \"c:\\Users\\sinhd\\AppData\\Local\\Programs\\Python\\Python311\\Lib\\json\\__init__.py\", line 346, in loads\n",
      "    return _default_decoder.decode(s)\n",
      "           ^^^^^^^^^^^^^^^^^^^^^^^^^^\n",
      "  File \"c:\\Users\\sinhd\\AppData\\Local\\Programs\\Python\\Python311\\Lib\\json\\decoder.py\", line 337, in decode\n",
      "    obj, end = self.raw_decode(s, idx=_w(s, 0).end())\n",
      "               ^^^^^^^^^^^^^^^^^^^^^^^^^^^^^^^^^^^^^^\n",
      "  File \"c:\\Users\\sinhd\\AppData\\Local\\Programs\\Python\\Python311\\Lib\\json\\decoder.py\", line 355, in raw_decode\n",
      "    raise JSONDecodeError(\"Expecting value\", s, err.value) from None\n",
      "json.decoder.JSONDecodeError: Expecting value: line 1 column 2 (char 1)\n"
     ]
    },
    {
     "name": "stdout",
     "output_type": "stream",
     "text": [
      "https://facebook.com/duonglendinholympia/posts/718779986940372\n"
     ]
    },
    {
     "name": "stderr",
     "output_type": "stream",
     "text": [
      "Traceback (most recent call last):\n",
      "  File \"c:\\Users\\sinhd\\AppData\\Local\\Programs\\Python\\Python311\\Lib\\site-packages\\facebook_scraper\\utils.py\", line 279, in safe_consume\n",
      "    for item in generator:\n",
      "  File \"c:\\Users\\sinhd\\AppData\\Local\\Programs\\Python\\Python311\\Lib\\site-packages\\facebook_scraper\\extractors.py\", line 708, in extract_reactors\n",
      "    data = json.loads(response.text[prefix_length:])  # Strip 'for (;;);'\n",
      "           ^^^^^^^^^^^^^^^^^^^^^^^^^^^^^^^^^^^^^^^^^\n",
      "  File \"c:\\Users\\sinhd\\AppData\\Local\\Programs\\Python\\Python311\\Lib\\json\\__init__.py\", line 346, in loads\n",
      "    return _default_decoder.decode(s)\n",
      "           ^^^^^^^^^^^^^^^^^^^^^^^^^^\n",
      "  File \"c:\\Users\\sinhd\\AppData\\Local\\Programs\\Python\\Python311\\Lib\\json\\decoder.py\", line 337, in decode\n",
      "    obj, end = self.raw_decode(s, idx=_w(s, 0).end())\n",
      "               ^^^^^^^^^^^^^^^^^^^^^^^^^^^^^^^^^^^^^^\n",
      "  File \"c:\\Users\\sinhd\\AppData\\Local\\Programs\\Python\\Python311\\Lib\\json\\decoder.py\", line 355, in raw_decode\n",
      "    raise JSONDecodeError(\"Expecting value\", s, err.value) from None\n",
      "json.decoder.JSONDecodeError: Expecting value: line 1 column 2 (char 1)\n"
     ]
    },
    {
     "name": "stdout",
     "output_type": "stream",
     "text": [
      "https://facebook.com/duonglendinholympia/posts/718775643607473\n"
     ]
    },
    {
     "name": "stderr",
     "output_type": "stream",
     "text": [
      "Traceback (most recent call last):\n",
      "  File \"c:\\Users\\sinhd\\AppData\\Local\\Programs\\Python\\Python311\\Lib\\site-packages\\facebook_scraper\\utils.py\", line 279, in safe_consume\n",
      "    for item in generator:\n",
      "  File \"c:\\Users\\sinhd\\AppData\\Local\\Programs\\Python\\Python311\\Lib\\site-packages\\facebook_scraper\\extractors.py\", line 708, in extract_reactors\n",
      "    data = json.loads(response.text[prefix_length:])  # Strip 'for (;;);'\n",
      "           ^^^^^^^^^^^^^^^^^^^^^^^^^^^^^^^^^^^^^^^^^\n",
      "  File \"c:\\Users\\sinhd\\AppData\\Local\\Programs\\Python\\Python311\\Lib\\json\\__init__.py\", line 346, in loads\n",
      "    return _default_decoder.decode(s)\n",
      "           ^^^^^^^^^^^^^^^^^^^^^^^^^^\n",
      "  File \"c:\\Users\\sinhd\\AppData\\Local\\Programs\\Python\\Python311\\Lib\\json\\decoder.py\", line 337, in decode\n",
      "    obj, end = self.raw_decode(s, idx=_w(s, 0).end())\n",
      "               ^^^^^^^^^^^^^^^^^^^^^^^^^^^^^^^^^^^^^^\n",
      "  File \"c:\\Users\\sinhd\\AppData\\Local\\Programs\\Python\\Python311\\Lib\\json\\decoder.py\", line 355, in raw_decode\n",
      "    raise JSONDecodeError(\"Expecting value\", s, err.value) from None\n",
      "json.decoder.JSONDecodeError: Expecting value: line 1 column 2 (char 1)\n"
     ]
    },
    {
     "name": "stdout",
     "output_type": "stream",
     "text": [
      "https://facebook.com/duonglendinholympia/posts/718771913607846\n"
     ]
    },
    {
     "name": "stderr",
     "output_type": "stream",
     "text": [
      "Traceback (most recent call last):\n",
      "  File \"c:\\Users\\sinhd\\AppData\\Local\\Programs\\Python\\Python311\\Lib\\site-packages\\facebook_scraper\\utils.py\", line 279, in safe_consume\n",
      "    for item in generator:\n",
      "  File \"c:\\Users\\sinhd\\AppData\\Local\\Programs\\Python\\Python311\\Lib\\site-packages\\facebook_scraper\\extractors.py\", line 708, in extract_reactors\n",
      "    data = json.loads(response.text[prefix_length:])  # Strip 'for (;;);'\n",
      "           ^^^^^^^^^^^^^^^^^^^^^^^^^^^^^^^^^^^^^^^^^\n",
      "  File \"c:\\Users\\sinhd\\AppData\\Local\\Programs\\Python\\Python311\\Lib\\json\\__init__.py\", line 346, in loads\n",
      "    return _default_decoder.decode(s)\n",
      "           ^^^^^^^^^^^^^^^^^^^^^^^^^^\n",
      "  File \"c:\\Users\\sinhd\\AppData\\Local\\Programs\\Python\\Python311\\Lib\\json\\decoder.py\", line 337, in decode\n",
      "    obj, end = self.raw_decode(s, idx=_w(s, 0).end())\n",
      "               ^^^^^^^^^^^^^^^^^^^^^^^^^^^^^^^^^^^^^^\n",
      "  File \"c:\\Users\\sinhd\\AppData\\Local\\Programs\\Python\\Python311\\Lib\\json\\decoder.py\", line 355, in raw_decode\n",
      "    raise JSONDecodeError(\"Expecting value\", s, err.value) from None\n",
      "json.decoder.JSONDecodeError: Expecting value: line 1 column 2 (char 1)\n"
     ]
    },
    {
     "name": "stdout",
     "output_type": "stream",
     "text": [
      "https://facebook.com/duonglendinholympia/posts/718762996942071\n"
     ]
    },
    {
     "name": "stderr",
     "output_type": "stream",
     "text": [
      "Traceback (most recent call last):\n",
      "  File \"c:\\Users\\sinhd\\AppData\\Local\\Programs\\Python\\Python311\\Lib\\site-packages\\facebook_scraper\\utils.py\", line 279, in safe_consume\n",
      "    for item in generator:\n",
      "  File \"c:\\Users\\sinhd\\AppData\\Local\\Programs\\Python\\Python311\\Lib\\site-packages\\facebook_scraper\\extractors.py\", line 708, in extract_reactors\n",
      "    data = json.loads(response.text[prefix_length:])  # Strip 'for (;;);'\n",
      "           ^^^^^^^^^^^^^^^^^^^^^^^^^^^^^^^^^^^^^^^^^\n",
      "  File \"c:\\Users\\sinhd\\AppData\\Local\\Programs\\Python\\Python311\\Lib\\json\\__init__.py\", line 346, in loads\n",
      "    return _default_decoder.decode(s)\n",
      "           ^^^^^^^^^^^^^^^^^^^^^^^^^^\n",
      "  File \"c:\\Users\\sinhd\\AppData\\Local\\Programs\\Python\\Python311\\Lib\\json\\decoder.py\", line 337, in decode\n",
      "    obj, end = self.raw_decode(s, idx=_w(s, 0).end())\n",
      "               ^^^^^^^^^^^^^^^^^^^^^^^^^^^^^^^^^^^^^^\n",
      "  File \"c:\\Users\\sinhd\\AppData\\Local\\Programs\\Python\\Python311\\Lib\\json\\decoder.py\", line 355, in raw_decode\n",
      "    raise JSONDecodeError(\"Expecting value\", s, err.value) from None\n",
      "json.decoder.JSONDecodeError: Expecting value: line 1 column 2 (char 1)\n"
     ]
    },
    {
     "name": "stdout",
     "output_type": "stream",
     "text": [
      "https://facebook.com/duonglendinholympia/posts/718326510319053\n"
     ]
    },
    {
     "name": "stderr",
     "output_type": "stream",
     "text": [
      "Traceback (most recent call last):\n",
      "  File \"c:\\Users\\sinhd\\AppData\\Local\\Programs\\Python\\Python311\\Lib\\site-packages\\facebook_scraper\\utils.py\", line 279, in safe_consume\n",
      "    for item in generator:\n",
      "  File \"c:\\Users\\sinhd\\AppData\\Local\\Programs\\Python\\Python311\\Lib\\site-packages\\facebook_scraper\\extractors.py\", line 708, in extract_reactors\n",
      "    data = json.loads(response.text[prefix_length:])  # Strip 'for (;;);'\n",
      "           ^^^^^^^^^^^^^^^^^^^^^^^^^^^^^^^^^^^^^^^^^\n",
      "  File \"c:\\Users\\sinhd\\AppData\\Local\\Programs\\Python\\Python311\\Lib\\json\\__init__.py\", line 346, in loads\n",
      "    return _default_decoder.decode(s)\n",
      "           ^^^^^^^^^^^^^^^^^^^^^^^^^^\n",
      "  File \"c:\\Users\\sinhd\\AppData\\Local\\Programs\\Python\\Python311\\Lib\\json\\decoder.py\", line 337, in decode\n",
      "    obj, end = self.raw_decode(s, idx=_w(s, 0).end())\n",
      "               ^^^^^^^^^^^^^^^^^^^^^^^^^^^^^^^^^^^^^^\n",
      "  File \"c:\\Users\\sinhd\\AppData\\Local\\Programs\\Python\\Python311\\Lib\\json\\decoder.py\", line 355, in raw_decode\n",
      "    raise JSONDecodeError(\"Expecting value\", s, err.value) from None\n",
      "json.decoder.JSONDecodeError: Expecting value: line 1 column 2 (char 1)\n"
     ]
    },
    {
     "name": "stdout",
     "output_type": "stream",
     "text": [
      "https://facebook.com/duonglendinholympia/posts/715616817256689\n"
     ]
    },
    {
     "name": "stderr",
     "output_type": "stream",
     "text": [
      "Traceback (most recent call last):\n",
      "  File \"c:\\Users\\sinhd\\AppData\\Local\\Programs\\Python\\Python311\\Lib\\site-packages\\facebook_scraper\\utils.py\", line 279, in safe_consume\n",
      "    for item in generator:\n",
      "  File \"c:\\Users\\sinhd\\AppData\\Local\\Programs\\Python\\Python311\\Lib\\site-packages\\facebook_scraper\\extractors.py\", line 708, in extract_reactors\n",
      "    data = json.loads(response.text[prefix_length:])  # Strip 'for (;;);'\n",
      "           ^^^^^^^^^^^^^^^^^^^^^^^^^^^^^^^^^^^^^^^^^\n",
      "  File \"c:\\Users\\sinhd\\AppData\\Local\\Programs\\Python\\Python311\\Lib\\json\\__init__.py\", line 346, in loads\n",
      "    return _default_decoder.decode(s)\n",
      "           ^^^^^^^^^^^^^^^^^^^^^^^^^^\n",
      "  File \"c:\\Users\\sinhd\\AppData\\Local\\Programs\\Python\\Python311\\Lib\\json\\decoder.py\", line 337, in decode\n",
      "    obj, end = self.raw_decode(s, idx=_w(s, 0).end())\n",
      "               ^^^^^^^^^^^^^^^^^^^^^^^^^^^^^^^^^^^^^^\n",
      "  File \"c:\\Users\\sinhd\\AppData\\Local\\Programs\\Python\\Python311\\Lib\\json\\decoder.py\", line 355, in raw_decode\n",
      "    raise JSONDecodeError(\"Expecting value\", s, err.value) from None\n",
      "json.decoder.JSONDecodeError: Expecting value: line 1 column 2 (char 1)\n"
     ]
    },
    {
     "name": "stdout",
     "output_type": "stream",
     "text": [
      "https://facebook.com/duonglendinholympia/posts/714367204048317\n"
     ]
    },
    {
     "name": "stderr",
     "output_type": "stream",
     "text": [
      "Traceback (most recent call last):\n",
      "  File \"c:\\Users\\sinhd\\AppData\\Local\\Programs\\Python\\Python311\\Lib\\site-packages\\facebook_scraper\\utils.py\", line 279, in safe_consume\n",
      "    for item in generator:\n",
      "  File \"c:\\Users\\sinhd\\AppData\\Local\\Programs\\Python\\Python311\\Lib\\site-packages\\facebook_scraper\\extractors.py\", line 708, in extract_reactors\n",
      "    data = json.loads(response.text[prefix_length:])  # Strip 'for (;;);'\n",
      "           ^^^^^^^^^^^^^^^^^^^^^^^^^^^^^^^^^^^^^^^^^\n",
      "  File \"c:\\Users\\sinhd\\AppData\\Local\\Programs\\Python\\Python311\\Lib\\json\\__init__.py\", line 346, in loads\n",
      "    return _default_decoder.decode(s)\n",
      "           ^^^^^^^^^^^^^^^^^^^^^^^^^^\n",
      "  File \"c:\\Users\\sinhd\\AppData\\Local\\Programs\\Python\\Python311\\Lib\\json\\decoder.py\", line 337, in decode\n",
      "    obj, end = self.raw_decode(s, idx=_w(s, 0).end())\n",
      "               ^^^^^^^^^^^^^^^^^^^^^^^^^^^^^^^^^^^^^^\n",
      "  File \"c:\\Users\\sinhd\\AppData\\Local\\Programs\\Python\\Python311\\Lib\\json\\decoder.py\", line 355, in raw_decode\n",
      "    raise JSONDecodeError(\"Expecting value\", s, err.value) from None\n",
      "json.decoder.JSONDecodeError: Expecting value: line 1 column 2 (char 1)\n"
     ]
    },
    {
     "name": "stdout",
     "output_type": "stream",
     "text": [
      "https://facebook.com/duonglendinholympia/posts/714389704046067\n"
     ]
    },
    {
     "name": "stderr",
     "output_type": "stream",
     "text": [
      "Traceback (most recent call last):\n",
      "  File \"c:\\Users\\sinhd\\AppData\\Local\\Programs\\Python\\Python311\\Lib\\site-packages\\facebook_scraper\\utils.py\", line 279, in safe_consume\n",
      "    for item in generator:\n",
      "  File \"c:\\Users\\sinhd\\AppData\\Local\\Programs\\Python\\Python311\\Lib\\site-packages\\facebook_scraper\\extractors.py\", line 708, in extract_reactors\n",
      "    data = json.loads(response.text[prefix_length:])  # Strip 'for (;;);'\n",
      "           ^^^^^^^^^^^^^^^^^^^^^^^^^^^^^^^^^^^^^^^^^\n",
      "  File \"c:\\Users\\sinhd\\AppData\\Local\\Programs\\Python\\Python311\\Lib\\json\\__init__.py\", line 346, in loads\n",
      "    return _default_decoder.decode(s)\n",
      "           ^^^^^^^^^^^^^^^^^^^^^^^^^^\n",
      "  File \"c:\\Users\\sinhd\\AppData\\Local\\Programs\\Python\\Python311\\Lib\\json\\decoder.py\", line 337, in decode\n",
      "    obj, end = self.raw_decode(s, idx=_w(s, 0).end())\n",
      "               ^^^^^^^^^^^^^^^^^^^^^^^^^^^^^^^^^^^^^^\n",
      "  File \"c:\\Users\\sinhd\\AppData\\Local\\Programs\\Python\\Python311\\Lib\\json\\decoder.py\", line 355, in raw_decode\n",
      "    raise JSONDecodeError(\"Expecting value\", s, err.value) from None\n",
      "json.decoder.JSONDecodeError: Expecting value: line 1 column 2 (char 1)\n"
     ]
    },
    {
     "name": "stdout",
     "output_type": "stream",
     "text": [
      "https://facebook.com/duonglendinholympia/posts/714275280724176\n"
     ]
    },
    {
     "name": "stderr",
     "output_type": "stream",
     "text": [
      "Traceback (most recent call last):\n",
      "  File \"c:\\Users\\sinhd\\AppData\\Local\\Programs\\Python\\Python311\\Lib\\site-packages\\facebook_scraper\\utils.py\", line 279, in safe_consume\n",
      "    for item in generator:\n",
      "  File \"c:\\Users\\sinhd\\AppData\\Local\\Programs\\Python\\Python311\\Lib\\site-packages\\facebook_scraper\\extractors.py\", line 708, in extract_reactors\n",
      "    data = json.loads(response.text[prefix_length:])  # Strip 'for (;;);'\n",
      "           ^^^^^^^^^^^^^^^^^^^^^^^^^^^^^^^^^^^^^^^^^\n",
      "  File \"c:\\Users\\sinhd\\AppData\\Local\\Programs\\Python\\Python311\\Lib\\json\\__init__.py\", line 346, in loads\n",
      "    return _default_decoder.decode(s)\n",
      "           ^^^^^^^^^^^^^^^^^^^^^^^^^^\n",
      "  File \"c:\\Users\\sinhd\\AppData\\Local\\Programs\\Python\\Python311\\Lib\\json\\decoder.py\", line 337, in decode\n",
      "    obj, end = self.raw_decode(s, idx=_w(s, 0).end())\n",
      "               ^^^^^^^^^^^^^^^^^^^^^^^^^^^^^^^^^^^^^^\n",
      "  File \"c:\\Users\\sinhd\\AppData\\Local\\Programs\\Python\\Python311\\Lib\\json\\decoder.py\", line 355, in raw_decode\n",
      "    raise JSONDecodeError(\"Expecting value\", s, err.value) from None\n",
      "json.decoder.JSONDecodeError: Expecting value: line 1 column 2 (char 1)\n"
     ]
    },
    {
     "name": "stdout",
     "output_type": "stream",
     "text": [
      "https://facebook.com/duonglendinholympia/posts/714258804059157\n"
     ]
    },
    {
     "name": "stderr",
     "output_type": "stream",
     "text": [
      "Traceback (most recent call last):\n",
      "  File \"c:\\Users\\sinhd\\AppData\\Local\\Programs\\Python\\Python311\\Lib\\site-packages\\facebook_scraper\\utils.py\", line 279, in safe_consume\n",
      "    for item in generator:\n",
      "  File \"c:\\Users\\sinhd\\AppData\\Local\\Programs\\Python\\Python311\\Lib\\site-packages\\facebook_scraper\\extractors.py\", line 708, in extract_reactors\n",
      "    data = json.loads(response.text[prefix_length:])  # Strip 'for (;;);'\n",
      "           ^^^^^^^^^^^^^^^^^^^^^^^^^^^^^^^^^^^^^^^^^\n",
      "  File \"c:\\Users\\sinhd\\AppData\\Local\\Programs\\Python\\Python311\\Lib\\json\\__init__.py\", line 346, in loads\n",
      "    return _default_decoder.decode(s)\n",
      "           ^^^^^^^^^^^^^^^^^^^^^^^^^^\n",
      "  File \"c:\\Users\\sinhd\\AppData\\Local\\Programs\\Python\\Python311\\Lib\\json\\decoder.py\", line 337, in decode\n",
      "    obj, end = self.raw_decode(s, idx=_w(s, 0).end())\n",
      "               ^^^^^^^^^^^^^^^^^^^^^^^^^^^^^^^^^^^^^^\n",
      "  File \"c:\\Users\\sinhd\\AppData\\Local\\Programs\\Python\\Python311\\Lib\\json\\decoder.py\", line 355, in raw_decode\n",
      "    raise JSONDecodeError(\"Expecting value\", s, err.value) from None\n",
      "json.decoder.JSONDecodeError: Expecting value: line 1 column 2 (char 1)\n"
     ]
    },
    {
     "name": "stdout",
     "output_type": "stream",
     "text": [
      "https://facebook.com/duonglendinholympia/posts/714159387402432\n"
     ]
    },
    {
     "name": "stderr",
     "output_type": "stream",
     "text": [
      "Traceback (most recent call last):\n",
      "  File \"c:\\Users\\sinhd\\AppData\\Local\\Programs\\Python\\Python311\\Lib\\site-packages\\facebook_scraper\\utils.py\", line 279, in safe_consume\n",
      "    for item in generator:\n",
      "  File \"c:\\Users\\sinhd\\AppData\\Local\\Programs\\Python\\Python311\\Lib\\site-packages\\facebook_scraper\\extractors.py\", line 708, in extract_reactors\n",
      "    data = json.loads(response.text[prefix_length:])  # Strip 'for (;;);'\n",
      "           ^^^^^^^^^^^^^^^^^^^^^^^^^^^^^^^^^^^^^^^^^\n",
      "  File \"c:\\Users\\sinhd\\AppData\\Local\\Programs\\Python\\Python311\\Lib\\json\\__init__.py\", line 346, in loads\n",
      "    return _default_decoder.decode(s)\n",
      "           ^^^^^^^^^^^^^^^^^^^^^^^^^^\n",
      "  File \"c:\\Users\\sinhd\\AppData\\Local\\Programs\\Python\\Python311\\Lib\\json\\decoder.py\", line 337, in decode\n",
      "    obj, end = self.raw_decode(s, idx=_w(s, 0).end())\n",
      "               ^^^^^^^^^^^^^^^^^^^^^^^^^^^^^^^^^^^^^^\n",
      "  File \"c:\\Users\\sinhd\\AppData\\Local\\Programs\\Python\\Python311\\Lib\\json\\decoder.py\", line 355, in raw_decode\n",
      "    raise JSONDecodeError(\"Expecting value\", s, err.value) from None\n",
      "json.decoder.JSONDecodeError: Expecting value: line 1 column 2 (char 1)\n"
     ]
    },
    {
     "name": "stdout",
     "output_type": "stream",
     "text": [
      "https://facebook.com/duonglendinholympia/posts/714149024070135\n"
     ]
    },
    {
     "name": "stderr",
     "output_type": "stream",
     "text": [
      "Traceback (most recent call last):\n",
      "  File \"c:\\Users\\sinhd\\AppData\\Local\\Programs\\Python\\Python311\\Lib\\site-packages\\facebook_scraper\\utils.py\", line 279, in safe_consume\n",
      "    for item in generator:\n",
      "  File \"c:\\Users\\sinhd\\AppData\\Local\\Programs\\Python\\Python311\\Lib\\site-packages\\facebook_scraper\\extractors.py\", line 708, in extract_reactors\n",
      "    data = json.loads(response.text[prefix_length:])  # Strip 'for (;;);'\n",
      "           ^^^^^^^^^^^^^^^^^^^^^^^^^^^^^^^^^^^^^^^^^\n",
      "  File \"c:\\Users\\sinhd\\AppData\\Local\\Programs\\Python\\Python311\\Lib\\json\\__init__.py\", line 346, in loads\n",
      "    return _default_decoder.decode(s)\n",
      "           ^^^^^^^^^^^^^^^^^^^^^^^^^^\n",
      "  File \"c:\\Users\\sinhd\\AppData\\Local\\Programs\\Python\\Python311\\Lib\\json\\decoder.py\", line 337, in decode\n",
      "    obj, end = self.raw_decode(s, idx=_w(s, 0).end())\n",
      "               ^^^^^^^^^^^^^^^^^^^^^^^^^^^^^^^^^^^^^^\n",
      "  File \"c:\\Users\\sinhd\\AppData\\Local\\Programs\\Python\\Python311\\Lib\\json\\decoder.py\", line 355, in raw_decode\n",
      "    raise JSONDecodeError(\"Expecting value\", s, err.value) from None\n",
      "json.decoder.JSONDecodeError: Expecting value: line 1 column 2 (char 1)\n",
      "Traceback (most recent call last):\n",
      "  File \"c:\\Users\\sinhd\\AppData\\Local\\Programs\\Python\\Python311\\Lib\\site-packages\\facebook_scraper\\utils.py\", line 279, in safe_consume\n",
      "    for item in generator:\n",
      "  File \"c:\\Users\\sinhd\\AppData\\Local\\Programs\\Python\\Python311\\Lib\\site-packages\\facebook_scraper\\extractors.py\", line 708, in extract_reactors\n",
      "    data = json.loads(response.text[prefix_length:])  # Strip 'for (;;);'\n",
      "           ^^^^^^^^^^^^^^^^^^^^^^^^^^^^^^^^^^^^^^^^^\n",
      "  File \"c:\\Users\\sinhd\\AppData\\Local\\Programs\\Python\\Python311\\Lib\\json\\__init__.py\", line 346, in loads\n",
      "    return _default_decoder.decode(s)\n",
      "           ^^^^^^^^^^^^^^^^^^^^^^^^^^\n",
      "  File \"c:\\Users\\sinhd\\AppData\\Local\\Programs\\Python\\Python311\\Lib\\json\\decoder.py\", line 337, in decode\n",
      "    obj, end = self.raw_decode(s, idx=_w(s, 0).end())\n",
      "               ^^^^^^^^^^^^^^^^^^^^^^^^^^^^^^^^^^^^^^\n",
      "  File \"c:\\Users\\sinhd\\AppData\\Local\\Programs\\Python\\Python311\\Lib\\json\\decoder.py\", line 355, in raw_decode\n",
      "    raise JSONDecodeError(\"Expecting value\", s, err.value) from None\n",
      "json.decoder.JSONDecodeError: Expecting value: line 1 column 2 (char 1)\n",
      "Traceback (most recent call last):\n",
      "  File \"c:\\Users\\sinhd\\AppData\\Local\\Programs\\Python\\Python311\\Lib\\site-packages\\facebook_scraper\\utils.py\", line 279, in safe_consume\n",
      "    for item in generator:\n",
      "  File \"c:\\Users\\sinhd\\AppData\\Local\\Programs\\Python\\Python311\\Lib\\site-packages\\facebook_scraper\\extractors.py\", line 708, in extract_reactors\n",
      "    data = json.loads(response.text[prefix_length:])  # Strip 'for (;;);'\n",
      "           ^^^^^^^^^^^^^^^^^^^^^^^^^^^^^^^^^^^^^^^^^\n",
      "  File \"c:\\Users\\sinhd\\AppData\\Local\\Programs\\Python\\Python311\\Lib\\json\\__init__.py\", line 346, in loads\n",
      "    return _default_decoder.decode(s)\n",
      "           ^^^^^^^^^^^^^^^^^^^^^^^^^^\n",
      "  File \"c:\\Users\\sinhd\\AppData\\Local\\Programs\\Python\\Python311\\Lib\\json\\decoder.py\", line 337, in decode\n",
      "    obj, end = self.raw_decode(s, idx=_w(s, 0).end())\n",
      "               ^^^^^^^^^^^^^^^^^^^^^^^^^^^^^^^^^^^^^^\n",
      "  File \"c:\\Users\\sinhd\\AppData\\Local\\Programs\\Python\\Python311\\Lib\\json\\decoder.py\", line 355, in raw_decode\n",
      "    raise JSONDecodeError(\"Expecting value\", s, err.value) from None\n",
      "json.decoder.JSONDecodeError: Expecting value: line 1 column 2 (char 1)\n"
     ]
    },
    {
     "name": "stdout",
     "output_type": "stream",
     "text": [
      "https://facebook.com/duonglendinholympia/posts/714144530737251\n"
     ]
    },
    {
     "name": "stderr",
     "output_type": "stream",
     "text": [
      "Traceback (most recent call last):\n",
      "  File \"c:\\Users\\sinhd\\AppData\\Local\\Programs\\Python\\Python311\\Lib\\site-packages\\facebook_scraper\\utils.py\", line 279, in safe_consume\n",
      "    for item in generator:\n",
      "  File \"c:\\Users\\sinhd\\AppData\\Local\\Programs\\Python\\Python311\\Lib\\site-packages\\facebook_scraper\\extractors.py\", line 708, in extract_reactors\n",
      "    data = json.loads(response.text[prefix_length:])  # Strip 'for (;;);'\n",
      "           ^^^^^^^^^^^^^^^^^^^^^^^^^^^^^^^^^^^^^^^^^\n",
      "  File \"c:\\Users\\sinhd\\AppData\\Local\\Programs\\Python\\Python311\\Lib\\json\\__init__.py\", line 346, in loads\n",
      "    return _default_decoder.decode(s)\n",
      "           ^^^^^^^^^^^^^^^^^^^^^^^^^^\n",
      "  File \"c:\\Users\\sinhd\\AppData\\Local\\Programs\\Python\\Python311\\Lib\\json\\decoder.py\", line 337, in decode\n",
      "    obj, end = self.raw_decode(s, idx=_w(s, 0).end())\n",
      "               ^^^^^^^^^^^^^^^^^^^^^^^^^^^^^^^^^^^^^^\n",
      "  File \"c:\\Users\\sinhd\\AppData\\Local\\Programs\\Python\\Python311\\Lib\\json\\decoder.py\", line 355, in raw_decode\n",
      "    raise JSONDecodeError(\"Expecting value\", s, err.value) from None\n",
      "json.decoder.JSONDecodeError: Expecting value: line 1 column 2 (char 1)\n"
     ]
    },
    {
     "name": "stdout",
     "output_type": "stream",
     "text": [
      "https://facebook.com/duonglendinholympia/posts/714114727406898\n"
     ]
    },
    {
     "name": "stderr",
     "output_type": "stream",
     "text": [
      "Traceback (most recent call last):\n",
      "  File \"c:\\Users\\sinhd\\AppData\\Local\\Programs\\Python\\Python311\\Lib\\site-packages\\facebook_scraper\\utils.py\", line 279, in safe_consume\n",
      "    for item in generator:\n",
      "  File \"c:\\Users\\sinhd\\AppData\\Local\\Programs\\Python\\Python311\\Lib\\site-packages\\facebook_scraper\\extractors.py\", line 708, in extract_reactors\n",
      "    data = json.loads(response.text[prefix_length:])  # Strip 'for (;;);'\n",
      "           ^^^^^^^^^^^^^^^^^^^^^^^^^^^^^^^^^^^^^^^^^\n",
      "  File \"c:\\Users\\sinhd\\AppData\\Local\\Programs\\Python\\Python311\\Lib\\json\\__init__.py\", line 346, in loads\n",
      "    return _default_decoder.decode(s)\n",
      "           ^^^^^^^^^^^^^^^^^^^^^^^^^^\n",
      "  File \"c:\\Users\\sinhd\\AppData\\Local\\Programs\\Python\\Python311\\Lib\\json\\decoder.py\", line 337, in decode\n",
      "    obj, end = self.raw_decode(s, idx=_w(s, 0).end())\n",
      "               ^^^^^^^^^^^^^^^^^^^^^^^^^^^^^^^^^^^^^^\n",
      "  File \"c:\\Users\\sinhd\\AppData\\Local\\Programs\\Python\\Python311\\Lib\\json\\decoder.py\", line 355, in raw_decode\n",
      "    raise JSONDecodeError(\"Expecting value\", s, err.value) from None\n",
      "json.decoder.JSONDecodeError: Expecting value: line 1 column 2 (char 1)\n"
     ]
    },
    {
     "name": "stdout",
     "output_type": "stream",
     "text": [
      "https://facebook.com/duonglendinholympia/posts/714106860741018\n"
     ]
    },
    {
     "name": "stderr",
     "output_type": "stream",
     "text": [
      "Traceback (most recent call last):\n",
      "  File \"c:\\Users\\sinhd\\AppData\\Local\\Programs\\Python\\Python311\\Lib\\site-packages\\facebook_scraper\\utils.py\", line 279, in safe_consume\n",
      "    for item in generator:\n",
      "  File \"c:\\Users\\sinhd\\AppData\\Local\\Programs\\Python\\Python311\\Lib\\site-packages\\facebook_scraper\\extractors.py\", line 708, in extract_reactors\n",
      "    data = json.loads(response.text[prefix_length:])  # Strip 'for (;;);'\n",
      "           ^^^^^^^^^^^^^^^^^^^^^^^^^^^^^^^^^^^^^^^^^\n",
      "  File \"c:\\Users\\sinhd\\AppData\\Local\\Programs\\Python\\Python311\\Lib\\json\\__init__.py\", line 346, in loads\n",
      "    return _default_decoder.decode(s)\n",
      "           ^^^^^^^^^^^^^^^^^^^^^^^^^^\n",
      "  File \"c:\\Users\\sinhd\\AppData\\Local\\Programs\\Python\\Python311\\Lib\\json\\decoder.py\", line 337, in decode\n",
      "    obj, end = self.raw_decode(s, idx=_w(s, 0).end())\n",
      "               ^^^^^^^^^^^^^^^^^^^^^^^^^^^^^^^^^^^^^^\n",
      "  File \"c:\\Users\\sinhd\\AppData\\Local\\Programs\\Python\\Python311\\Lib\\json\\decoder.py\", line 355, in raw_decode\n",
      "    raise JSONDecodeError(\"Expecting value\", s, err.value) from None\n",
      "json.decoder.JSONDecodeError: Expecting value: line 1 column 2 (char 1)\n"
     ]
    },
    {
     "name": "stdout",
     "output_type": "stream",
     "text": [
      "https://facebook.com/duonglendinholympia/posts/714103827407988\n"
     ]
    },
    {
     "name": "stderr",
     "output_type": "stream",
     "text": [
      "Traceback (most recent call last):\n",
      "  File \"c:\\Users\\sinhd\\AppData\\Local\\Programs\\Python\\Python311\\Lib\\site-packages\\facebook_scraper\\utils.py\", line 279, in safe_consume\n",
      "    for item in generator:\n",
      "  File \"c:\\Users\\sinhd\\AppData\\Local\\Programs\\Python\\Python311\\Lib\\site-packages\\facebook_scraper\\extractors.py\", line 708, in extract_reactors\n",
      "    data = json.loads(response.text[prefix_length:])  # Strip 'for (;;);'\n",
      "           ^^^^^^^^^^^^^^^^^^^^^^^^^^^^^^^^^^^^^^^^^\n",
      "  File \"c:\\Users\\sinhd\\AppData\\Local\\Programs\\Python\\Python311\\Lib\\json\\__init__.py\", line 346, in loads\n",
      "    return _default_decoder.decode(s)\n",
      "           ^^^^^^^^^^^^^^^^^^^^^^^^^^\n",
      "  File \"c:\\Users\\sinhd\\AppData\\Local\\Programs\\Python\\Python311\\Lib\\json\\decoder.py\", line 337, in decode\n",
      "    obj, end = self.raw_decode(s, idx=_w(s, 0).end())\n",
      "               ^^^^^^^^^^^^^^^^^^^^^^^^^^^^^^^^^^^^^^\n",
      "  File \"c:\\Users\\sinhd\\AppData\\Local\\Programs\\Python\\Python311\\Lib\\json\\decoder.py\", line 355, in raw_decode\n",
      "    raise JSONDecodeError(\"Expecting value\", s, err.value) from None\n",
      "json.decoder.JSONDecodeError: Expecting value: line 1 column 2 (char 1)\n"
     ]
    },
    {
     "name": "stdout",
     "output_type": "stream",
     "text": [
      "https://facebook.com/duonglendinholympia/posts/714094574075580\n"
     ]
    },
    {
     "name": "stderr",
     "output_type": "stream",
     "text": [
      "Traceback (most recent call last):\n",
      "  File \"c:\\Users\\sinhd\\AppData\\Local\\Programs\\Python\\Python311\\Lib\\site-packages\\facebook_scraper\\utils.py\", line 279, in safe_consume\n",
      "    for item in generator:\n",
      "  File \"c:\\Users\\sinhd\\AppData\\Local\\Programs\\Python\\Python311\\Lib\\site-packages\\facebook_scraper\\extractors.py\", line 708, in extract_reactors\n",
      "    data = json.loads(response.text[prefix_length:])  # Strip 'for (;;);'\n",
      "           ^^^^^^^^^^^^^^^^^^^^^^^^^^^^^^^^^^^^^^^^^\n",
      "  File \"c:\\Users\\sinhd\\AppData\\Local\\Programs\\Python\\Python311\\Lib\\json\\__init__.py\", line 346, in loads\n",
      "    return _default_decoder.decode(s)\n",
      "           ^^^^^^^^^^^^^^^^^^^^^^^^^^\n",
      "  File \"c:\\Users\\sinhd\\AppData\\Local\\Programs\\Python\\Python311\\Lib\\json\\decoder.py\", line 337, in decode\n",
      "    obj, end = self.raw_decode(s, idx=_w(s, 0).end())\n",
      "               ^^^^^^^^^^^^^^^^^^^^^^^^^^^^^^^^^^^^^^\n",
      "  File \"c:\\Users\\sinhd\\AppData\\Local\\Programs\\Python\\Python311\\Lib\\json\\decoder.py\", line 355, in raw_decode\n",
      "    raise JSONDecodeError(\"Expecting value\", s, err.value) from None\n",
      "json.decoder.JSONDecodeError: Expecting value: line 1 column 2 (char 1)\n"
     ]
    },
    {
     "name": "stdout",
     "output_type": "stream",
     "text": [
      "https://facebook.com/duonglendinholympia/posts/714071870744517\n"
     ]
    },
    {
     "name": "stderr",
     "output_type": "stream",
     "text": [
      "Traceback (most recent call last):\n",
      "  File \"c:\\Users\\sinhd\\AppData\\Local\\Programs\\Python\\Python311\\Lib\\site-packages\\facebook_scraper\\utils.py\", line 279, in safe_consume\n",
      "    for item in generator:\n",
      "  File \"c:\\Users\\sinhd\\AppData\\Local\\Programs\\Python\\Python311\\Lib\\site-packages\\facebook_scraper\\extractors.py\", line 708, in extract_reactors\n",
      "    data = json.loads(response.text[prefix_length:])  # Strip 'for (;;);'\n",
      "           ^^^^^^^^^^^^^^^^^^^^^^^^^^^^^^^^^^^^^^^^^\n",
      "  File \"c:\\Users\\sinhd\\AppData\\Local\\Programs\\Python\\Python311\\Lib\\json\\__init__.py\", line 346, in loads\n",
      "    return _default_decoder.decode(s)\n",
      "           ^^^^^^^^^^^^^^^^^^^^^^^^^^\n",
      "  File \"c:\\Users\\sinhd\\AppData\\Local\\Programs\\Python\\Python311\\Lib\\json\\decoder.py\", line 337, in decode\n",
      "    obj, end = self.raw_decode(s, idx=_w(s, 0).end())\n",
      "               ^^^^^^^^^^^^^^^^^^^^^^^^^^^^^^^^^^^^^^\n",
      "  File \"c:\\Users\\sinhd\\AppData\\Local\\Programs\\Python\\Python311\\Lib\\json\\decoder.py\", line 355, in raw_decode\n",
      "    raise JSONDecodeError(\"Expecting value\", s, err.value) from None\n",
      "json.decoder.JSONDecodeError: Expecting value: line 1 column 2 (char 1)\n"
     ]
    },
    {
     "name": "stdout",
     "output_type": "stream",
     "text": [
      "https://facebook.com/duonglendinholympia/posts/1271377686893399\n"
     ]
    },
    {
     "name": "stderr",
     "output_type": "stream",
     "text": [
      "Traceback (most recent call last):\n",
      "  File \"c:\\Users\\sinhd\\AppData\\Local\\Programs\\Python\\Python311\\Lib\\site-packages\\facebook_scraper\\utils.py\", line 279, in safe_consume\n",
      "    for item in generator:\n",
      "  File \"c:\\Users\\sinhd\\AppData\\Local\\Programs\\Python\\Python311\\Lib\\site-packages\\facebook_scraper\\extractors.py\", line 708, in extract_reactors\n",
      "    data = json.loads(response.text[prefix_length:])  # Strip 'for (;;);'\n",
      "           ^^^^^^^^^^^^^^^^^^^^^^^^^^^^^^^^^^^^^^^^^\n",
      "  File \"c:\\Users\\sinhd\\AppData\\Local\\Programs\\Python\\Python311\\Lib\\json\\__init__.py\", line 346, in loads\n",
      "    return _default_decoder.decode(s)\n",
      "           ^^^^^^^^^^^^^^^^^^^^^^^^^^\n",
      "  File \"c:\\Users\\sinhd\\AppData\\Local\\Programs\\Python\\Python311\\Lib\\json\\decoder.py\", line 337, in decode\n",
      "    obj, end = self.raw_decode(s, idx=_w(s, 0).end())\n",
      "               ^^^^^^^^^^^^^^^^^^^^^^^^^^^^^^^^^^^^^^\n",
      "  File \"c:\\Users\\sinhd\\AppData\\Local\\Programs\\Python\\Python311\\Lib\\json\\decoder.py\", line 355, in raw_decode\n",
      "    raise JSONDecodeError(\"Expecting value\", s, err.value) from None\n",
      "json.decoder.JSONDecodeError: Expecting value: line 1 column 2 (char 1)\n"
     ]
    },
    {
     "name": "stdout",
     "output_type": "stream",
     "text": [
      "https://facebook.com/duonglendinholympia/posts/714023214082716\n"
     ]
    },
    {
     "name": "stderr",
     "output_type": "stream",
     "text": [
      "Traceback (most recent call last):\n",
      "  File \"c:\\Users\\sinhd\\AppData\\Local\\Programs\\Python\\Python311\\Lib\\site-packages\\facebook_scraper\\utils.py\", line 279, in safe_consume\n",
      "    for item in generator:\n",
      "  File \"c:\\Users\\sinhd\\AppData\\Local\\Programs\\Python\\Python311\\Lib\\site-packages\\facebook_scraper\\extractors.py\", line 708, in extract_reactors\n",
      "    data = json.loads(response.text[prefix_length:])  # Strip 'for (;;);'\n",
      "           ^^^^^^^^^^^^^^^^^^^^^^^^^^^^^^^^^^^^^^^^^\n",
      "  File \"c:\\Users\\sinhd\\AppData\\Local\\Programs\\Python\\Python311\\Lib\\json\\__init__.py\", line 346, in loads\n",
      "    return _default_decoder.decode(s)\n",
      "           ^^^^^^^^^^^^^^^^^^^^^^^^^^\n",
      "  File \"c:\\Users\\sinhd\\AppData\\Local\\Programs\\Python\\Python311\\Lib\\json\\decoder.py\", line 337, in decode\n",
      "    obj, end = self.raw_decode(s, idx=_w(s, 0).end())\n",
      "               ^^^^^^^^^^^^^^^^^^^^^^^^^^^^^^^^^^^^^^\n",
      "  File \"c:\\Users\\sinhd\\AppData\\Local\\Programs\\Python\\Python311\\Lib\\json\\decoder.py\", line 355, in raw_decode\n",
      "    raise JSONDecodeError(\"Expecting value\", s, err.value) from None\n",
      "json.decoder.JSONDecodeError: Expecting value: line 1 column 2 (char 1)\n"
     ]
    },
    {
     "name": "stdout",
     "output_type": "stream",
     "text": [
      "https://facebook.com/duonglendinholympia/posts/713843627434008\n"
     ]
    },
    {
     "name": "stderr",
     "output_type": "stream",
     "text": [
      "Traceback (most recent call last):\n",
      "  File \"c:\\Users\\sinhd\\AppData\\Local\\Programs\\Python\\Python311\\Lib\\site-packages\\facebook_scraper\\utils.py\", line 279, in safe_consume\n",
      "    for item in generator:\n",
      "  File \"c:\\Users\\sinhd\\AppData\\Local\\Programs\\Python\\Python311\\Lib\\site-packages\\facebook_scraper\\extractors.py\", line 708, in extract_reactors\n",
      "    data = json.loads(response.text[prefix_length:])  # Strip 'for (;;);'\n",
      "           ^^^^^^^^^^^^^^^^^^^^^^^^^^^^^^^^^^^^^^^^^\n",
      "  File \"c:\\Users\\sinhd\\AppData\\Local\\Programs\\Python\\Python311\\Lib\\json\\__init__.py\", line 346, in loads\n",
      "    return _default_decoder.decode(s)\n",
      "           ^^^^^^^^^^^^^^^^^^^^^^^^^^\n",
      "  File \"c:\\Users\\sinhd\\AppData\\Local\\Programs\\Python\\Python311\\Lib\\json\\decoder.py\", line 337, in decode\n",
      "    obj, end = self.raw_decode(s, idx=_w(s, 0).end())\n",
      "               ^^^^^^^^^^^^^^^^^^^^^^^^^^^^^^^^^^^^^^\n",
      "  File \"c:\\Users\\sinhd\\AppData\\Local\\Programs\\Python\\Python311\\Lib\\json\\decoder.py\", line 355, in raw_decode\n",
      "    raise JSONDecodeError(\"Expecting value\", s, err.value) from None\n",
      "json.decoder.JSONDecodeError: Expecting value: line 1 column 2 (char 1)\n"
     ]
    },
    {
     "name": "stdout",
     "output_type": "stream",
     "text": [
      "https://facebook.com/duonglendinholympia/posts/713765347441836\n"
     ]
    },
    {
     "name": "stderr",
     "output_type": "stream",
     "text": [
      "Traceback (most recent call last):\n",
      "  File \"c:\\Users\\sinhd\\AppData\\Local\\Programs\\Python\\Python311\\Lib\\site-packages\\facebook_scraper\\utils.py\", line 279, in safe_consume\n",
      "    for item in generator:\n",
      "  File \"c:\\Users\\sinhd\\AppData\\Local\\Programs\\Python\\Python311\\Lib\\site-packages\\facebook_scraper\\extractors.py\", line 708, in extract_reactors\n",
      "    data = json.loads(response.text[prefix_length:])  # Strip 'for (;;);'\n",
      "           ^^^^^^^^^^^^^^^^^^^^^^^^^^^^^^^^^^^^^^^^^\n",
      "  File \"c:\\Users\\sinhd\\AppData\\Local\\Programs\\Python\\Python311\\Lib\\json\\__init__.py\", line 346, in loads\n",
      "    return _default_decoder.decode(s)\n",
      "           ^^^^^^^^^^^^^^^^^^^^^^^^^^\n",
      "  File \"c:\\Users\\sinhd\\AppData\\Local\\Programs\\Python\\Python311\\Lib\\json\\decoder.py\", line 337, in decode\n",
      "    obj, end = self.raw_decode(s, idx=_w(s, 0).end())\n",
      "               ^^^^^^^^^^^^^^^^^^^^^^^^^^^^^^^^^^^^^^\n",
      "  File \"c:\\Users\\sinhd\\AppData\\Local\\Programs\\Python\\Python311\\Lib\\json\\decoder.py\", line 355, in raw_decode\n",
      "    raise JSONDecodeError(\"Expecting value\", s, err.value) from None\n",
      "json.decoder.JSONDecodeError: Expecting value: line 1 column 2 (char 1)\n"
     ]
    },
    {
     "name": "stdout",
     "output_type": "stream",
     "text": [
      "https://facebook.com/duonglendinholympia/posts/713706810781023\n"
     ]
    },
    {
     "name": "stderr",
     "output_type": "stream",
     "text": [
      "Traceback (most recent call last):\n",
      "  File \"c:\\Users\\sinhd\\AppData\\Local\\Programs\\Python\\Python311\\Lib\\site-packages\\facebook_scraper\\utils.py\", line 279, in safe_consume\n",
      "    for item in generator:\n",
      "  File \"c:\\Users\\sinhd\\AppData\\Local\\Programs\\Python\\Python311\\Lib\\site-packages\\facebook_scraper\\extractors.py\", line 708, in extract_reactors\n",
      "    data = json.loads(response.text[prefix_length:])  # Strip 'for (;;);'\n",
      "           ^^^^^^^^^^^^^^^^^^^^^^^^^^^^^^^^^^^^^^^^^\n",
      "  File \"c:\\Users\\sinhd\\AppData\\Local\\Programs\\Python\\Python311\\Lib\\json\\__init__.py\", line 346, in loads\n",
      "    return _default_decoder.decode(s)\n",
      "           ^^^^^^^^^^^^^^^^^^^^^^^^^^\n",
      "  File \"c:\\Users\\sinhd\\AppData\\Local\\Programs\\Python\\Python311\\Lib\\json\\decoder.py\", line 337, in decode\n",
      "    obj, end = self.raw_decode(s, idx=_w(s, 0).end())\n",
      "               ^^^^^^^^^^^^^^^^^^^^^^^^^^^^^^^^^^^^^^\n",
      "  File \"c:\\Users\\sinhd\\AppData\\Local\\Programs\\Python\\Python311\\Lib\\json\\decoder.py\", line 355, in raw_decode\n",
      "    raise JSONDecodeError(\"Expecting value\", s, err.value) from None\n",
      "json.decoder.JSONDecodeError: Expecting value: line 1 column 2 (char 1)\n"
     ]
    },
    {
     "name": "stdout",
     "output_type": "stream",
     "text": [
      "https://facebook.com/duonglendinholympia/posts/713745964110441\n"
     ]
    },
    {
     "name": "stderr",
     "output_type": "stream",
     "text": [
      "Traceback (most recent call last):\n",
      "  File \"c:\\Users\\sinhd\\AppData\\Local\\Programs\\Python\\Python311\\Lib\\site-packages\\facebook_scraper\\utils.py\", line 279, in safe_consume\n",
      "    for item in generator:\n",
      "  File \"c:\\Users\\sinhd\\AppData\\Local\\Programs\\Python\\Python311\\Lib\\site-packages\\facebook_scraper\\extractors.py\", line 708, in extract_reactors\n",
      "    data = json.loads(response.text[prefix_length:])  # Strip 'for (;;);'\n",
      "           ^^^^^^^^^^^^^^^^^^^^^^^^^^^^^^^^^^^^^^^^^\n",
      "  File \"c:\\Users\\sinhd\\AppData\\Local\\Programs\\Python\\Python311\\Lib\\json\\__init__.py\", line 346, in loads\n",
      "    return _default_decoder.decode(s)\n",
      "           ^^^^^^^^^^^^^^^^^^^^^^^^^^\n",
      "  File \"c:\\Users\\sinhd\\AppData\\Local\\Programs\\Python\\Python311\\Lib\\json\\decoder.py\", line 337, in decode\n",
      "    obj, end = self.raw_decode(s, idx=_w(s, 0).end())\n",
      "               ^^^^^^^^^^^^^^^^^^^^^^^^^^^^^^^^^^^^^^\n",
      "  File \"c:\\Users\\sinhd\\AppData\\Local\\Programs\\Python\\Python311\\Lib\\json\\decoder.py\", line 355, in raw_decode\n",
      "    raise JSONDecodeError(\"Expecting value\", s, err.value) from None\n",
      "json.decoder.JSONDecodeError: Expecting value: line 1 column 2 (char 1)\n"
     ]
    },
    {
     "name": "stdout",
     "output_type": "stream",
     "text": [
      "https://facebook.com/duonglendinholympia/posts/713739944111043\n"
     ]
    },
    {
     "name": "stderr",
     "output_type": "stream",
     "text": [
      "Traceback (most recent call last):\n",
      "  File \"c:\\Users\\sinhd\\AppData\\Local\\Programs\\Python\\Python311\\Lib\\site-packages\\facebook_scraper\\utils.py\", line 279, in safe_consume\n",
      "    for item in generator:\n",
      "  File \"c:\\Users\\sinhd\\AppData\\Local\\Programs\\Python\\Python311\\Lib\\site-packages\\facebook_scraper\\extractors.py\", line 708, in extract_reactors\n",
      "    data = json.loads(response.text[prefix_length:])  # Strip 'for (;;);'\n",
      "           ^^^^^^^^^^^^^^^^^^^^^^^^^^^^^^^^^^^^^^^^^\n",
      "  File \"c:\\Users\\sinhd\\AppData\\Local\\Programs\\Python\\Python311\\Lib\\json\\__init__.py\", line 346, in loads\n",
      "    return _default_decoder.decode(s)\n",
      "           ^^^^^^^^^^^^^^^^^^^^^^^^^^\n",
      "  File \"c:\\Users\\sinhd\\AppData\\Local\\Programs\\Python\\Python311\\Lib\\json\\decoder.py\", line 337, in decode\n",
      "    obj, end = self.raw_decode(s, idx=_w(s, 0).end())\n",
      "               ^^^^^^^^^^^^^^^^^^^^^^^^^^^^^^^^^^^^^^\n",
      "  File \"c:\\Users\\sinhd\\AppData\\Local\\Programs\\Python\\Python311\\Lib\\json\\decoder.py\", line 355, in raw_decode\n",
      "    raise JSONDecodeError(\"Expecting value\", s, err.value) from None\n",
      "json.decoder.JSONDecodeError: Expecting value: line 1 column 2 (char 1)\n"
     ]
    },
    {
     "name": "stdout",
     "output_type": "stream",
     "text": [
      "https://facebook.com/duonglendinholympia/posts/713721717446199\n"
     ]
    },
    {
     "name": "stderr",
     "output_type": "stream",
     "text": [
      "Traceback (most recent call last):\n",
      "  File \"c:\\Users\\sinhd\\AppData\\Local\\Programs\\Python\\Python311\\Lib\\site-packages\\facebook_scraper\\utils.py\", line 279, in safe_consume\n",
      "    for item in generator:\n",
      "  File \"c:\\Users\\sinhd\\AppData\\Local\\Programs\\Python\\Python311\\Lib\\site-packages\\facebook_scraper\\extractors.py\", line 708, in extract_reactors\n",
      "    data = json.loads(response.text[prefix_length:])  # Strip 'for (;;);'\n",
      "           ^^^^^^^^^^^^^^^^^^^^^^^^^^^^^^^^^^^^^^^^^\n",
      "  File \"c:\\Users\\sinhd\\AppData\\Local\\Programs\\Python\\Python311\\Lib\\json\\__init__.py\", line 346, in loads\n",
      "    return _default_decoder.decode(s)\n",
      "           ^^^^^^^^^^^^^^^^^^^^^^^^^^\n",
      "  File \"c:\\Users\\sinhd\\AppData\\Local\\Programs\\Python\\Python311\\Lib\\json\\decoder.py\", line 337, in decode\n",
      "    obj, end = self.raw_decode(s, idx=_w(s, 0).end())\n",
      "               ^^^^^^^^^^^^^^^^^^^^^^^^^^^^^^^^^^^^^^\n",
      "  File \"c:\\Users\\sinhd\\AppData\\Local\\Programs\\Python\\Python311\\Lib\\json\\decoder.py\", line 355, in raw_decode\n",
      "    raise JSONDecodeError(\"Expecting value\", s, err.value) from None\n",
      "json.decoder.JSONDecodeError: Expecting value: line 1 column 2 (char 1)\n"
     ]
    },
    {
     "name": "stdout",
     "output_type": "stream",
     "text": [
      "https://facebook.com/duonglendinholympia/posts/713675980784106\n"
     ]
    },
    {
     "name": "stderr",
     "output_type": "stream",
     "text": [
      "Traceback (most recent call last):\n",
      "  File \"c:\\Users\\sinhd\\AppData\\Local\\Programs\\Python\\Python311\\Lib\\site-packages\\facebook_scraper\\utils.py\", line 279, in safe_consume\n",
      "    for item in generator:\n",
      "  File \"c:\\Users\\sinhd\\AppData\\Local\\Programs\\Python\\Python311\\Lib\\site-packages\\facebook_scraper\\extractors.py\", line 708, in extract_reactors\n",
      "    data = json.loads(response.text[prefix_length:])  # Strip 'for (;;);'\n",
      "           ^^^^^^^^^^^^^^^^^^^^^^^^^^^^^^^^^^^^^^^^^\n",
      "  File \"c:\\Users\\sinhd\\AppData\\Local\\Programs\\Python\\Python311\\Lib\\json\\__init__.py\", line 346, in loads\n",
      "    return _default_decoder.decode(s)\n",
      "           ^^^^^^^^^^^^^^^^^^^^^^^^^^\n",
      "  File \"c:\\Users\\sinhd\\AppData\\Local\\Programs\\Python\\Python311\\Lib\\json\\decoder.py\", line 337, in decode\n",
      "    obj, end = self.raw_decode(s, idx=_w(s, 0).end())\n",
      "               ^^^^^^^^^^^^^^^^^^^^^^^^^^^^^^^^^^^^^^\n",
      "  File \"c:\\Users\\sinhd\\AppData\\Local\\Programs\\Python\\Python311\\Lib\\json\\decoder.py\", line 355, in raw_decode\n",
      "    raise JSONDecodeError(\"Expecting value\", s, err.value) from None\n",
      "json.decoder.JSONDecodeError: Expecting value: line 1 column 2 (char 1)\n"
     ]
    },
    {
     "name": "stdout",
     "output_type": "stream",
     "text": [
      "https://facebook.com/duonglendinholympia/posts/713652677453103\n"
     ]
    },
    {
     "name": "stderr",
     "output_type": "stream",
     "text": [
      "Traceback (most recent call last):\n",
      "  File \"c:\\Users\\sinhd\\AppData\\Local\\Programs\\Python\\Python311\\Lib\\site-packages\\facebook_scraper\\utils.py\", line 279, in safe_consume\n",
      "    for item in generator:\n",
      "  File \"c:\\Users\\sinhd\\AppData\\Local\\Programs\\Python\\Python311\\Lib\\site-packages\\facebook_scraper\\extractors.py\", line 708, in extract_reactors\n",
      "    data = json.loads(response.text[prefix_length:])  # Strip 'for (;;);'\n",
      "           ^^^^^^^^^^^^^^^^^^^^^^^^^^^^^^^^^^^^^^^^^\n",
      "  File \"c:\\Users\\sinhd\\AppData\\Local\\Programs\\Python\\Python311\\Lib\\json\\__init__.py\", line 346, in loads\n",
      "    return _default_decoder.decode(s)\n",
      "           ^^^^^^^^^^^^^^^^^^^^^^^^^^\n",
      "  File \"c:\\Users\\sinhd\\AppData\\Local\\Programs\\Python\\Python311\\Lib\\json\\decoder.py\", line 337, in decode\n",
      "    obj, end = self.raw_decode(s, idx=_w(s, 0).end())\n",
      "               ^^^^^^^^^^^^^^^^^^^^^^^^^^^^^^^^^^^^^^\n",
      "  File \"c:\\Users\\sinhd\\AppData\\Local\\Programs\\Python\\Python311\\Lib\\json\\decoder.py\", line 355, in raw_decode\n",
      "    raise JSONDecodeError(\"Expecting value\", s, err.value) from None\n",
      "json.decoder.JSONDecodeError: Expecting value: line 1 column 2 (char 1)\n"
     ]
    },
    {
     "name": "stdout",
     "output_type": "stream",
     "text": [
      "https://facebook.com/duonglendinholympia/posts/713389867479384\n"
     ]
    },
    {
     "name": "stderr",
     "output_type": "stream",
     "text": [
      "Traceback (most recent call last):\n",
      "  File \"c:\\Users\\sinhd\\AppData\\Local\\Programs\\Python\\Python311\\Lib\\site-packages\\facebook_scraper\\utils.py\", line 279, in safe_consume\n",
      "    for item in generator:\n",
      "  File \"c:\\Users\\sinhd\\AppData\\Local\\Programs\\Python\\Python311\\Lib\\site-packages\\facebook_scraper\\extractors.py\", line 708, in extract_reactors\n",
      "    data = json.loads(response.text[prefix_length:])  # Strip 'for (;;);'\n",
      "           ^^^^^^^^^^^^^^^^^^^^^^^^^^^^^^^^^^^^^^^^^\n",
      "  File \"c:\\Users\\sinhd\\AppData\\Local\\Programs\\Python\\Python311\\Lib\\json\\__init__.py\", line 346, in loads\n",
      "    return _default_decoder.decode(s)\n",
      "           ^^^^^^^^^^^^^^^^^^^^^^^^^^\n",
      "  File \"c:\\Users\\sinhd\\AppData\\Local\\Programs\\Python\\Python311\\Lib\\json\\decoder.py\", line 337, in decode\n",
      "    obj, end = self.raw_decode(s, idx=_w(s, 0).end())\n",
      "               ^^^^^^^^^^^^^^^^^^^^^^^^^^^^^^^^^^^^^^\n",
      "  File \"c:\\Users\\sinhd\\AppData\\Local\\Programs\\Python\\Python311\\Lib\\json\\decoder.py\", line 355, in raw_decode\n",
      "    raise JSONDecodeError(\"Expecting value\", s, err.value) from None\n",
      "json.decoder.JSONDecodeError: Expecting value: line 1 column 2 (char 1)\n"
     ]
    },
    {
     "name": "stdout",
     "output_type": "stream",
     "text": [
      "https://facebook.com/duonglendinholympia/posts/713441514140886\n"
     ]
    },
    {
     "name": "stderr",
     "output_type": "stream",
     "text": [
      "Traceback (most recent call last):\n",
      "  File \"c:\\Users\\sinhd\\AppData\\Local\\Programs\\Python\\Python311\\Lib\\site-packages\\facebook_scraper\\utils.py\", line 279, in safe_consume\n",
      "    for item in generator:\n",
      "  File \"c:\\Users\\sinhd\\AppData\\Local\\Programs\\Python\\Python311\\Lib\\site-packages\\facebook_scraper\\extractors.py\", line 708, in extract_reactors\n",
      "    data = json.loads(response.text[prefix_length:])  # Strip 'for (;;);'\n",
      "           ^^^^^^^^^^^^^^^^^^^^^^^^^^^^^^^^^^^^^^^^^\n",
      "  File \"c:\\Users\\sinhd\\AppData\\Local\\Programs\\Python\\Python311\\Lib\\json\\__init__.py\", line 346, in loads\n",
      "    return _default_decoder.decode(s)\n",
      "           ^^^^^^^^^^^^^^^^^^^^^^^^^^\n",
      "  File \"c:\\Users\\sinhd\\AppData\\Local\\Programs\\Python\\Python311\\Lib\\json\\decoder.py\", line 337, in decode\n",
      "    obj, end = self.raw_decode(s, idx=_w(s, 0).end())\n",
      "               ^^^^^^^^^^^^^^^^^^^^^^^^^^^^^^^^^^^^^^\n",
      "  File \"c:\\Users\\sinhd\\AppData\\Local\\Programs\\Python\\Python311\\Lib\\json\\decoder.py\", line 355, in raw_decode\n",
      "    raise JSONDecodeError(\"Expecting value\", s, err.value) from None\n",
      "json.decoder.JSONDecodeError: Expecting value: line 1 column 2 (char 1)\n"
     ]
    },
    {
     "name": "stdout",
     "output_type": "stream",
     "text": [
      "https://facebook.com/duonglendinholympia/posts/713434710808233\n"
     ]
    },
    {
     "name": "stderr",
     "output_type": "stream",
     "text": [
      "Traceback (most recent call last):\n",
      "  File \"c:\\Users\\sinhd\\AppData\\Local\\Programs\\Python\\Python311\\Lib\\site-packages\\facebook_scraper\\utils.py\", line 279, in safe_consume\n",
      "    for item in generator:\n",
      "  File \"c:\\Users\\sinhd\\AppData\\Local\\Programs\\Python\\Python311\\Lib\\site-packages\\facebook_scraper\\extractors.py\", line 708, in extract_reactors\n",
      "    data = json.loads(response.text[prefix_length:])  # Strip 'for (;;);'\n",
      "           ^^^^^^^^^^^^^^^^^^^^^^^^^^^^^^^^^^^^^^^^^\n",
      "  File \"c:\\Users\\sinhd\\AppData\\Local\\Programs\\Python\\Python311\\Lib\\json\\__init__.py\", line 346, in loads\n",
      "    return _default_decoder.decode(s)\n",
      "           ^^^^^^^^^^^^^^^^^^^^^^^^^^\n",
      "  File \"c:\\Users\\sinhd\\AppData\\Local\\Programs\\Python\\Python311\\Lib\\json\\decoder.py\", line 337, in decode\n",
      "    obj, end = self.raw_decode(s, idx=_w(s, 0).end())\n",
      "               ^^^^^^^^^^^^^^^^^^^^^^^^^^^^^^^^^^^^^^\n",
      "  File \"c:\\Users\\sinhd\\AppData\\Local\\Programs\\Python\\Python311\\Lib\\json\\decoder.py\", line 355, in raw_decode\n",
      "    raise JSONDecodeError(\"Expecting value\", s, err.value) from None\n",
      "json.decoder.JSONDecodeError: Expecting value: line 1 column 2 (char 1)\n"
     ]
    },
    {
     "name": "stdout",
     "output_type": "stream",
     "text": [
      "https://facebook.com/duonglendinholympia/posts/713384404146597\n"
     ]
    },
    {
     "name": "stderr",
     "output_type": "stream",
     "text": [
      "Traceback (most recent call last):\n",
      "  File \"c:\\Users\\sinhd\\AppData\\Local\\Programs\\Python\\Python311\\Lib\\site-packages\\facebook_scraper\\utils.py\", line 279, in safe_consume\n",
      "    for item in generator:\n",
      "  File \"c:\\Users\\sinhd\\AppData\\Local\\Programs\\Python\\Python311\\Lib\\site-packages\\facebook_scraper\\extractors.py\", line 708, in extract_reactors\n",
      "    data = json.loads(response.text[prefix_length:])  # Strip 'for (;;);'\n",
      "           ^^^^^^^^^^^^^^^^^^^^^^^^^^^^^^^^^^^^^^^^^\n",
      "  File \"c:\\Users\\sinhd\\AppData\\Local\\Programs\\Python\\Python311\\Lib\\json\\__init__.py\", line 346, in loads\n",
      "    return _default_decoder.decode(s)\n",
      "           ^^^^^^^^^^^^^^^^^^^^^^^^^^\n",
      "  File \"c:\\Users\\sinhd\\AppData\\Local\\Programs\\Python\\Python311\\Lib\\json\\decoder.py\", line 337, in decode\n",
      "    obj, end = self.raw_decode(s, idx=_w(s, 0).end())\n",
      "               ^^^^^^^^^^^^^^^^^^^^^^^^^^^^^^^^^^^^^^\n",
      "  File \"c:\\Users\\sinhd\\AppData\\Local\\Programs\\Python\\Python311\\Lib\\json\\decoder.py\", line 355, in raw_decode\n",
      "    raise JSONDecodeError(\"Expecting value\", s, err.value) from None\n",
      "json.decoder.JSONDecodeError: Expecting value: line 1 column 2 (char 1)\n"
     ]
    },
    {
     "name": "stdout",
     "output_type": "stream",
     "text": [
      "https://facebook.com/duonglendinholympia/posts/713123590839345\n"
     ]
    },
    {
     "name": "stderr",
     "output_type": "stream",
     "text": [
      "Traceback (most recent call last):\n",
      "  File \"c:\\Users\\sinhd\\AppData\\Local\\Programs\\Python\\Python311\\Lib\\site-packages\\facebook_scraper\\utils.py\", line 279, in safe_consume\n",
      "    for item in generator:\n",
      "  File \"c:\\Users\\sinhd\\AppData\\Local\\Programs\\Python\\Python311\\Lib\\site-packages\\facebook_scraper\\extractors.py\", line 708, in extract_reactors\n",
      "    data = json.loads(response.text[prefix_length:])  # Strip 'for (;;);'\n",
      "           ^^^^^^^^^^^^^^^^^^^^^^^^^^^^^^^^^^^^^^^^^\n",
      "  File \"c:\\Users\\sinhd\\AppData\\Local\\Programs\\Python\\Python311\\Lib\\json\\__init__.py\", line 346, in loads\n",
      "    return _default_decoder.decode(s)\n",
      "           ^^^^^^^^^^^^^^^^^^^^^^^^^^\n",
      "  File \"c:\\Users\\sinhd\\AppData\\Local\\Programs\\Python\\Python311\\Lib\\json\\decoder.py\", line 337, in decode\n",
      "    obj, end = self.raw_decode(s, idx=_w(s, 0).end())\n",
      "               ^^^^^^^^^^^^^^^^^^^^^^^^^^^^^^^^^^^^^^\n",
      "  File \"c:\\Users\\sinhd\\AppData\\Local\\Programs\\Python\\Python311\\Lib\\json\\decoder.py\", line 355, in raw_decode\n",
      "    raise JSONDecodeError(\"Expecting value\", s, err.value) from None\n",
      "json.decoder.JSONDecodeError: Expecting value: line 1 column 2 (char 1)\n"
     ]
    },
    {
     "name": "stdout",
     "output_type": "stream",
     "text": [
      "https://facebook.com/duonglendinholympia/posts/713090260842678\n"
     ]
    },
    {
     "name": "stderr",
     "output_type": "stream",
     "text": [
      "Traceback (most recent call last):\n",
      "  File \"c:\\Users\\sinhd\\AppData\\Local\\Programs\\Python\\Python311\\Lib\\site-packages\\facebook_scraper\\utils.py\", line 279, in safe_consume\n",
      "    for item in generator:\n",
      "  File \"c:\\Users\\sinhd\\AppData\\Local\\Programs\\Python\\Python311\\Lib\\site-packages\\facebook_scraper\\extractors.py\", line 708, in extract_reactors\n",
      "    data = json.loads(response.text[prefix_length:])  # Strip 'for (;;);'\n",
      "           ^^^^^^^^^^^^^^^^^^^^^^^^^^^^^^^^^^^^^^^^^\n",
      "  File \"c:\\Users\\sinhd\\AppData\\Local\\Programs\\Python\\Python311\\Lib\\json\\__init__.py\", line 346, in loads\n",
      "    return _default_decoder.decode(s)\n",
      "           ^^^^^^^^^^^^^^^^^^^^^^^^^^\n",
      "  File \"c:\\Users\\sinhd\\AppData\\Local\\Programs\\Python\\Python311\\Lib\\json\\decoder.py\", line 337, in decode\n",
      "    obj, end = self.raw_decode(s, idx=_w(s, 0).end())\n",
      "               ^^^^^^^^^^^^^^^^^^^^^^^^^^^^^^^^^^^^^^\n",
      "  File \"c:\\Users\\sinhd\\AppData\\Local\\Programs\\Python\\Python311\\Lib\\json\\decoder.py\", line 355, in raw_decode\n",
      "    raise JSONDecodeError(\"Expecting value\", s, err.value) from None\n",
      "json.decoder.JSONDecodeError: Expecting value: line 1 column 2 (char 1)\n"
     ]
    },
    {
     "name": "stdout",
     "output_type": "stream",
     "text": [
      "https://facebook.com/duonglendinholympia/posts/713052980846406\n"
     ]
    },
    {
     "name": "stderr",
     "output_type": "stream",
     "text": [
      "Traceback (most recent call last):\n",
      "  File \"c:\\Users\\sinhd\\AppData\\Local\\Programs\\Python\\Python311\\Lib\\site-packages\\facebook_scraper\\utils.py\", line 279, in safe_consume\n",
      "    for item in generator:\n",
      "  File \"c:\\Users\\sinhd\\AppData\\Local\\Programs\\Python\\Python311\\Lib\\site-packages\\facebook_scraper\\extractors.py\", line 708, in extract_reactors\n",
      "    data = json.loads(response.text[prefix_length:])  # Strip 'for (;;);'\n",
      "           ^^^^^^^^^^^^^^^^^^^^^^^^^^^^^^^^^^^^^^^^^\n",
      "  File \"c:\\Users\\sinhd\\AppData\\Local\\Programs\\Python\\Python311\\Lib\\json\\__init__.py\", line 346, in loads\n",
      "    return _default_decoder.decode(s)\n",
      "           ^^^^^^^^^^^^^^^^^^^^^^^^^^\n",
      "  File \"c:\\Users\\sinhd\\AppData\\Local\\Programs\\Python\\Python311\\Lib\\json\\decoder.py\", line 337, in decode\n",
      "    obj, end = self.raw_decode(s, idx=_w(s, 0).end())\n",
      "               ^^^^^^^^^^^^^^^^^^^^^^^^^^^^^^^^^^^^^^\n",
      "  File \"c:\\Users\\sinhd\\AppData\\Local\\Programs\\Python\\Python311\\Lib\\json\\decoder.py\", line 355, in raw_decode\n",
      "    raise JSONDecodeError(\"Expecting value\", s, err.value) from None\n",
      "json.decoder.JSONDecodeError: Expecting value: line 1 column 2 (char 1)\n"
     ]
    },
    {
     "name": "stdout",
     "output_type": "stream",
     "text": [
      "https://facebook.com/duonglendinholympia/posts/712906080861096\n"
     ]
    },
    {
     "name": "stderr",
     "output_type": "stream",
     "text": [
      "Traceback (most recent call last):\n",
      "  File \"c:\\Users\\sinhd\\AppData\\Local\\Programs\\Python\\Python311\\Lib\\site-packages\\facebook_scraper\\utils.py\", line 279, in safe_consume\n",
      "    for item in generator:\n",
      "  File \"c:\\Users\\sinhd\\AppData\\Local\\Programs\\Python\\Python311\\Lib\\site-packages\\facebook_scraper\\extractors.py\", line 708, in extract_reactors\n",
      "    data = json.loads(response.text[prefix_length:])  # Strip 'for (;;);'\n",
      "           ^^^^^^^^^^^^^^^^^^^^^^^^^^^^^^^^^^^^^^^^^\n",
      "  File \"c:\\Users\\sinhd\\AppData\\Local\\Programs\\Python\\Python311\\Lib\\json\\__init__.py\", line 346, in loads\n",
      "    return _default_decoder.decode(s)\n",
      "           ^^^^^^^^^^^^^^^^^^^^^^^^^^\n",
      "  File \"c:\\Users\\sinhd\\AppData\\Local\\Programs\\Python\\Python311\\Lib\\json\\decoder.py\", line 337, in decode\n",
      "    obj, end = self.raw_decode(s, idx=_w(s, 0).end())\n",
      "               ^^^^^^^^^^^^^^^^^^^^^^^^^^^^^^^^^^^^^^\n",
      "  File \"c:\\Users\\sinhd\\AppData\\Local\\Programs\\Python\\Python311\\Lib\\json\\decoder.py\", line 355, in raw_decode\n",
      "    raise JSONDecodeError(\"Expecting value\", s, err.value) from None\n",
      "json.decoder.JSONDecodeError: Expecting value: line 1 column 2 (char 1)\n"
     ]
    },
    {
     "name": "stdout",
     "output_type": "stream",
     "text": [
      "https://facebook.com/duonglendinholympia/posts/712761740875530\n"
     ]
    },
    {
     "name": "stderr",
     "output_type": "stream",
     "text": [
      "Traceback (most recent call last):\n",
      "  File \"c:\\Users\\sinhd\\AppData\\Local\\Programs\\Python\\Python311\\Lib\\site-packages\\facebook_scraper\\utils.py\", line 279, in safe_consume\n",
      "    for item in generator:\n",
      "  File \"c:\\Users\\sinhd\\AppData\\Local\\Programs\\Python\\Python311\\Lib\\site-packages\\facebook_scraper\\extractors.py\", line 708, in extract_reactors\n",
      "    data = json.loads(response.text[prefix_length:])  # Strip 'for (;;);'\n",
      "           ^^^^^^^^^^^^^^^^^^^^^^^^^^^^^^^^^^^^^^^^^\n",
      "  File \"c:\\Users\\sinhd\\AppData\\Local\\Programs\\Python\\Python311\\Lib\\json\\__init__.py\", line 346, in loads\n",
      "    return _default_decoder.decode(s)\n",
      "           ^^^^^^^^^^^^^^^^^^^^^^^^^^\n",
      "  File \"c:\\Users\\sinhd\\AppData\\Local\\Programs\\Python\\Python311\\Lib\\json\\decoder.py\", line 337, in decode\n",
      "    obj, end = self.raw_decode(s, idx=_w(s, 0).end())\n",
      "               ^^^^^^^^^^^^^^^^^^^^^^^^^^^^^^^^^^^^^^\n",
      "  File \"c:\\Users\\sinhd\\AppData\\Local\\Programs\\Python\\Python311\\Lib\\json\\decoder.py\", line 355, in raw_decode\n",
      "    raise JSONDecodeError(\"Expecting value\", s, err.value) from None\n",
      "json.decoder.JSONDecodeError: Expecting value: line 1 column 2 (char 1)\n"
     ]
    },
    {
     "name": "stdout",
     "output_type": "stream",
     "text": [
      "https://facebook.com/duonglendinholympia/posts/712348594250178\n"
     ]
    },
    {
     "name": "stderr",
     "output_type": "stream",
     "text": [
      "Traceback (most recent call last):\n",
      "  File \"c:\\Users\\sinhd\\AppData\\Local\\Programs\\Python\\Python311\\Lib\\site-packages\\facebook_scraper\\utils.py\", line 279, in safe_consume\n",
      "    for item in generator:\n",
      "  File \"c:\\Users\\sinhd\\AppData\\Local\\Programs\\Python\\Python311\\Lib\\site-packages\\facebook_scraper\\extractors.py\", line 708, in extract_reactors\n",
      "    data = json.loads(response.text[prefix_length:])  # Strip 'for (;;);'\n",
      "           ^^^^^^^^^^^^^^^^^^^^^^^^^^^^^^^^^^^^^^^^^\n",
      "  File \"c:\\Users\\sinhd\\AppData\\Local\\Programs\\Python\\Python311\\Lib\\json\\__init__.py\", line 346, in loads\n",
      "    return _default_decoder.decode(s)\n",
      "           ^^^^^^^^^^^^^^^^^^^^^^^^^^\n",
      "  File \"c:\\Users\\sinhd\\AppData\\Local\\Programs\\Python\\Python311\\Lib\\json\\decoder.py\", line 337, in decode\n",
      "    obj, end = self.raw_decode(s, idx=_w(s, 0).end())\n",
      "               ^^^^^^^^^^^^^^^^^^^^^^^^^^^^^^^^^^^^^^\n",
      "  File \"c:\\Users\\sinhd\\AppData\\Local\\Programs\\Python\\Python311\\Lib\\json\\decoder.py\", line 355, in raw_decode\n",
      "    raise JSONDecodeError(\"Expecting value\", s, err.value) from None\n",
      "json.decoder.JSONDecodeError: Expecting value: line 1 column 2 (char 1)\n"
     ]
    },
    {
     "name": "stdout",
     "output_type": "stream",
     "text": [
      "https://facebook.com/duonglendinholympia/posts/712344740917230\n"
     ]
    },
    {
     "name": "stderr",
     "output_type": "stream",
     "text": [
      "Traceback (most recent call last):\n",
      "  File \"c:\\Users\\sinhd\\AppData\\Local\\Programs\\Python\\Python311\\Lib\\site-packages\\facebook_scraper\\utils.py\", line 279, in safe_consume\n",
      "    for item in generator:\n",
      "  File \"c:\\Users\\sinhd\\AppData\\Local\\Programs\\Python\\Python311\\Lib\\site-packages\\facebook_scraper\\extractors.py\", line 708, in extract_reactors\n",
      "    data = json.loads(response.text[prefix_length:])  # Strip 'for (;;);'\n",
      "           ^^^^^^^^^^^^^^^^^^^^^^^^^^^^^^^^^^^^^^^^^\n",
      "  File \"c:\\Users\\sinhd\\AppData\\Local\\Programs\\Python\\Python311\\Lib\\json\\__init__.py\", line 346, in loads\n",
      "    return _default_decoder.decode(s)\n",
      "           ^^^^^^^^^^^^^^^^^^^^^^^^^^\n",
      "  File \"c:\\Users\\sinhd\\AppData\\Local\\Programs\\Python\\Python311\\Lib\\json\\decoder.py\", line 337, in decode\n",
      "    obj, end = self.raw_decode(s, idx=_w(s, 0).end())\n",
      "               ^^^^^^^^^^^^^^^^^^^^^^^^^^^^^^^^^^^^^^\n",
      "  File \"c:\\Users\\sinhd\\AppData\\Local\\Programs\\Python\\Python311\\Lib\\json\\decoder.py\", line 355, in raw_decode\n",
      "    raise JSONDecodeError(\"Expecting value\", s, err.value) from None\n",
      "json.decoder.JSONDecodeError: Expecting value: line 1 column 2 (char 1)\n"
     ]
    },
    {
     "name": "stdout",
     "output_type": "stream",
     "text": [
      "https://facebook.com/duonglendinholympia/posts/712322600919444\n"
     ]
    },
    {
     "name": "stderr",
     "output_type": "stream",
     "text": [
      "Traceback (most recent call last):\n",
      "  File \"c:\\Users\\sinhd\\AppData\\Local\\Programs\\Python\\Python311\\Lib\\site-packages\\facebook_scraper\\utils.py\", line 279, in safe_consume\n",
      "    for item in generator:\n",
      "  File \"c:\\Users\\sinhd\\AppData\\Local\\Programs\\Python\\Python311\\Lib\\site-packages\\facebook_scraper\\extractors.py\", line 708, in extract_reactors\n",
      "    data = json.loads(response.text[prefix_length:])  # Strip 'for (;;);'\n",
      "           ^^^^^^^^^^^^^^^^^^^^^^^^^^^^^^^^^^^^^^^^^\n",
      "  File \"c:\\Users\\sinhd\\AppData\\Local\\Programs\\Python\\Python311\\Lib\\json\\__init__.py\", line 346, in loads\n",
      "    return _default_decoder.decode(s)\n",
      "           ^^^^^^^^^^^^^^^^^^^^^^^^^^\n",
      "  File \"c:\\Users\\sinhd\\AppData\\Local\\Programs\\Python\\Python311\\Lib\\json\\decoder.py\", line 337, in decode\n",
      "    obj, end = self.raw_decode(s, idx=_w(s, 0).end())\n",
      "               ^^^^^^^^^^^^^^^^^^^^^^^^^^^^^^^^^^^^^^\n",
      "  File \"c:\\Users\\sinhd\\AppData\\Local\\Programs\\Python\\Python311\\Lib\\json\\decoder.py\", line 355, in raw_decode\n",
      "    raise JSONDecodeError(\"Expecting value\", s, err.value) from None\n",
      "json.decoder.JSONDecodeError: Expecting value: line 1 column 2 (char 1)\n"
     ]
    },
    {
     "name": "stdout",
     "output_type": "stream",
     "text": [
      "https://facebook.com/duonglendinholympia/posts/712167157601655\n"
     ]
    },
    {
     "name": "stderr",
     "output_type": "stream",
     "text": [
      "Traceback (most recent call last):\n",
      "  File \"c:\\Users\\sinhd\\AppData\\Local\\Programs\\Python\\Python311\\Lib\\site-packages\\facebook_scraper\\utils.py\", line 279, in safe_consume\n",
      "    for item in generator:\n",
      "  File \"c:\\Users\\sinhd\\AppData\\Local\\Programs\\Python\\Python311\\Lib\\site-packages\\facebook_scraper\\extractors.py\", line 708, in extract_reactors\n",
      "    data = json.loads(response.text[prefix_length:])  # Strip 'for (;;);'\n",
      "           ^^^^^^^^^^^^^^^^^^^^^^^^^^^^^^^^^^^^^^^^^\n",
      "  File \"c:\\Users\\sinhd\\AppData\\Local\\Programs\\Python\\Python311\\Lib\\json\\__init__.py\", line 346, in loads\n",
      "    return _default_decoder.decode(s)\n",
      "           ^^^^^^^^^^^^^^^^^^^^^^^^^^\n",
      "  File \"c:\\Users\\sinhd\\AppData\\Local\\Programs\\Python\\Python311\\Lib\\json\\decoder.py\", line 337, in decode\n",
      "    obj, end = self.raw_decode(s, idx=_w(s, 0).end())\n",
      "               ^^^^^^^^^^^^^^^^^^^^^^^^^^^^^^^^^^^^^^\n",
      "  File \"c:\\Users\\sinhd\\AppData\\Local\\Programs\\Python\\Python311\\Lib\\json\\decoder.py\", line 355, in raw_decode\n",
      "    raise JSONDecodeError(\"Expecting value\", s, err.value) from None\n",
      "json.decoder.JSONDecodeError: Expecting value: line 1 column 2 (char 1)\n"
     ]
    },
    {
     "name": "stdout",
     "output_type": "stream",
     "text": [
      "https://facebook.com/duonglendinholympia/posts/711899257628445\n"
     ]
    },
    {
     "name": "stderr",
     "output_type": "stream",
     "text": [
      "Traceback (most recent call last):\n",
      "  File \"c:\\Users\\sinhd\\AppData\\Local\\Programs\\Python\\Python311\\Lib\\site-packages\\facebook_scraper\\utils.py\", line 279, in safe_consume\n",
      "    for item in generator:\n",
      "  File \"c:\\Users\\sinhd\\AppData\\Local\\Programs\\Python\\Python311\\Lib\\site-packages\\facebook_scraper\\extractors.py\", line 708, in extract_reactors\n",
      "    data = json.loads(response.text[prefix_length:])  # Strip 'for (;;);'\n",
      "           ^^^^^^^^^^^^^^^^^^^^^^^^^^^^^^^^^^^^^^^^^\n",
      "  File \"c:\\Users\\sinhd\\AppData\\Local\\Programs\\Python\\Python311\\Lib\\json\\__init__.py\", line 346, in loads\n",
      "    return _default_decoder.decode(s)\n",
      "           ^^^^^^^^^^^^^^^^^^^^^^^^^^\n",
      "  File \"c:\\Users\\sinhd\\AppData\\Local\\Programs\\Python\\Python311\\Lib\\json\\decoder.py\", line 337, in decode\n",
      "    obj, end = self.raw_decode(s, idx=_w(s, 0).end())\n",
      "               ^^^^^^^^^^^^^^^^^^^^^^^^^^^^^^^^^^^^^^\n",
      "  File \"c:\\Users\\sinhd\\AppData\\Local\\Programs\\Python\\Python311\\Lib\\json\\decoder.py\", line 355, in raw_decode\n",
      "    raise JSONDecodeError(\"Expecting value\", s, err.value) from None\n",
      "json.decoder.JSONDecodeError: Expecting value: line 1 column 2 (char 1)\n"
     ]
    },
    {
     "name": "stdout",
     "output_type": "stream",
     "text": [
      "https://facebook.com/duonglendinholympia/posts/711689880982716\n"
     ]
    },
    {
     "name": "stderr",
     "output_type": "stream",
     "text": [
      "Traceback (most recent call last):\n",
      "  File \"c:\\Users\\sinhd\\AppData\\Local\\Programs\\Python\\Python311\\Lib\\site-packages\\facebook_scraper\\utils.py\", line 279, in safe_consume\n",
      "    for item in generator:\n",
      "  File \"c:\\Users\\sinhd\\AppData\\Local\\Programs\\Python\\Python311\\Lib\\site-packages\\facebook_scraper\\extractors.py\", line 708, in extract_reactors\n",
      "    data = json.loads(response.text[prefix_length:])  # Strip 'for (;;);'\n",
      "           ^^^^^^^^^^^^^^^^^^^^^^^^^^^^^^^^^^^^^^^^^\n",
      "  File \"c:\\Users\\sinhd\\AppData\\Local\\Programs\\Python\\Python311\\Lib\\json\\__init__.py\", line 346, in loads\n",
      "    return _default_decoder.decode(s)\n",
      "           ^^^^^^^^^^^^^^^^^^^^^^^^^^\n",
      "  File \"c:\\Users\\sinhd\\AppData\\Local\\Programs\\Python\\Python311\\Lib\\json\\decoder.py\", line 337, in decode\n",
      "    obj, end = self.raw_decode(s, idx=_w(s, 0).end())\n",
      "               ^^^^^^^^^^^^^^^^^^^^^^^^^^^^^^^^^^^^^^\n",
      "  File \"c:\\Users\\sinhd\\AppData\\Local\\Programs\\Python\\Python311\\Lib\\json\\decoder.py\", line 355, in raw_decode\n",
      "    raise JSONDecodeError(\"Expecting value\", s, err.value) from None\n",
      "json.decoder.JSONDecodeError: Expecting value: line 1 column 2 (char 1)\n"
     ]
    },
    {
     "name": "stdout",
     "output_type": "stream",
     "text": [
      "https://facebook.com/duonglendinholympia/posts/711675244317513\n",
      "https://facebook.com/duonglendinholympia/posts/711649084320129\n",
      "https://facebook.com/duonglendinholympia/posts/711232121028492\n"
     ]
    },
    {
     "name": "stderr",
     "output_type": "stream",
     "text": [
      "Traceback (most recent call last):\n",
      "  File \"c:\\Users\\sinhd\\AppData\\Local\\Programs\\Python\\Python311\\Lib\\site-packages\\facebook_scraper\\utils.py\", line 279, in safe_consume\n",
      "    for item in generator:\n",
      "  File \"c:\\Users\\sinhd\\AppData\\Local\\Programs\\Python\\Python311\\Lib\\site-packages\\facebook_scraper\\extractors.py\", line 708, in extract_reactors\n",
      "    data = json.loads(response.text[prefix_length:])  # Strip 'for (;;);'\n",
      "           ^^^^^^^^^^^^^^^^^^^^^^^^^^^^^^^^^^^^^^^^^\n",
      "  File \"c:\\Users\\sinhd\\AppData\\Local\\Programs\\Python\\Python311\\Lib\\json\\__init__.py\", line 346, in loads\n",
      "    return _default_decoder.decode(s)\n",
      "           ^^^^^^^^^^^^^^^^^^^^^^^^^^\n",
      "  File \"c:\\Users\\sinhd\\AppData\\Local\\Programs\\Python\\Python311\\Lib\\json\\decoder.py\", line 337, in decode\n",
      "    obj, end = self.raw_decode(s, idx=_w(s, 0).end())\n",
      "               ^^^^^^^^^^^^^^^^^^^^^^^^^^^^^^^^^^^^^^\n",
      "  File \"c:\\Users\\sinhd\\AppData\\Local\\Programs\\Python\\Python311\\Lib\\json\\decoder.py\", line 355, in raw_decode\n",
      "    raise JSONDecodeError(\"Expecting value\", s, err.value) from None\n",
      "json.decoder.JSONDecodeError: Expecting value: line 1 column 2 (char 1)\n"
     ]
    },
    {
     "name": "stdout",
     "output_type": "stream",
     "text": [
      "https://facebook.com/duonglendinholympia/posts/711181477700223\n",
      "https://facebook.com/duonglendinholympia/posts/710688514416186\n",
      "https://facebook.com/duonglendinholympia/posts/710638131087891\n"
     ]
    },
    {
     "name": "stderr",
     "output_type": "stream",
     "text": [
      "Traceback (most recent call last):\n",
      "  File \"c:\\Users\\sinhd\\AppData\\Local\\Programs\\Python\\Python311\\Lib\\site-packages\\facebook_scraper\\utils.py\", line 279, in safe_consume\n",
      "    for item in generator:\n",
      "  File \"c:\\Users\\sinhd\\AppData\\Local\\Programs\\Python\\Python311\\Lib\\site-packages\\facebook_scraper\\extractors.py\", line 708, in extract_reactors\n",
      "    data = json.loads(response.text[prefix_length:])  # Strip 'for (;;);'\n",
      "           ^^^^^^^^^^^^^^^^^^^^^^^^^^^^^^^^^^^^^^^^^\n",
      "  File \"c:\\Users\\sinhd\\AppData\\Local\\Programs\\Python\\Python311\\Lib\\json\\__init__.py\", line 346, in loads\n",
      "    return _default_decoder.decode(s)\n",
      "           ^^^^^^^^^^^^^^^^^^^^^^^^^^\n",
      "  File \"c:\\Users\\sinhd\\AppData\\Local\\Programs\\Python\\Python311\\Lib\\json\\decoder.py\", line 337, in decode\n",
      "    obj, end = self.raw_decode(s, idx=_w(s, 0).end())\n",
      "               ^^^^^^^^^^^^^^^^^^^^^^^^^^^^^^^^^^^^^^\n",
      "  File \"c:\\Users\\sinhd\\AppData\\Local\\Programs\\Python\\Python311\\Lib\\json\\decoder.py\", line 355, in raw_decode\n",
      "    raise JSONDecodeError(\"Expecting value\", s, err.value) from None\n",
      "json.decoder.JSONDecodeError: Expecting value: line 1 column 2 (char 1)\n"
     ]
    },
    {
     "name": "stdout",
     "output_type": "stream",
     "text": [
      "https://facebook.com/duonglendinholympia/posts/710607724424265\n",
      "https://facebook.com/duonglendinholympia/posts/710449474440090\n",
      "https://facebook.com/duonglendinholympia/posts/710089687809402\n",
      "https://facebook.com/duonglendinholympia/posts/709448461206858\n",
      "https://facebook.com/duonglendinholympia/posts/708782921273412\n",
      "https://facebook.com/duonglendinholympia/posts/706247968193574\n",
      "https://facebook.com/duonglendinholympia/posts/706247048193666\n",
      "https://facebook.com/duonglendinholympia/posts/706245858193785\n",
      "Done\n"
     ]
    }
   ],
   "source": [
    "start_url = None\n",
    "set_cookies(\"www.facebook.com_cookies.txt\")\n",
    "\n",
    "\n",
    "def handle_pagination_url(url):\n",
    "    global start_url\n",
    "    start_url = url\n",
    "\n",
    "post_list = []\n",
    "while True:\n",
    "    try:\n",
    "        posts = get_posts(FANPAGE_LINK,\n",
    "                    options={\"comments\": True, \"reactions\": True, \"allow_extra_requests\": True, \"posts_per_page\": 500},\n",
    "                    extra_info= True, pages=PAGES_NUMBER, start_url=start_url, request_url_callback = handle_pagination_url)\n",
    "        for post in posts:\n",
    "            post_list.append(post)\n",
    "            print(post.get('post_url'))\n",
    "        print('Done')\n",
    "        break\n",
    "    except exceptions.TemporarilyBanned:\n",
    "        print('Banned')\n",
    "        time.sleep(600)"
   ]
  },
  {
   "cell_type": "markdown",
   "metadata": {},
   "source": []
  },
  {
   "cell_type": "markdown",
   "metadata": {},
   "source": [
    "## Convert list of dicts to df"
   ]
  },
  {
   "cell_type": "markdown",
   "metadata": {},
   "source": [
    "Now we can convert the list of dictionaries to a pandas dataframe. We will be using the pandas library to do this. We will also be saving the dataframe to a xlxs or csv file."
   ]
  },
  {
   "cell_type": "code",
   "execution_count": 6,
   "metadata": {},
   "outputs": [
    {
     "name": "stdout",
     "output_type": "stream",
     "text": [
      "Data/duonglendinholympia.csv\n"
     ]
    }
   ],
   "source": [
    "# Initialize dataframe to scrape Facebook post\n",
    "post_df_full = pd.DataFrame(columns=post_list[0].keys(), index=range(len(post_list)), data=post_list)\n",
    "\n",
    "# To df\n",
    "path=FOLDER_PATH + FANPAGE_LINK + \".csv\"\n",
    "post_df_full.to_csv(path, index=False)\n",
    "print(path)"
   ]
  },
  {
   "cell_type": "code",
   "execution_count": 5,
   "metadata": {},
   "outputs": [
    {
     "data": {
      "text/html": [
       "<div>\n",
       "<style scoped>\n",
       "    .dataframe tbody tr th:only-of-type {\n",
       "        vertical-align: middle;\n",
       "    }\n",
       "\n",
       "    .dataframe tbody tr th {\n",
       "        vertical-align: top;\n",
       "    }\n",
       "\n",
       "    .dataframe thead th {\n",
       "        text-align: right;\n",
       "    }\n",
       "</style>\n",
       "<table border=\"1\" class=\"dataframe\">\n",
       "  <thead>\n",
       "    <tr style=\"text-align: right;\">\n",
       "      <th></th>\n",
       "      <th>post_id</th>\n",
       "      <th>text</th>\n",
       "      <th>post_text</th>\n",
       "      <th>shared_text</th>\n",
       "      <th>original_text</th>\n",
       "      <th>time</th>\n",
       "      <th>timestamp</th>\n",
       "      <th>image</th>\n",
       "      <th>image_lowquality</th>\n",
       "      <th>images</th>\n",
       "      <th>...</th>\n",
       "      <th>w3_fb_url</th>\n",
       "      <th>reactions</th>\n",
       "      <th>reaction_count</th>\n",
       "      <th>with</th>\n",
       "      <th>page_id</th>\n",
       "      <th>sharers</th>\n",
       "      <th>image_id</th>\n",
       "      <th>image_ids</th>\n",
       "      <th>was_live</th>\n",
       "      <th>fetched_time</th>\n",
       "    </tr>\n",
       "  </thead>\n",
       "  <tbody>\n",
       "    <tr>\n",
       "      <th>0</th>\n",
       "      <td>740366634781707</td>\n",
       "      <td>Chúc mừng Đinh Ngọc Lương - THPT Chu Văn An, T...</td>\n",
       "      <td>Chúc mừng Đinh Ngọc Lương - THPT Chu Văn An, T...</td>\n",
       "      <td></td>\n",
       "      <td>None</td>\n",
       "      <td>2023-11-20 16:04:40</td>\n",
       "      <td>1700471080</td>\n",
       "      <td>None</td>\n",
       "      <td>https://scontent.fhan14-2.fna.fbcdn.net/v/t15....</td>\n",
       "      <td>[]</td>\n",
       "      <td>...</td>\n",
       "      <td>https://www.facebook.com/duonglendinholympia/p...</td>\n",
       "      <td>{'thích': 21, 'yêu thích': 6}</td>\n",
       "      <td>27</td>\n",
       "      <td>None</td>\n",
       "      <td>174050135951633</td>\n",
       "      <td>None</td>\n",
       "      <td>None</td>\n",
       "      <td>[]</td>\n",
       "      <td>False</td>\n",
       "      <td>2023-11-20 16:11:09.868490</td>\n",
       "    </tr>\n",
       "    <tr>\n",
       "      <th>1</th>\n",
       "      <td>740267858124918</td>\n",
       "      <td>🎉 CHÚC MỪNG NGÀY NHÀ GIÁO VIỆT NAM 20/11 📖\\n\\n...</td>\n",
       "      <td>🎉 CHÚC MỪNG NGÀY NHÀ GIÁO VIỆT NAM 20/11 📖\\n\\n...</td>\n",
       "      <td></td>\n",
       "      <td>None</td>\n",
       "      <td>2023-11-20 11:22:23</td>\n",
       "      <td>1700454143</td>\n",
       "      <td>https://m.facebook.com/photo/view_full_size/?f...</td>\n",
       "      <td>https://scontent.fhan14-3.fna.fbcdn.net/v/t39....</td>\n",
       "      <td>[https://m.facebook.com/photo/view_full_size/?...</td>\n",
       "      <td>...</td>\n",
       "      <td>https://www.facebook.com/duonglendinholympia/p...</td>\n",
       "      <td>{'thích': 358, 'yêu thích': 210, 'haha': 1, 't...</td>\n",
       "      <td>571</td>\n",
       "      <td>None</td>\n",
       "      <td>174050135951633</td>\n",
       "      <td>None</td>\n",
       "      <td>740263764791994</td>\n",
       "      <td>[740263764791994]</td>\n",
       "      <td>False</td>\n",
       "      <td>2023-11-20 16:11:16.402863</td>\n",
       "    </tr>\n",
       "    <tr>\n",
       "      <th>2</th>\n",
       "      <td>739768378174866</td>\n",
       "      <td>Chúc mừng Đinh Ngọc Lương - THPT Chu Văn An, T...</td>\n",
       "      <td>Chúc mừng Đinh Ngọc Lương - THPT Chu Văn An, T...</td>\n",
       "      <td></td>\n",
       "      <td>None</td>\n",
       "      <td>2023-11-19 15:30:52</td>\n",
       "      <td>1700382652</td>\n",
       "      <td>https://scontent.fhan14-1.fna.fbcdn.net/v/t39....</td>\n",
       "      <td>https://scontent.fhan14-1.fna.fbcdn.net/v/t39....</td>\n",
       "      <td>[https://scontent.fhan14-1.fna.fbcdn.net/v/t39...</td>\n",
       "      <td>...</td>\n",
       "      <td>https://www.facebook.com/duonglendinholympia/p...</td>\n",
       "      <td>{'thích': 2222, 'yêu thích': 865, 'haha': 25, ...</td>\n",
       "      <td>3143</td>\n",
       "      <td>None</td>\n",
       "      <td>174050135951633</td>\n",
       "      <td>None</td>\n",
       "      <td>739767978174906</td>\n",
       "      <td>[739767978174906]</td>\n",
       "      <td>False</td>\n",
       "      <td>2023-11-20 16:11:27.569239</td>\n",
       "    </tr>\n",
       "    <tr>\n",
       "      <th>3</th>\n",
       "      <td>739722894846081</td>\n",
       "      <td>Tâm này mà mở VTV3 là thấy chúng tôi trên sóng...</td>\n",
       "      <td>Tâm này mà mở VTV3 là thấy chúng tôi trên sóng...</td>\n",
       "      <td></td>\n",
       "      <td>None</td>\n",
       "      <td>2023-11-19 13:01:12</td>\n",
       "      <td>1700373672</td>\n",
       "      <td>https://scontent.fhan14-4.fna.fbcdn.net/v/t39....</td>\n",
       "      <td>https://scontent.fhan14-4.fna.fbcdn.net/v/t39....</td>\n",
       "      <td>[https://scontent.fhan14-4.fna.fbcdn.net/v/t39...</td>\n",
       "      <td>...</td>\n",
       "      <td>https://www.facebook.com/duonglendinholympia/p...</td>\n",
       "      <td>{'thích': 863, 'yêu thích': 302, 'haha': 1, 'w...</td>\n",
       "      <td>1181</td>\n",
       "      <td>None</td>\n",
       "      <td>174050135951633</td>\n",
       "      <td>None</td>\n",
       "      <td>739721391512898</td>\n",
       "      <td>[739721391512898]</td>\n",
       "      <td>False</td>\n",
       "      <td>2023-11-20 16:11:45.834515</td>\n",
       "    </tr>\n",
       "    <tr>\n",
       "      <th>4</th>\n",
       "      <td>739711378180566</td>\n",
       "      <td>Tuần này có hoa hậu đăng quang trên sân khấu O...</td>\n",
       "      <td>Tuần này có hoa hậu đăng quang trên sân khấu O...</td>\n",
       "      <td></td>\n",
       "      <td>None</td>\n",
       "      <td>2023-11-19 12:28:13</td>\n",
       "      <td>1700371693</td>\n",
       "      <td>None</td>\n",
       "      <td>https://scontent.fhan14-4.fna.fbcdn.net/v/t15....</td>\n",
       "      <td>[]</td>\n",
       "      <td>...</td>\n",
       "      <td>https://www.facebook.com/duonglendinholympia/p...</td>\n",
       "      <td>{'thích': 1361, 'yêu thích': 418, 'haha': 140,...</td>\n",
       "      <td>1928</td>\n",
       "      <td>None</td>\n",
       "      <td>174050135951633</td>\n",
       "      <td>None</td>\n",
       "      <td>None</td>\n",
       "      <td>[]</td>\n",
       "      <td>False</td>\n",
       "      <td>2023-11-20 16:11:57.716337</td>\n",
       "    </tr>\n",
       "    <tr>\n",
       "      <th>...</th>\n",
       "      <td>...</td>\n",
       "      <td>...</td>\n",
       "      <td>...</td>\n",
       "      <td>...</td>\n",
       "      <td>...</td>\n",
       "      <td>...</td>\n",
       "      <td>...</td>\n",
       "      <td>...</td>\n",
       "      <td>...</td>\n",
       "      <td>...</td>\n",
       "      <td>...</td>\n",
       "      <td>...</td>\n",
       "      <td>...</td>\n",
       "      <td>...</td>\n",
       "      <td>...</td>\n",
       "      <td>...</td>\n",
       "      <td>...</td>\n",
       "      <td>...</td>\n",
       "      <td>...</td>\n",
       "      <td>...</td>\n",
       "      <td>...</td>\n",
       "    </tr>\n",
       "    <tr>\n",
       "      <th>95</th>\n",
       "      <td>702783968539974</td>\n",
       "      <td>Đây không phải Barcelona, Tây Ban Nha.\\nĐây là...</td>\n",
       "      <td>Đây không phải Barcelona, Tây Ban Nha.\\nĐây là...</td>\n",
       "      <td></td>\n",
       "      <td>None</td>\n",
       "      <td>2023-09-19 13:39:33</td>\n",
       "      <td>1695105573</td>\n",
       "      <td>https://scontent.fhan14-1.fna.fbcdn.net/v/t39....</td>\n",
       "      <td>https://scontent.fhan14-1.fna.fbcdn.net/v/t39....</td>\n",
       "      <td>[https://scontent.fhan14-1.fna.fbcdn.net/v/t39...</td>\n",
       "      <td>...</td>\n",
       "      <td>None</td>\n",
       "      <td>None</td>\n",
       "      <td>0</td>\n",
       "      <td>None</td>\n",
       "      <td>174050135951633</td>\n",
       "      <td>None</td>\n",
       "      <td>702783931873311</td>\n",
       "      <td>[702783931873311]</td>\n",
       "      <td>False</td>\n",
       "      <td>NaT</td>\n",
       "    </tr>\n",
       "    <tr>\n",
       "      <th>96</th>\n",
       "      <td>702284605256577</td>\n",
       "      <td>Cảm ơn và trân trọng tinh thần không bao giờ b...</td>\n",
       "      <td>Cảm ơn và trân trọng tinh thần không bao giờ b...</td>\n",
       "      <td></td>\n",
       "      <td>None</td>\n",
       "      <td>2023-09-18 18:09:17</td>\n",
       "      <td>1695035357</td>\n",
       "      <td>None</td>\n",
       "      <td>https://scontent.fhan14-3.fna.fbcdn.net/v/t15....</td>\n",
       "      <td>[]</td>\n",
       "      <td>...</td>\n",
       "      <td>None</td>\n",
       "      <td>None</td>\n",
       "      <td>0</td>\n",
       "      <td>None</td>\n",
       "      <td>174050135951633</td>\n",
       "      <td>None</td>\n",
       "      <td>None</td>\n",
       "      <td>[]</td>\n",
       "      <td>False</td>\n",
       "      <td>NaT</td>\n",
       "    </tr>\n",
       "    <tr>\n",
       "      <th>97</th>\n",
       "      <td>702102651941439</td>\n",
       "      <td>Chương trình tuần này hơi bị \"Ích nước lợi nhà...</td>\n",
       "      <td>Chương trình tuần này hơi bị \"Ích nước lợi nhà...</td>\n",
       "      <td></td>\n",
       "      <td>None</td>\n",
       "      <td>2023-09-18 11:07:24</td>\n",
       "      <td>1695010044</td>\n",
       "      <td>https://scontent.fhan14-4.fna.fbcdn.net/v/t39....</td>\n",
       "      <td>https://scontent.fhan14-4.fna.fbcdn.net/v/t39....</td>\n",
       "      <td>[https://scontent.fhan14-4.fna.fbcdn.net/v/t39...</td>\n",
       "      <td>...</td>\n",
       "      <td>None</td>\n",
       "      <td>None</td>\n",
       "      <td>0</td>\n",
       "      <td>None</td>\n",
       "      <td>174050135951633</td>\n",
       "      <td>None</td>\n",
       "      <td>702102301941474</td>\n",
       "      <td>[702102301941474]</td>\n",
       "      <td>False</td>\n",
       "      <td>NaT</td>\n",
       "    </tr>\n",
       "    <tr>\n",
       "      <th>98</th>\n",
       "      <td>701618508656520</td>\n",
       "      <td>🤣🤣🤣\\n--------------------------------------\\nC...</td>\n",
       "      <td>🤣🤣🤣\\n--------------------------------------\\nC...</td>\n",
       "      <td></td>\n",
       "      <td>None</td>\n",
       "      <td>2023-09-17 17:19:58</td>\n",
       "      <td>1694945998</td>\n",
       "      <td>None</td>\n",
       "      <td>https://scontent.fhan14-1.fna.fbcdn.net/v/t15....</td>\n",
       "      <td>[]</td>\n",
       "      <td>...</td>\n",
       "      <td>None</td>\n",
       "      <td>None</td>\n",
       "      <td>0</td>\n",
       "      <td>None</td>\n",
       "      <td>174050135951633</td>\n",
       "      <td>None</td>\n",
       "      <td>None</td>\n",
       "      <td>[]</td>\n",
       "      <td>False</td>\n",
       "      <td>NaT</td>\n",
       "    </tr>\n",
       "    <tr>\n",
       "      <th>99</th>\n",
       "      <td>701611541990550</td>\n",
       "      <td>\"Anh ghi cho em 3 con 20\"\\nOk em, bonus vòng n...</td>\n",
       "      <td>\"Anh ghi cho em 3 con 20\"\\nOk em, bonus vòng n...</td>\n",
       "      <td></td>\n",
       "      <td>None</td>\n",
       "      <td>2023-09-17 17:07:56</td>\n",
       "      <td>1694945276</td>\n",
       "      <td>https://scontent.fhan14-4.fna.fbcdn.net/v/t39....</td>\n",
       "      <td>https://scontent.fhan14-4.fna.fbcdn.net/v/t39....</td>\n",
       "      <td>[https://scontent.fhan14-4.fna.fbcdn.net/v/t39...</td>\n",
       "      <td>...</td>\n",
       "      <td>None</td>\n",
       "      <td>None</td>\n",
       "      <td>0</td>\n",
       "      <td>None</td>\n",
       "      <td>174050135951633</td>\n",
       "      <td>None</td>\n",
       "      <td>701609408657430</td>\n",
       "      <td>[701609408657430]</td>\n",
       "      <td>False</td>\n",
       "      <td>NaT</td>\n",
       "    </tr>\n",
       "  </tbody>\n",
       "</table>\n",
       "<p>100 rows × 51 columns</p>\n",
       "</div>"
      ],
      "text/plain": [
       "            post_id                                               text  \\\n",
       "0   740366634781707  Chúc mừng Đinh Ngọc Lương - THPT Chu Văn An, T...   \n",
       "1   740267858124918  🎉 CHÚC MỪNG NGÀY NHÀ GIÁO VIỆT NAM 20/11 📖\\n\\n...   \n",
       "2   739768378174866  Chúc mừng Đinh Ngọc Lương - THPT Chu Văn An, T...   \n",
       "3   739722894846081  Tâm này mà mở VTV3 là thấy chúng tôi trên sóng...   \n",
       "4   739711378180566  Tuần này có hoa hậu đăng quang trên sân khấu O...   \n",
       "..              ...                                                ...   \n",
       "95  702783968539974  Đây không phải Barcelona, Tây Ban Nha.\\nĐây là...   \n",
       "96  702284605256577  Cảm ơn và trân trọng tinh thần không bao giờ b...   \n",
       "97  702102651941439  Chương trình tuần này hơi bị \"Ích nước lợi nhà...   \n",
       "98  701618508656520  🤣🤣🤣\\n--------------------------------------\\nC...   \n",
       "99  701611541990550  \"Anh ghi cho em 3 con 20\"\\nOk em, bonus vòng n...   \n",
       "\n",
       "                                            post_text shared_text  \\\n",
       "0   Chúc mừng Đinh Ngọc Lương - THPT Chu Văn An, T...               \n",
       "1   🎉 CHÚC MỪNG NGÀY NHÀ GIÁO VIỆT NAM 20/11 📖\\n\\n...               \n",
       "2   Chúc mừng Đinh Ngọc Lương - THPT Chu Văn An, T...               \n",
       "3   Tâm này mà mở VTV3 là thấy chúng tôi trên sóng...               \n",
       "4   Tuần này có hoa hậu đăng quang trên sân khấu O...               \n",
       "..                                                ...         ...   \n",
       "95  Đây không phải Barcelona, Tây Ban Nha.\\nĐây là...               \n",
       "96  Cảm ơn và trân trọng tinh thần không bao giờ b...               \n",
       "97  Chương trình tuần này hơi bị \"Ích nước lợi nhà...               \n",
       "98  🤣🤣🤣\\n--------------------------------------\\nC...               \n",
       "99  \"Anh ghi cho em 3 con 20\"\\nOk em, bonus vòng n...               \n",
       "\n",
       "   original_text                time   timestamp  \\\n",
       "0           None 2023-11-20 16:04:40  1700471080   \n",
       "1           None 2023-11-20 11:22:23  1700454143   \n",
       "2           None 2023-11-19 15:30:52  1700382652   \n",
       "3           None 2023-11-19 13:01:12  1700373672   \n",
       "4           None 2023-11-19 12:28:13  1700371693   \n",
       "..           ...                 ...         ...   \n",
       "95          None 2023-09-19 13:39:33  1695105573   \n",
       "96          None 2023-09-18 18:09:17  1695035357   \n",
       "97          None 2023-09-18 11:07:24  1695010044   \n",
       "98          None 2023-09-17 17:19:58  1694945998   \n",
       "99          None 2023-09-17 17:07:56  1694945276   \n",
       "\n",
       "                                                image  \\\n",
       "0                                                None   \n",
       "1   https://m.facebook.com/photo/view_full_size/?f...   \n",
       "2   https://scontent.fhan14-1.fna.fbcdn.net/v/t39....   \n",
       "3   https://scontent.fhan14-4.fna.fbcdn.net/v/t39....   \n",
       "4                                                None   \n",
       "..                                                ...   \n",
       "95  https://scontent.fhan14-1.fna.fbcdn.net/v/t39....   \n",
       "96                                               None   \n",
       "97  https://scontent.fhan14-4.fna.fbcdn.net/v/t39....   \n",
       "98                                               None   \n",
       "99  https://scontent.fhan14-4.fna.fbcdn.net/v/t39....   \n",
       "\n",
       "                                     image_lowquality  \\\n",
       "0   https://scontent.fhan14-2.fna.fbcdn.net/v/t15....   \n",
       "1   https://scontent.fhan14-3.fna.fbcdn.net/v/t39....   \n",
       "2   https://scontent.fhan14-1.fna.fbcdn.net/v/t39....   \n",
       "3   https://scontent.fhan14-4.fna.fbcdn.net/v/t39....   \n",
       "4   https://scontent.fhan14-4.fna.fbcdn.net/v/t15....   \n",
       "..                                                ...   \n",
       "95  https://scontent.fhan14-1.fna.fbcdn.net/v/t39....   \n",
       "96  https://scontent.fhan14-3.fna.fbcdn.net/v/t15....   \n",
       "97  https://scontent.fhan14-4.fna.fbcdn.net/v/t39....   \n",
       "98  https://scontent.fhan14-1.fna.fbcdn.net/v/t15....   \n",
       "99  https://scontent.fhan14-4.fna.fbcdn.net/v/t39....   \n",
       "\n",
       "                                               images  ...  \\\n",
       "0                                                  []  ...   \n",
       "1   [https://m.facebook.com/photo/view_full_size/?...  ...   \n",
       "2   [https://scontent.fhan14-1.fna.fbcdn.net/v/t39...  ...   \n",
       "3   [https://scontent.fhan14-4.fna.fbcdn.net/v/t39...  ...   \n",
       "4                                                  []  ...   \n",
       "..                                                ...  ...   \n",
       "95  [https://scontent.fhan14-1.fna.fbcdn.net/v/t39...  ...   \n",
       "96                                                 []  ...   \n",
       "97  [https://scontent.fhan14-4.fna.fbcdn.net/v/t39...  ...   \n",
       "98                                                 []  ...   \n",
       "99  [https://scontent.fhan14-4.fna.fbcdn.net/v/t39...  ...   \n",
       "\n",
       "                                            w3_fb_url  \\\n",
       "0   https://www.facebook.com/duonglendinholympia/p...   \n",
       "1   https://www.facebook.com/duonglendinholympia/p...   \n",
       "2   https://www.facebook.com/duonglendinholympia/p...   \n",
       "3   https://www.facebook.com/duonglendinholympia/p...   \n",
       "4   https://www.facebook.com/duonglendinholympia/p...   \n",
       "..                                                ...   \n",
       "95                                               None   \n",
       "96                                               None   \n",
       "97                                               None   \n",
       "98                                               None   \n",
       "99                                               None   \n",
       "\n",
       "                                            reactions reaction_count  with  \\\n",
       "0                       {'thích': 21, 'yêu thích': 6}             27  None   \n",
       "1   {'thích': 358, 'yêu thích': 210, 'haha': 1, 't...            571  None   \n",
       "2   {'thích': 2222, 'yêu thích': 865, 'haha': 25, ...           3143  None   \n",
       "3   {'thích': 863, 'yêu thích': 302, 'haha': 1, 'w...           1181  None   \n",
       "4   {'thích': 1361, 'yêu thích': 418, 'haha': 140,...           1928  None   \n",
       "..                                                ...            ...   ...   \n",
       "95                                               None              0  None   \n",
       "96                                               None              0  None   \n",
       "97                                               None              0  None   \n",
       "98                                               None              0  None   \n",
       "99                                               None              0  None   \n",
       "\n",
       "            page_id sharers         image_id          image_ids was_live  \\\n",
       "0   174050135951633    None             None                 []    False   \n",
       "1   174050135951633    None  740263764791994  [740263764791994]    False   \n",
       "2   174050135951633    None  739767978174906  [739767978174906]    False   \n",
       "3   174050135951633    None  739721391512898  [739721391512898]    False   \n",
       "4   174050135951633    None             None                 []    False   \n",
       "..              ...     ...              ...                ...      ...   \n",
       "95  174050135951633    None  702783931873311  [702783931873311]    False   \n",
       "96  174050135951633    None             None                 []    False   \n",
       "97  174050135951633    None  702102301941474  [702102301941474]    False   \n",
       "98  174050135951633    None             None                 []    False   \n",
       "99  174050135951633    None  701609408657430  [701609408657430]    False   \n",
       "\n",
       "                 fetched_time  \n",
       "0  2023-11-20 16:11:09.868490  \n",
       "1  2023-11-20 16:11:16.402863  \n",
       "2  2023-11-20 16:11:27.569239  \n",
       "3  2023-11-20 16:11:45.834515  \n",
       "4  2023-11-20 16:11:57.716337  \n",
       "..                        ...  \n",
       "95                        NaT  \n",
       "96                        NaT  \n",
       "97                        NaT  \n",
       "98                        NaT  \n",
       "99                        NaT  \n",
       "\n",
       "[100 rows x 51 columns]"
      ]
     },
     "execution_count": 5,
     "metadata": {},
     "output_type": "execute_result"
    }
   ],
   "source": [
    "post_df_full"
   ]
  }
 ],
 "metadata": {
  "kernelspec": {
   "display_name": "Python 3",
   "language": "python",
   "name": "python3"
  },
  "language_info": {
   "codemirror_mode": {
    "name": "ipython",
    "version": 3
   },
   "file_extension": ".py",
   "mimetype": "text/x-python",
   "name": "python",
   "nbconvert_exporter": "python",
   "pygments_lexer": "ipython3",
   "version": "3.11.5"
  }
 },
 "nbformat": 4,
 "nbformat_minor": 2
}
